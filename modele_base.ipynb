{
 "cells": [
  {
   "cell_type": "markdown",
   "id": "53530c5e",
   "metadata": {},
   "source": [
    "Nous allons, dans ce notebook, réaliser un modèle de base que nous comparerons avec un modèle plus avancé."
   ]
  },
  {
   "cell_type": "markdown",
   "id": "38825fcf",
   "metadata": {},
   "source": [
    "# Import des librairies"
   ]
  },
  {
   "cell_type": "code",
   "execution_count": 1,
   "id": "9f69ef99",
   "metadata": {},
   "outputs": [],
   "source": [
    "# Import libraries\n",
    "import pandas as pd\n",
    "import numpy as np\n",
    "\n",
    "from textblob import TextBlob\n",
    "from afinn import Afinn\n",
    "\n",
    "from sklearn.metrics import confusion_matrix, classification_report, accuracy_score, f1_score\n",
    "from sklearn.model_selection import train_test_split\n",
    "from sklearn.feature_extraction.text import TfidfVectorizer\n",
    "from sklearn.linear_model import LogisticRegression\n",
    "\n",
    "import matplotlib.pyplot as plt\n",
    "from matplotlib.pyplot import figure\n",
    "\n",
    "import seaborn as sns\n",
    "%matplotlib inline"
   ]
  },
  {
   "cell_type": "markdown",
   "id": "94bfdd89",
   "metadata": {},
   "source": [
    "# Import de la data"
   ]
  },
  {
   "cell_type": "code",
   "execution_count": 2,
   "id": "279c35cf",
   "metadata": {},
   "outputs": [
    {
     "data": {
      "text/html": [
       "<div>\n",
       "<style scoped>\n",
       "    .dataframe tbody tr th:only-of-type {\n",
       "        vertical-align: middle;\n",
       "    }\n",
       "\n",
       "    .dataframe tbody tr th {\n",
       "        vertical-align: top;\n",
       "    }\n",
       "\n",
       "    .dataframe thead th {\n",
       "        text-align: right;\n",
       "    }\n",
       "</style>\n",
       "<table border=\"1\" class=\"dataframe\">\n",
       "  <thead>\n",
       "    <tr style=\"text-align: right;\">\n",
       "      <th></th>\n",
       "      <th>sentiment</th>\n",
       "      <th>tweet</th>\n",
       "      <th>tweet_traite</th>\n",
       "      <th>tweet_stemm</th>\n",
       "      <th>tweet_lemm</th>\n",
       "    </tr>\n",
       "  </thead>\n",
       "  <tbody>\n",
       "    <tr>\n",
       "      <th>0</th>\n",
       "      <td>0</td>\n",
       "      <td>@switchfoot http://twitpic.com/2y1zl - Awww, t...</td>\n",
       "      <td>user url that is bummer you should got david c...</td>\n",
       "      <td>user url that is bummer you should got david c...</td>\n",
       "      <td>user url that be bummer you should got david c...</td>\n",
       "    </tr>\n",
       "    <tr>\n",
       "      <th>1</th>\n",
       "      <td>0</td>\n",
       "      <td>is upset that he can't update his Facebook by ...</td>\n",
       "      <td>is upset that he cannot update his facebook by...</td>\n",
       "      <td>is upset that he cannot updat hi facebook by t...</td>\n",
       "      <td>be upset that he can not update his facebook b...</td>\n",
       "    </tr>\n",
       "    <tr>\n",
       "      <th>2</th>\n",
       "      <td>0</td>\n",
       "      <td>@Kenichan I dived many times for the ball. Man...</td>\n",
       "      <td>user dived many times for the ball managed to ...</td>\n",
       "      <td>user dive mani time for the ball manag to save...</td>\n",
       "      <td>user dive many time for the ball manage to sav...</td>\n",
       "    </tr>\n",
       "    <tr>\n",
       "      <th>3</th>\n",
       "      <td>0</td>\n",
       "      <td>my whole body feels itchy and like its on fire</td>\n",
       "      <td>my whole body feels itchy and like it is on fire</td>\n",
       "      <td>my whole bodi feel itchi and like it is on fire</td>\n",
       "      <td>my whole body feel itchy and like it be on fire</td>\n",
       "    </tr>\n",
       "    <tr>\n",
       "      <th>4</th>\n",
       "      <td>0</td>\n",
       "      <td>@nationwideclass no, it's not behaving at all....</td>\n",
       "      <td>user no it is not behaving at all am mad why a...</td>\n",
       "      <td>user no it is not behav at all am mad whi am h...</td>\n",
       "      <td>user no it be not behave at all be mad why be ...</td>\n",
       "    </tr>\n",
       "  </tbody>\n",
       "</table>\n",
       "</div>"
      ],
      "text/plain": [
       "   sentiment                                              tweet  \\\n",
       "0          0  @switchfoot http://twitpic.com/2y1zl - Awww, t...   \n",
       "1          0  is upset that he can't update his Facebook by ...   \n",
       "2          0  @Kenichan I dived many times for the ball. Man...   \n",
       "3          0    my whole body feels itchy and like its on fire    \n",
       "4          0  @nationwideclass no, it's not behaving at all....   \n",
       "\n",
       "                                        tweet_traite  \\\n",
       "0  user url that is bummer you should got david c...   \n",
       "1  is upset that he cannot update his facebook by...   \n",
       "2  user dived many times for the ball managed to ...   \n",
       "3  my whole body feels itchy and like it is on fire    \n",
       "4  user no it is not behaving at all am mad why a...   \n",
       "\n",
       "                                         tweet_stemm  \\\n",
       "0  user url that is bummer you should got david c...   \n",
       "1  is upset that he cannot updat hi facebook by t...   \n",
       "2  user dive mani time for the ball manag to save...   \n",
       "3    my whole bodi feel itchi and like it is on fire   \n",
       "4  user no it is not behav at all am mad whi am h...   \n",
       "\n",
       "                                          tweet_lemm  \n",
       "0  user url that be bummer you should got david c...  \n",
       "1  be upset that he can not update his facebook b...  \n",
       "2  user dive many time for the ball manage to sav...  \n",
       "3    my whole body feel itchy and like it be on fire  \n",
       "4  user no it be not behave at all be mad why be ...  "
      ]
     },
     "execution_count": 2,
     "metadata": {},
     "output_type": "execute_result"
    }
   ],
   "source": [
    "# Import pre-processed data\n",
    "df = pd.read_csv('data/df_preprocessing_final.csv')\n",
    "\n",
    "# Suppression des colonnes inutiles\n",
    "df = df.drop(columns=['user', 'id', 'nombre_mot'])\n",
    "\n",
    "df.head()"
   ]
  },
  {
   "cell_type": "code",
   "execution_count": 3,
   "id": "9f9fb52a",
   "metadata": {},
   "outputs": [],
   "source": [
    "# Nous allons récuperer un sample de notre dataframe\n",
    "row = 500\n",
    "\n",
    "# Permet de garder un équilibrage de la target contrairement à un\n",
    "# .sample() basique\n",
    "df_sample = df.groupby('sentiment').apply(\n",
    "    lambda x: x.sample(n=row, random_state=42))\n",
    "df_sample.reset_index(drop=True, inplace=True)"
   ]
  },
  {
   "cell_type": "code",
   "execution_count": 4,
   "id": "9511ebac",
   "metadata": {},
   "outputs": [
    {
     "name": "stdout",
     "output_type": "stream",
     "text": [
      "(1000, 5)\n",
      "0    500\n",
      "1    500\n",
      "Name: sentiment, dtype: int64\n"
     ]
    },
    {
     "data": {
      "text/html": [
       "<div>\n",
       "<style scoped>\n",
       "    .dataframe tbody tr th:only-of-type {\n",
       "        vertical-align: middle;\n",
       "    }\n",
       "\n",
       "    .dataframe tbody tr th {\n",
       "        vertical-align: top;\n",
       "    }\n",
       "\n",
       "    .dataframe thead th {\n",
       "        text-align: right;\n",
       "    }\n",
       "</style>\n",
       "<table border=\"1\" class=\"dataframe\">\n",
       "  <thead>\n",
       "    <tr style=\"text-align: right;\">\n",
       "      <th></th>\n",
       "      <th>sentiment</th>\n",
       "      <th>tweet</th>\n",
       "      <th>tweet_traite</th>\n",
       "      <th>tweet_stemm</th>\n",
       "      <th>tweet_lemm</th>\n",
       "    </tr>\n",
       "  </thead>\n",
       "  <tbody>\n",
       "    <tr>\n",
       "      <th>0</th>\n",
       "      <td>0</td>\n",
       "      <td>@LeahMul awh, thats not good,   get better soon!</td>\n",
       "      <td>user awh that is not good get better soon</td>\n",
       "      <td>user awh that is not good get better soon</td>\n",
       "      <td>user awh that be not good get well soon</td>\n",
       "    </tr>\n",
       "    <tr>\n",
       "      <th>1</th>\n",
       "      <td>0</td>\n",
       "      <td>I need a job</td>\n",
       "      <td>need job</td>\n",
       "      <td>need job</td>\n",
       "      <td>need job</td>\n",
       "    </tr>\n",
       "    <tr>\n",
       "      <th>2</th>\n",
       "      <td>0</td>\n",
       "      <td>i am pretty sure i have swine flu  woohooo one...</td>\n",
       "      <td>am pretty sure have swine flu woohooo one tes...</td>\n",
       "      <td>am pretti sure have swine flu woohooo one tes...</td>\n",
       "      <td>be pretty sure have swine flu woohooo one tes...</td>\n",
       "    </tr>\n",
       "    <tr>\n",
       "      <th>3</th>\n",
       "      <td>0</td>\n",
       "      <td>GLG will never EVER be the same</td>\n",
       "      <td>glg will never ever be the same</td>\n",
       "      <td>glg will never ever be the same</td>\n",
       "      <td>glg will never ever be the same</td>\n",
       "    </tr>\n",
       "    <tr>\n",
       "      <th>4</th>\n",
       "      <td>0</td>\n",
       "      <td>Enjoying my last days w/ my 1 year old  Where ...</td>\n",
       "      <td>enjoying my last days my year old where does t...</td>\n",
       "      <td>enjoy my last day my year old where doe the fr...</td>\n",
       "      <td>enjoy my last day my year old where do the frk...</td>\n",
       "    </tr>\n",
       "  </tbody>\n",
       "</table>\n",
       "</div>"
      ],
      "text/plain": [
       "   sentiment                                              tweet  \\\n",
       "0          0   @LeahMul awh, thats not good,   get better soon!   \n",
       "1          0                                      I need a job    \n",
       "2          0  i am pretty sure i have swine flu  woohooo one...   \n",
       "3          0                   GLG will never EVER be the same    \n",
       "4          0  Enjoying my last days w/ my 1 year old  Where ...   \n",
       "\n",
       "                                        tweet_traite  \\\n",
       "0         user awh that is not good get better soon    \n",
       "1                                          need job    \n",
       "2   am pretty sure have swine flu woohooo one tes...   \n",
       "3                   glg will never ever be the same    \n",
       "4  enjoying my last days my year old where does t...   \n",
       "\n",
       "                                         tweet_stemm  \\\n",
       "0          user awh that is not good get better soon   \n",
       "1                                           need job   \n",
       "2   am pretti sure have swine flu woohooo one tes...   \n",
       "3                    glg will never ever be the same   \n",
       "4  enjoy my last day my year old where doe the fr...   \n",
       "\n",
       "                                          tweet_lemm  \n",
       "0            user awh that be not good get well soon  \n",
       "1                                           need job  \n",
       "2   be pretty sure have swine flu woohooo one tes...  \n",
       "3                    glg will never ever be the same  \n",
       "4  enjoy my last day my year old where do the frk...  "
      ]
     },
     "execution_count": 4,
     "metadata": {},
     "output_type": "execute_result"
    }
   ],
   "source": [
    "print(df_sample.shape)\n",
    "print(df_sample.sentiment.value_counts())\n",
    "df_sample.head()"
   ]
  },
  {
   "cell_type": "markdown",
   "id": "2c6d63d4",
   "metadata": {},
   "source": [
    "Un rappel du nettoyage effectué sur chaque tweet.\n",
    "\n",
    "- **tweet** : Tweets bruts\n",
    "- **tweet_traite** : Nettoyage général (contraction, abrégé, ponctuation, etc.)\n",
    "- **tweet_stemm** : Tweets traités qui ont été racisés\n",
    "- **tweet_lemm**: Tweets traités qui ont été lemmatisés"
   ]
  },
  {
   "cell_type": "markdown",
   "id": "11e4e853",
   "metadata": {},
   "source": [
    "Exportons notre dataframe samplée pour avoir à peu près les mêmes résultats lors de notre développement."
   ]
  },
  {
   "cell_type": "code",
   "execution_count": 5,
   "id": "b075e848",
   "metadata": {},
   "outputs": [],
   "source": [
    "df_sample.to_csv('data/df_model_base.csv', index=False)\n",
    "# df_sample = pd.read_csv('data/df_model_base.csv')"
   ]
  },
  {
   "cell_type": "markdown",
   "id": "1fa2994a",
   "metadata": {},
   "source": [
    "# Analyse sentiment"
   ]
  },
  {
   "cell_type": "markdown",
   "id": "2f6e05d7",
   "metadata": {},
   "source": [
    "## Modèle pré-entrainé"
   ]
  },
  {
   "cell_type": "markdown",
   "id": "adb6007b",
   "metadata": {},
   "source": [
    "### TextBlob"
   ]
  },
  {
   "cell_type": "markdown",
   "id": "fdca1921",
   "metadata": {},
   "source": [
    "**TextBlob** est un module NLP sur Python utilisé pour **l’analyse de sentiment**. La fonction de TextBlob qui nous intéresse permet pour un texte **donné de déterminer le ton du texte et le sentiment de l'utilisateur**."
   ]
  },
  {
   "cell_type": "markdown",
   "id": "df627e1f",
   "metadata": {},
   "source": [
    "Faisons un premier test avec un sentiment négatif inventé."
   ]
  },
  {
   "cell_type": "code",
   "execution_count": 6,
   "id": "495388fd",
   "metadata": {},
   "outputs": [
    {
     "name": "stdout",
     "output_type": "stream",
     "text": [
      "Sentiment(polarity=-0.4549999999999999, subjectivity=0.43333333333333335)\n",
      "Sentiment(polarity=0.6000000000000001, subjectivity=0.9)\n"
     ]
    }
   ],
   "source": [
    "tweet_negatif = \"This restaurant is very, very bad and I think I will never go back there\"\n",
    "tweet_positif = 'This restaurant is really amazing'\n",
    "print(TextBlob(tweet_negatif).sentiment)\n",
    "print(TextBlob(tweet_positif).sentiment)"
   ]
  },
  {
   "cell_type": "markdown",
   "id": "0f2c0965",
   "metadata": {},
   "source": [
    "**La polarité** va d'une déclaration **négative (-1)** à une déclaration **positive (1)**.\n",
    "\n",
    "**La subjectivité**, indique dans quelle mesure la phrase est **factuelle (0)** ou empreinte **une opinion (1)**."
   ]
  },
  {
   "cell_type": "markdown",
   "id": "e17315bd",
   "metadata": {},
   "source": [
    "TextBlob a bien détecté le sentiment du tweet, nous passerons sur sa subjectivité qui n'est pas le sujet de ce projet."
   ]
  },
  {
   "cell_type": "markdown",
   "id": "23e13bcd",
   "metadata": {},
   "source": [
    "Nous allons maintenant utiliser Textblob pour chaque tweet (traités, lemm et stemm).\n",
    "\n",
    "Puis nous pourrons ensuite comparer la qualité de la prédiction en fonction du type de tweet."
   ]
  },
  {
   "cell_type": "code",
   "execution_count": 7,
   "id": "06c4d6b8",
   "metadata": {},
   "outputs": [],
   "source": [
    "df_sample_txtblob = df_sample.copy()"
   ]
  },
  {
   "cell_type": "code",
   "execution_count": 8,
   "id": "349cd3e9",
   "metadata": {},
   "outputs": [],
   "source": [
    "# Cette fonction applique textblob sur chaque tweet pour ensuite\n",
    "# remplacé les valeurs supérieures à 0 par 1 et inférieures à 0 par 0\n",
    "def prediction_textblob(df, tweet_type_colonne, prediction_type):\n",
    "    df[prediction_type] = df[tweet_type_colonne].apply(\n",
    "        lambda tweet: TextBlob(tweet).sentiment[0])\n",
    "\n",
    "    df.loc[df[prediction_type] > 0, prediction_type] = 1\n",
    "    df.loc[df[prediction_type] < 0, prediction_type] = 0\n",
    "\n",
    "    df[prediction_type] = df[prediction_type].astype(int)\n",
    "\n",
    "    return df[prediction_type]"
   ]
  },
  {
   "cell_type": "code",
   "execution_count": 9,
   "id": "551768b5",
   "metadata": {},
   "outputs": [],
   "source": [
    "df_sample_txtblob[\"TextBlob+brute\"] = prediction_textblob(\n",
    "    df_sample_txtblob, \"tweet\", \"pred_brute_txtblob\")\n",
    "df_sample_txtblob[\"TextBlob+traite\"] = prediction_textblob(\n",
    "    df_sample_txtblob, \"tweet_traite\", \"pred_traite_txtblob\")\n",
    "df_sample_txtblob[\"TextBlob+stemm\"] = prediction_textblob(\n",
    "    df_sample_txtblob, \"tweet_stemm\", \"pred_stemm_txtblob\")\n",
    "df_sample_txtblob[\"TextBlob+lemm\"] = prediction_textblob(\n",
    "    df_sample_txtblob, \"tweet_lemm\", \"pred_lemm_txtblob\")"
   ]
  },
  {
   "cell_type": "code",
   "execution_count": 10,
   "id": "86de2a24",
   "metadata": {},
   "outputs": [
    {
     "data": {
      "text/html": [
       "<div>\n",
       "<style scoped>\n",
       "    .dataframe tbody tr th:only-of-type {\n",
       "        vertical-align: middle;\n",
       "    }\n",
       "\n",
       "    .dataframe tbody tr th {\n",
       "        vertical-align: top;\n",
       "    }\n",
       "\n",
       "    .dataframe thead th {\n",
       "        text-align: right;\n",
       "    }\n",
       "</style>\n",
       "<table border=\"1\" class=\"dataframe\">\n",
       "  <thead>\n",
       "    <tr style=\"text-align: right;\">\n",
       "      <th></th>\n",
       "      <th>sentiment</th>\n",
       "      <th>tweet</th>\n",
       "      <th>tweet_traite</th>\n",
       "      <th>tweet_stemm</th>\n",
       "      <th>tweet_lemm</th>\n",
       "      <th>pred_brute_txtblob</th>\n",
       "      <th>TextBlob+brute</th>\n",
       "      <th>pred_traite_txtblob</th>\n",
       "      <th>TextBlob+traite</th>\n",
       "      <th>pred_stemm_txtblob</th>\n",
       "      <th>TextBlob+stemm</th>\n",
       "      <th>pred_lemm_txtblob</th>\n",
       "      <th>TextBlob+lemm</th>\n",
       "    </tr>\n",
       "  </thead>\n",
       "  <tbody>\n",
       "    <tr>\n",
       "      <th>0</th>\n",
       "      <td>0</td>\n",
       "      <td>@LeahMul awh, thats not good,   get better soon!</td>\n",
       "      <td>user awh that is not good get better soon</td>\n",
       "      <td>user awh that is not good get better soon</td>\n",
       "      <td>user awh that be not good get well soon</td>\n",
       "      <td>1</td>\n",
       "      <td>1</td>\n",
       "      <td>1</td>\n",
       "      <td>1</td>\n",
       "      <td>1</td>\n",
       "      <td>1</td>\n",
       "      <td>0</td>\n",
       "      <td>0</td>\n",
       "    </tr>\n",
       "    <tr>\n",
       "      <th>1</th>\n",
       "      <td>0</td>\n",
       "      <td>I need a job</td>\n",
       "      <td>need job</td>\n",
       "      <td>need job</td>\n",
       "      <td>need job</td>\n",
       "      <td>0</td>\n",
       "      <td>0</td>\n",
       "      <td>0</td>\n",
       "      <td>0</td>\n",
       "      <td>0</td>\n",
       "      <td>0</td>\n",
       "      <td>0</td>\n",
       "      <td>0</td>\n",
       "    </tr>\n",
       "    <tr>\n",
       "      <th>2</th>\n",
       "      <td>0</td>\n",
       "      <td>i am pretty sure i have swine flu  woohooo one...</td>\n",
       "      <td>am pretty sure have swine flu woohooo one tes...</td>\n",
       "      <td>am pretti sure have swine flu woohooo one tes...</td>\n",
       "      <td>be pretty sure have swine flu woohooo one tes...</td>\n",
       "      <td>1</td>\n",
       "      <td>1</td>\n",
       "      <td>1</td>\n",
       "      <td>1</td>\n",
       "      <td>1</td>\n",
       "      <td>1</td>\n",
       "      <td>1</td>\n",
       "      <td>1</td>\n",
       "    </tr>\n",
       "    <tr>\n",
       "      <th>3</th>\n",
       "      <td>0</td>\n",
       "      <td>GLG will never EVER be the same</td>\n",
       "      <td>glg will never ever be the same</td>\n",
       "      <td>glg will never ever be the same</td>\n",
       "      <td>glg will never ever be the same</td>\n",
       "      <td>0</td>\n",
       "      <td>0</td>\n",
       "      <td>0</td>\n",
       "      <td>0</td>\n",
       "      <td>0</td>\n",
       "      <td>0</td>\n",
       "      <td>0</td>\n",
       "      <td>0</td>\n",
       "    </tr>\n",
       "    <tr>\n",
       "      <th>4</th>\n",
       "      <td>0</td>\n",
       "      <td>Enjoying my last days w/ my 1 year old  Where ...</td>\n",
       "      <td>enjoying my last days my year old where does t...</td>\n",
       "      <td>enjoy my last day my year old where doe the fr...</td>\n",
       "      <td>enjoy my last day my year old where do the frk...</td>\n",
       "      <td>1</td>\n",
       "      <td>1</td>\n",
       "      <td>1</td>\n",
       "      <td>1</td>\n",
       "      <td>1</td>\n",
       "      <td>1</td>\n",
       "      <td>1</td>\n",
       "      <td>1</td>\n",
       "    </tr>\n",
       "    <tr>\n",
       "      <th>...</th>\n",
       "      <td>...</td>\n",
       "      <td>...</td>\n",
       "      <td>...</td>\n",
       "      <td>...</td>\n",
       "      <td>...</td>\n",
       "      <td>...</td>\n",
       "      <td>...</td>\n",
       "      <td>...</td>\n",
       "      <td>...</td>\n",
       "      <td>...</td>\n",
       "      <td>...</td>\n",
       "      <td>...</td>\n",
       "      <td>...</td>\n",
       "    </tr>\n",
       "    <tr>\n",
       "      <th>995</th>\n",
       "      <td>1</td>\n",
       "      <td>@movinmeat Yes, but I think you may be in town...</td>\n",
       "      <td>user yes but think you may be in town at the s...</td>\n",
       "      <td>user ye but think you may be in town at the sa...</td>\n",
       "      <td>user yes but think you may be in town at the s...</td>\n",
       "      <td>0</td>\n",
       "      <td>0</td>\n",
       "      <td>0</td>\n",
       "      <td>0</td>\n",
       "      <td>0</td>\n",
       "      <td>0</td>\n",
       "      <td>0</td>\n",
       "      <td>0</td>\n",
       "    </tr>\n",
       "    <tr>\n",
       "      <th>996</th>\n",
       "      <td>1</td>\n",
       "      <td>@michxxblc oh..i have tons of pics of uk too! ...</td>\n",
       "      <td>user oh have tons of pics of uk too dublin and...</td>\n",
       "      <td>user oh have ton of pic of uk too dublin and b...</td>\n",
       "      <td>user oh have ton of pic of uk too dublin and b...</td>\n",
       "      <td>0</td>\n",
       "      <td>0</td>\n",
       "      <td>0</td>\n",
       "      <td>0</td>\n",
       "      <td>0</td>\n",
       "      <td>0</td>\n",
       "      <td>0</td>\n",
       "      <td>0</td>\n",
       "    </tr>\n",
       "    <tr>\n",
       "      <th>997</th>\n",
       "      <td>1</td>\n",
       "      <td>@Oprah i'm watching your show right now</td>\n",
       "      <td>user am watching your show right now</td>\n",
       "      <td>user am watch your show right now</td>\n",
       "      <td>user be watch your show right now</td>\n",
       "      <td>1</td>\n",
       "      <td>1</td>\n",
       "      <td>1</td>\n",
       "      <td>1</td>\n",
       "      <td>1</td>\n",
       "      <td>1</td>\n",
       "      <td>1</td>\n",
       "      <td>1</td>\n",
       "    </tr>\n",
       "    <tr>\n",
       "      <th>998</th>\n",
       "      <td>1</td>\n",
       "      <td>@NickkMuch lol! Who you babysittin?  x</td>\n",
       "      <td>user who you babysittin</td>\n",
       "      <td>user who you babysittin</td>\n",
       "      <td>user who you babysittin</td>\n",
       "      <td>1</td>\n",
       "      <td>1</td>\n",
       "      <td>0</td>\n",
       "      <td>0</td>\n",
       "      <td>0</td>\n",
       "      <td>0</td>\n",
       "      <td>0</td>\n",
       "      <td>0</td>\n",
       "    </tr>\n",
       "    <tr>\n",
       "      <th>999</th>\n",
       "      <td>1</td>\n",
       "      <td>@greeneyesco Aw! We wish you could make it, bu...</td>\n",
       "      <td>user aw we wish you could make it but we promi...</td>\n",
       "      <td>user aw we wish you could make it but we promi...</td>\n",
       "      <td>user aw we wish you could make it but we promi...</td>\n",
       "      <td>0</td>\n",
       "      <td>0</td>\n",
       "      <td>0</td>\n",
       "      <td>0</td>\n",
       "      <td>0</td>\n",
       "      <td>0</td>\n",
       "      <td>0</td>\n",
       "      <td>0</td>\n",
       "    </tr>\n",
       "  </tbody>\n",
       "</table>\n",
       "<p>1000 rows × 13 columns</p>\n",
       "</div>"
      ],
      "text/plain": [
       "     sentiment                                              tweet  \\\n",
       "0            0   @LeahMul awh, thats not good,   get better soon!   \n",
       "1            0                                      I need a job    \n",
       "2            0  i am pretty sure i have swine flu  woohooo one...   \n",
       "3            0                   GLG will never EVER be the same    \n",
       "4            0  Enjoying my last days w/ my 1 year old  Where ...   \n",
       "..         ...                                                ...   \n",
       "995          1  @movinmeat Yes, but I think you may be in town...   \n",
       "996          1  @michxxblc oh..i have tons of pics of uk too! ...   \n",
       "997          1           @Oprah i'm watching your show right now    \n",
       "998          1             @NickkMuch lol! Who you babysittin?  x   \n",
       "999          1  @greeneyesco Aw! We wish you could make it, bu...   \n",
       "\n",
       "                                          tweet_traite  \\\n",
       "0           user awh that is not good get better soon    \n",
       "1                                            need job    \n",
       "2     am pretty sure have swine flu woohooo one tes...   \n",
       "3                     glg will never ever be the same    \n",
       "4    enjoying my last days my year old where does t...   \n",
       "..                                                 ...   \n",
       "995  user yes but think you may be in town at the s...   \n",
       "996  user oh have tons of pics of uk too dublin and...   \n",
       "997              user am watching your show right now    \n",
       "998                           user who you babysittin    \n",
       "999  user aw we wish you could make it but we promi...   \n",
       "\n",
       "                                           tweet_stemm  \\\n",
       "0            user awh that is not good get better soon   \n",
       "1                                             need job   \n",
       "2     am pretti sure have swine flu woohooo one tes...   \n",
       "3                      glg will never ever be the same   \n",
       "4    enjoy my last day my year old where doe the fr...   \n",
       "..                                                 ...   \n",
       "995  user ye but think you may be in town at the sa...   \n",
       "996  user oh have ton of pic of uk too dublin and b...   \n",
       "997                  user am watch your show right now   \n",
       "998                           user who you babysittin    \n",
       "999  user aw we wish you could make it but we promi...   \n",
       "\n",
       "                                            tweet_lemm  pred_brute_txtblob  \\\n",
       "0              user awh that be not good get well soon                   1   \n",
       "1                                             need job                   0   \n",
       "2     be pretty sure have swine flu woohooo one tes...                   1   \n",
       "3                      glg will never ever be the same                   0   \n",
       "4    enjoy my last day my year old where do the frk...                   1   \n",
       "..                                                 ...                 ...   \n",
       "995  user yes but think you may be in town at the s...                   0   \n",
       "996  user oh have ton of pic of uk too dublin and b...                   0   \n",
       "997                  user be watch your show right now                   1   \n",
       "998                           user who you babysittin                    1   \n",
       "999  user aw we wish you could make it but we promi...                   0   \n",
       "\n",
       "     TextBlob+brute  pred_traite_txtblob  TextBlob+traite  pred_stemm_txtblob  \\\n",
       "0                 1                    1                1                   1   \n",
       "1                 0                    0                0                   0   \n",
       "2                 1                    1                1                   1   \n",
       "3                 0                    0                0                   0   \n",
       "4                 1                    1                1                   1   \n",
       "..              ...                  ...              ...                 ...   \n",
       "995               0                    0                0                   0   \n",
       "996               0                    0                0                   0   \n",
       "997               1                    1                1                   1   \n",
       "998               1                    0                0                   0   \n",
       "999               0                    0                0                   0   \n",
       "\n",
       "     TextBlob+stemm  pred_lemm_txtblob  TextBlob+lemm  \n",
       "0                 1                  0              0  \n",
       "1                 0                  0              0  \n",
       "2                 1                  1              1  \n",
       "3                 0                  0              0  \n",
       "4                 1                  1              1  \n",
       "..              ...                ...            ...  \n",
       "995               0                  0              0  \n",
       "996               0                  0              0  \n",
       "997               1                  1              1  \n",
       "998               0                  0              0  \n",
       "999               0                  0              0  \n",
       "\n",
       "[1000 rows x 13 columns]"
      ]
     },
     "execution_count": 10,
     "metadata": {},
     "output_type": "execute_result"
    }
   ],
   "source": [
    "df_sample_txtblob"
   ]
  },
  {
   "cell_type": "markdown",
   "id": "e2250a0e",
   "metadata": {},
   "source": [
    "#### Matrice de confusion"
   ]
  },
  {
   "cell_type": "markdown",
   "id": "730eba4c",
   "metadata": {},
   "source": [
    "Voyons maintenant la matrice de confusion pour chaque colonne, nous pourrons alors déterminer quel type de tweet TextBlob prédit le plus correctement le sentiment.\n",
    "\n",
    "Nous utilisons la métrique **f1 score** qui permet de prendre en compte les faux positifs et faux négatifs dans le calcul du score."
   ]
  },
  {
   "cell_type": "code",
   "execution_count": 11,
   "id": "016d476b",
   "metadata": {},
   "outputs": [],
   "source": [
    "liste_prediction_type_txtblob = [\n",
    "    \"TextBlob+brute\", \"TextBlob+traite\", \"TextBlob+stemm\", \"TextBlob+lemm\"\n",
    "]"
   ]
  },
  {
   "cell_type": "code",
   "execution_count": 12,
   "id": "c62a5051",
   "metadata": {},
   "outputs": [],
   "source": [
    "def matrice_confusion(df, prediction_type):\n",
    "    y_true = list(df[\"sentiment\"])\n",
    "    y_pred = list(df[prediction_type])\n",
    "\n",
    "    cf_matrix = confusion_matrix(y_true, y_pred)\n",
    "    score_f1 = f1_score(y_true, y_pred)\n",
    "    score_acc = accuracy_score(y_true, y_pred)\n",
    "    print(\"Score f1 \" + str(score_f1))\n",
    "    print(\"Score acc \" + str(score_acc))\n",
    "    # Rends les valeurs de la matrice sous forme de pourcentage\n",
    "    ax = sns.heatmap(cf_matrix / np.sum(cf_matrix),\n",
    "                     annot=True,\n",
    "                     fmt='.2%',\n",
    "                     cmap='Blues')\n",
    "\n",
    "    ax.set_title(prediction_type)\n",
    "    ax.set_xlabel('Prediction')\n",
    "    ax.set_ylabel('Target')\n",
    "\n",
    "    ax.xaxis.set_ticklabels(['negatif', 'positif'])\n",
    "    ax.yaxis.set_ticklabels(['negatif', 'positif'])\n",
    "\n",
    "    plt.show()\n",
    "    return score_f1, score_acc"
   ]
  },
  {
   "cell_type": "code",
   "execution_count": 13,
   "id": "7f5f984f",
   "metadata": {},
   "outputs": [
    {
     "name": "stdout",
     "output_type": "stream",
     "text": [
      "Score f1 0.6023329798515377\n",
      "Score acc 0.625\n"
     ]
    },
    {
     "data": {
      "image/png": "[encoded data removed]",
      "text/plain": [
       "<Figure size 432x288 with 2 Axes>"
      ]
     },
     "metadata": {
      "needs_background": "light"
     },
     "output_type": "display_data"
    },
    {
     "name": "stdout",
     "output_type": "stream",
     "text": [
      "Score f1 0.6023329798515377\n",
      "Score acc 0.625\n"
     ]
    },
    {
     "data": {
      "image/png": "[encoded data removed]",
      "text/plain": [
       "<Figure size 432x288 with 2 Axes>"
      ]
     },
     "metadata": {
      "needs_background": "light"
     },
     "output_type": "display_data"
    },
    {
     "name": "stdout",
     "output_type": "stream",
     "text": [
      "Score f1 0.5844155844155845\n",
      "Score acc 0.616\n"
     ]
    },
    {
     "data": {
      "image/png": "[encoded data removed]",
      "text/plain": [
       "<Figure size 432x288 with 2 Axes>"
      ]
     },
     "metadata": {
      "needs_background": "light"
     },
     "output_type": "display_data"
    },
    {
     "name": "stdout",
     "output_type": "stream",
     "text": [
      "Score f1 0.5844155844155845\n",
      "Score acc 0.616\n"
     ]
    },
    {
     "data": {
      "image/png": "[encoded data removed]",
      "text/plain": [
       "<Figure size 432x288 with 2 Axes>"
      ]
     },
     "metadata": {
      "needs_background": "light"
     },
     "output_type": "display_data"
    },
    {
     "name": "stdout",
     "output_type": "stream",
     "text": [
      "Score f1 0.496437054631829\n",
      "Score acc 0.576\n"
     ]
    },
    {
     "data": {
      "image/png": "[encoded data removed]",
      "text/plain": [
       "<Figure size 432x288 with 2 Axes>"
      ]
     },
     "metadata": {
      "needs_background": "light"
     },
     "output_type": "display_data"
    },
    {
     "name": "stdout",
     "output_type": "stream",
     "text": [
      "Score f1 0.496437054631829\n",
      "Score acc 0.576\n"
     ]
    },
    {
     "data": {
      "image/png": "[encoded data removed]",
      "text/plain": [
       "<Figure size 432x288 with 2 Axes>"
      ]
     },
     "metadata": {
      "needs_background": "light"
     },
     "output_type": "display_data"
    },
    {
     "name": "stdout",
     "output_type": "stream",
     "text": [
      "Score f1 0.5701754385964912\n",
      "Score acc 0.608\n"
     ]
    },
    {
     "data": {
      "image/png": "[encoded data removed]",
      "text/plain": [
       "<Figure size 432x288 with 2 Axes>"
      ]
     },
     "metadata": {
      "needs_background": "light"
     },
     "output_type": "display_data"
    },
    {
     "name": "stdout",
     "output_type": "stream",
     "text": [
      "Score f1 0.5701754385964912\n",
      "Score acc 0.608\n"
     ]
    },
    {
     "data": {
      "image/png": "[encoded data removed]",
      "text/plain": [
       "<Figure size 432x288 with 2 Axes>"
      ]
     },
     "metadata": {
      "needs_background": "light"
     },
     "output_type": "display_data"
    }
   ],
   "source": [
    "dict_score_txtblob = {}\n",
    "for i in liste_prediction_type_txtblob:\n",
    "    score_f1, score_acc = matrice_confusion(df_sample_txtblob, i)\n",
    "    dict_score_txtblob[i] = [score_f1, score_acc]\n",
    "    matrice_confusion(df_sample_txtblob, i)\n",
    "\n",
    "# Range le dictionnaire dans l'ordre croisant (sur les valeurs)\n",
    "dict_score_txtblob = dict(\n",
    "    sorted(dict_score_txtblob.items(), key=lambda item: item[1]))"
   ]
  },
  {
   "cell_type": "code",
   "execution_count": 47,
   "id": "b9ba13db",
   "metadata": {},
   "outputs": [
    {
     "data": {
      "text/plain": [
       "{'TextBlob+stemm': [0.496437054631829, 0.576],\n",
       " 'TextBlob+lemm': [0.5701754385964912, 0.608],\n",
       " 'TextBlob+traite': [0.5844155844155845, 0.616],\n",
       " 'TextBlob+brute': [0.6023329798515377, 0.625]}"
      ]
     },
     "execution_count": 47,
     "metadata": {},
     "output_type": "execute_result"
    }
   ],
   "source": [
    "dict_score_txtblob"
   ]
  },
  {
   "cell_type": "markdown",
   "id": "0c22825b",
   "metadata": {},
   "source": [
    "Nous pouvons voir que TextBlob a eu le meilleur score avec la colonne des tweets bruts, pouvons nous penser que moins nous nettoyons un tweet, plus le sentiment est facilement prédictible ?\n",
    "\n",
    "Voyons voir avec une autre méthode d'analyse de sentiment, **Afinn**."
   ]
  },
  {
   "cell_type": "markdown",
   "id": "a3683d39",
   "metadata": {},
   "source": [
    "### Afinn"
   ]
  },
  {
   "cell_type": "markdown",
   "id": "a43854ab",
   "metadata": {},
   "source": [
    "Le lexique AFINN est une liste de termes anglais dont la version actuelle contient plus de 3 300 mots, chacun étant associé à un score de sentiment que nous pouvons obtenir à l’aide de la méthode **score** de la classe Afinn."
   ]
  },
  {
   "cell_type": "markdown",
   "id": "30d1742c",
   "metadata": {},
   "source": [
    "Testons comme avec **TextBlob**, la prediction de **Afinn**."
   ]
  },
  {
   "cell_type": "code",
   "execution_count": 15,
   "id": "08618722",
   "metadata": {},
   "outputs": [
    {
     "name": "stdout",
     "output_type": "stream",
     "text": [
      "-3.0\n",
      "4.0\n"
     ]
    }
   ],
   "source": [
    "tweet_negatif = \"This restaurant is very, very bad and I think I will never go back there\"\n",
    "tweet_positif = 'This restaurant is really amazing'\n",
    "afinn = Afinn()\n",
    "print(afinn.score(tweet_negatif))\n",
    "print(afinn.score(tweet_positif))"
   ]
  },
  {
   "cell_type": "markdown",
   "id": "594bbf36",
   "metadata": {},
   "source": [
    "Comme pour TextBlob, si le score est supérieur à 0, le tweet est prédit comme positif, si inférieur à 0, comme négatif. Les prédictions sur les deux phrases de test sont correctes, voyons maintenant ce que ça donne sur toute la dataframe."
   ]
  },
  {
   "cell_type": "code",
   "execution_count": 16,
   "id": "14f31004",
   "metadata": {},
   "outputs": [],
   "source": [
    "df_sample_afinn = df_sample.copy()"
   ]
  },
  {
   "cell_type": "code",
   "execution_count": 17,
   "id": "eeb4cd09",
   "metadata": {},
   "outputs": [],
   "source": [
    "def prediction_afinn(df, tweet_type_colonne, prediction_type):\n",
    "\n",
    "    afinn_scores = [afinn.score(text) for text in df[tweet_type_colonne]]\n",
    "    df[prediction_type] = afinn_scores\n",
    "\n",
    "    df.loc[df[prediction_type] > 0, prediction_type] = 1\n",
    "    df.loc[df[prediction_type] < 0, prediction_type] = 0\n",
    "\n",
    "    df[prediction_type] = df[prediction_type].astype(int)\n",
    "\n",
    "    return df[prediction_type]"
   ]
  },
  {
   "cell_type": "code",
   "execution_count": 18,
   "id": "7b55bc53",
   "metadata": {},
   "outputs": [],
   "source": [
    "df_sample_afinn[\"Afinn+brute\"] = prediction_afinn(df_sample_afinn, \"tweet\",\n",
    "                                                  \"pred_brute_afinn\")\n",
    "df_sample_afinn[\"Afinn+traite\"] = prediction_afinn(df_sample_afinn,\n",
    "                                                   \"tweet_traite\",\n",
    "                                                   \"pred_traite_afinn\")\n",
    "df_sample_afinn[\"Afinn+stemm\"] = prediction_afinn(df_sample_afinn,\n",
    "                                                  \"tweet_stemm\",\n",
    "                                                  \"pred_stemm_afinn\")\n",
    "df_sample_afinn[\"Afinn+lemm\"] = prediction_afinn(df_sample_afinn, \"tweet_lemm\",\n",
    "                                                 \"pred_lemm_afinn\")"
   ]
  },
  {
   "cell_type": "code",
   "execution_count": 19,
   "id": "f2221411",
   "metadata": {},
   "outputs": [
    {
     "data": {
      "text/html": [
       "<div>\n",
       "<style scoped>\n",
       "    .dataframe tbody tr th:only-of-type {\n",
       "        vertical-align: middle;\n",
       "    }\n",
       "\n",
       "    .dataframe tbody tr th {\n",
       "        vertical-align: top;\n",
       "    }\n",
       "\n",
       "    .dataframe thead th {\n",
       "        text-align: right;\n",
       "    }\n",
       "</style>\n",
       "<table border=\"1\" class=\"dataframe\">\n",
       "  <thead>\n",
       "    <tr style=\"text-align: right;\">\n",
       "      <th></th>\n",
       "      <th>sentiment</th>\n",
       "      <th>tweet</th>\n",
       "      <th>tweet_traite</th>\n",
       "      <th>tweet_stemm</th>\n",
       "      <th>tweet_lemm</th>\n",
       "      <th>pred_brute_afinn</th>\n",
       "      <th>Afinn+brute</th>\n",
       "      <th>pred_traite_afinn</th>\n",
       "      <th>Afinn+traite</th>\n",
       "      <th>pred_stemm_afinn</th>\n",
       "      <th>Afinn+stemm</th>\n",
       "      <th>pred_lemm_afinn</th>\n",
       "      <th>Afinn+lemm</th>\n",
       "    </tr>\n",
       "  </thead>\n",
       "  <tbody>\n",
       "    <tr>\n",
       "      <th>0</th>\n",
       "      <td>0</td>\n",
       "      <td>@LeahMul awh, thats not good,   get better soon!</td>\n",
       "      <td>user awh that is not good get better soon</td>\n",
       "      <td>user awh that is not good get better soon</td>\n",
       "      <td>user awh that be not good get well soon</td>\n",
       "      <td>0</td>\n",
       "      <td>0</td>\n",
       "      <td>0</td>\n",
       "      <td>0</td>\n",
       "      <td>0</td>\n",
       "      <td>0</td>\n",
       "      <td>0</td>\n",
       "      <td>0</td>\n",
       "    </tr>\n",
       "    <tr>\n",
       "      <th>1</th>\n",
       "      <td>0</td>\n",
       "      <td>I need a job</td>\n",
       "      <td>need job</td>\n",
       "      <td>need job</td>\n",
       "      <td>need job</td>\n",
       "      <td>0</td>\n",
       "      <td>0</td>\n",
       "      <td>0</td>\n",
       "      <td>0</td>\n",
       "      <td>0</td>\n",
       "      <td>0</td>\n",
       "      <td>0</td>\n",
       "      <td>0</td>\n",
       "    </tr>\n",
       "    <tr>\n",
       "      <th>2</th>\n",
       "      <td>0</td>\n",
       "      <td>i am pretty sure i have swine flu  woohooo one...</td>\n",
       "      <td>am pretty sure have swine flu woohooo one tes...</td>\n",
       "      <td>am pretti sure have swine flu woohooo one tes...</td>\n",
       "      <td>be pretty sure have swine flu woohooo one tes...</td>\n",
       "      <td>0</td>\n",
       "      <td>0</td>\n",
       "      <td>0</td>\n",
       "      <td>0</td>\n",
       "      <td>0</td>\n",
       "      <td>0</td>\n",
       "      <td>0</td>\n",
       "      <td>0</td>\n",
       "    </tr>\n",
       "    <tr>\n",
       "      <th>3</th>\n",
       "      <td>0</td>\n",
       "      <td>GLG will never EVER be the same</td>\n",
       "      <td>glg will never ever be the same</td>\n",
       "      <td>glg will never ever be the same</td>\n",
       "      <td>glg will never ever be the same</td>\n",
       "      <td>0</td>\n",
       "      <td>0</td>\n",
       "      <td>0</td>\n",
       "      <td>0</td>\n",
       "      <td>0</td>\n",
       "      <td>0</td>\n",
       "      <td>0</td>\n",
       "      <td>0</td>\n",
       "    </tr>\n",
       "    <tr>\n",
       "      <th>4</th>\n",
       "      <td>0</td>\n",
       "      <td>Enjoying my last days w/ my 1 year old  Where ...</td>\n",
       "      <td>enjoying my last days my year old where does t...</td>\n",
       "      <td>enjoy my last day my year old where doe the fr...</td>\n",
       "      <td>enjoy my last day my year old where do the frk...</td>\n",
       "      <td>0</td>\n",
       "      <td>0</td>\n",
       "      <td>0</td>\n",
       "      <td>0</td>\n",
       "      <td>0</td>\n",
       "      <td>0</td>\n",
       "      <td>0</td>\n",
       "      <td>0</td>\n",
       "    </tr>\n",
       "    <tr>\n",
       "      <th>...</th>\n",
       "      <td>...</td>\n",
       "      <td>...</td>\n",
       "      <td>...</td>\n",
       "      <td>...</td>\n",
       "      <td>...</td>\n",
       "      <td>...</td>\n",
       "      <td>...</td>\n",
       "      <td>...</td>\n",
       "      <td>...</td>\n",
       "      <td>...</td>\n",
       "      <td>...</td>\n",
       "      <td>...</td>\n",
       "      <td>...</td>\n",
       "    </tr>\n",
       "    <tr>\n",
       "      <th>995</th>\n",
       "      <td>1</td>\n",
       "      <td>@movinmeat Yes, but I think you may be in town...</td>\n",
       "      <td>user yes but think you may be in town at the s...</td>\n",
       "      <td>user ye but think you may be in town at the sa...</td>\n",
       "      <td>user yes but think you may be in town at the s...</td>\n",
       "      <td>1</td>\n",
       "      <td>1</td>\n",
       "      <td>1</td>\n",
       "      <td>1</td>\n",
       "      <td>0</td>\n",
       "      <td>0</td>\n",
       "      <td>1</td>\n",
       "      <td>1</td>\n",
       "    </tr>\n",
       "    <tr>\n",
       "      <th>996</th>\n",
       "      <td>1</td>\n",
       "      <td>@michxxblc oh..i have tons of pics of uk too! ...</td>\n",
       "      <td>user oh have tons of pics of uk too dublin and...</td>\n",
       "      <td>user oh have ton of pic of uk too dublin and b...</td>\n",
       "      <td>user oh have ton of pic of uk too dublin and b...</td>\n",
       "      <td>0</td>\n",
       "      <td>0</td>\n",
       "      <td>0</td>\n",
       "      <td>0</td>\n",
       "      <td>0</td>\n",
       "      <td>0</td>\n",
       "      <td>0</td>\n",
       "      <td>0</td>\n",
       "    </tr>\n",
       "    <tr>\n",
       "      <th>997</th>\n",
       "      <td>1</td>\n",
       "      <td>@Oprah i'm watching your show right now</td>\n",
       "      <td>user am watching your show right now</td>\n",
       "      <td>user am watch your show right now</td>\n",
       "      <td>user be watch your show right now</td>\n",
       "      <td>0</td>\n",
       "      <td>0</td>\n",
       "      <td>0</td>\n",
       "      <td>0</td>\n",
       "      <td>0</td>\n",
       "      <td>0</td>\n",
       "      <td>0</td>\n",
       "      <td>0</td>\n",
       "    </tr>\n",
       "    <tr>\n",
       "      <th>998</th>\n",
       "      <td>1</td>\n",
       "      <td>@NickkMuch lol! Who you babysittin?  x</td>\n",
       "      <td>user who you babysittin</td>\n",
       "      <td>user who you babysittin</td>\n",
       "      <td>user who you babysittin</td>\n",
       "      <td>1</td>\n",
       "      <td>1</td>\n",
       "      <td>0</td>\n",
       "      <td>0</td>\n",
       "      <td>0</td>\n",
       "      <td>0</td>\n",
       "      <td>0</td>\n",
       "      <td>0</td>\n",
       "    </tr>\n",
       "    <tr>\n",
       "      <th>999</th>\n",
       "      <td>1</td>\n",
       "      <td>@greeneyesco Aw! We wish you could make it, bu...</td>\n",
       "      <td>user aw we wish you could make it but we promi...</td>\n",
       "      <td>user aw we wish you could make it but we promi...</td>\n",
       "      <td>user aw we wish you could make it but we promi...</td>\n",
       "      <td>1</td>\n",
       "      <td>1</td>\n",
       "      <td>1</td>\n",
       "      <td>1</td>\n",
       "      <td>1</td>\n",
       "      <td>1</td>\n",
       "      <td>1</td>\n",
       "      <td>1</td>\n",
       "    </tr>\n",
       "  </tbody>\n",
       "</table>\n",
       "<p>1000 rows × 13 columns</p>\n",
       "</div>"
      ],
      "text/plain": [
       "     sentiment                                              tweet  \\\n",
       "0            0   @LeahMul awh, thats not good,   get better soon!   \n",
       "1            0                                      I need a job    \n",
       "2            0  i am pretty sure i have swine flu  woohooo one...   \n",
       "3            0                   GLG will never EVER be the same    \n",
       "4            0  Enjoying my last days w/ my 1 year old  Where ...   \n",
       "..         ...                                                ...   \n",
       "995          1  @movinmeat Yes, but I think you may be in town...   \n",
       "996          1  @michxxblc oh..i have tons of pics of uk too! ...   \n",
       "997          1           @Oprah i'm watching your show right now    \n",
       "998          1             @NickkMuch lol! Who you babysittin?  x   \n",
       "999          1  @greeneyesco Aw! We wish you could make it, bu...   \n",
       "\n",
       "                                          tweet_traite  \\\n",
       "0           user awh that is not good get better soon    \n",
       "1                                            need job    \n",
       "2     am pretty sure have swine flu woohooo one tes...   \n",
       "3                     glg will never ever be the same    \n",
       "4    enjoying my last days my year old where does t...   \n",
       "..                                                 ...   \n",
       "995  user yes but think you may be in town at the s...   \n",
       "996  user oh have tons of pics of uk too dublin and...   \n",
       "997              user am watching your show right now    \n",
       "998                           user who you babysittin    \n",
       "999  user aw we wish you could make it but we promi...   \n",
       "\n",
       "                                           tweet_stemm  \\\n",
       "0            user awh that is not good get better soon   \n",
       "1                                             need job   \n",
       "2     am pretti sure have swine flu woohooo one tes...   \n",
       "3                      glg will never ever be the same   \n",
       "4    enjoy my last day my year old where doe the fr...   \n",
       "..                                                 ...   \n",
       "995  user ye but think you may be in town at the sa...   \n",
       "996  user oh have ton of pic of uk too dublin and b...   \n",
       "997                  user am watch your show right now   \n",
       "998                           user who you babysittin    \n",
       "999  user aw we wish you could make it but we promi...   \n",
       "\n",
       "                                            tweet_lemm  pred_brute_afinn  \\\n",
       "0              user awh that be not good get well soon                 0   \n",
       "1                                             need job                 0   \n",
       "2     be pretty sure have swine flu woohooo one tes...                 0   \n",
       "3                      glg will never ever be the same                 0   \n",
       "4    enjoy my last day my year old where do the frk...                 0   \n",
       "..                                                 ...               ...   \n",
       "995  user yes but think you may be in town at the s...                 1   \n",
       "996  user oh have ton of pic of uk too dublin and b...                 0   \n",
       "997                  user be watch your show right now                 0   \n",
       "998                           user who you babysittin                  1   \n",
       "999  user aw we wish you could make it but we promi...                 1   \n",
       "\n",
       "     Afinn+brute  pred_traite_afinn  Afinn+traite  pred_stemm_afinn  \\\n",
       "0              0                  0             0                 0   \n",
       "1              0                  0             0                 0   \n",
       "2              0                  0             0                 0   \n",
       "3              0                  0             0                 0   \n",
       "4              0                  0             0                 0   \n",
       "..           ...                ...           ...               ...   \n",
       "995            1                  1             1                 0   \n",
       "996            0                  0             0                 0   \n",
       "997            0                  0             0                 0   \n",
       "998            1                  0             0                 0   \n",
       "999            1                  1             1                 1   \n",
       "\n",
       "     Afinn+stemm  pred_lemm_afinn  Afinn+lemm  \n",
       "0              0                0           0  \n",
       "1              0                0           0  \n",
       "2              0                0           0  \n",
       "3              0                0           0  \n",
       "4              0                0           0  \n",
       "..           ...              ...         ...  \n",
       "995            0                1           1  \n",
       "996            0                0           0  \n",
       "997            0                0           0  \n",
       "998            0                0           0  \n",
       "999            1                1           1  \n",
       "\n",
       "[1000 rows x 13 columns]"
      ]
     },
     "execution_count": 19,
     "metadata": {},
     "output_type": "execute_result"
    }
   ],
   "source": [
    "df_sample_afinn"
   ]
  },
  {
   "cell_type": "markdown",
   "id": "0a47b160",
   "metadata": {},
   "source": [
    "#### Matrice de confusion"
   ]
  },
  {
   "cell_type": "code",
   "execution_count": 20,
   "id": "0b643971",
   "metadata": {},
   "outputs": [],
   "source": [
    "liste_prediction_type_afinn = [\n",
    "    \"Afinn+brute\", \"Afinn+traite\", \"Afinn+stemm\", \"Afinn+lemm\"\n",
    "]"
   ]
  },
  {
   "cell_type": "code",
   "execution_count": 21,
   "id": "ce66f617",
   "metadata": {},
   "outputs": [
    {
     "name": "stdout",
     "output_type": "stream",
     "text": [
      "Score f1 0.6244635193133048\n",
      "Score acc 0.65\n"
     ]
    },
    {
     "data": {
      "image/png": "[encoded data removed]",
      "text/plain": [
       "<Figure size 432x288 with 2 Axes>"
      ]
     },
     "metadata": {
      "needs_background": "light"
     },
     "output_type": "display_data"
    },
    {
     "name": "stdout",
     "output_type": "stream",
     "text": [
      "Score f1 0.6244635193133048\n",
      "Score acc 0.65\n"
     ]
    },
    {
     "data": {
      "image/png": "[encoded data removed]",
      "text/plain": [
       "<Figure size 432x288 with 2 Axes>"
      ]
     },
     "metadata": {
      "needs_background": "light"
     },
     "output_type": "display_data"
    },
    {
     "name": "stdout",
     "output_type": "stream",
     "text": [
      "Score f1 0.6214442013129102\n",
      "Score acc 0.654\n"
     ]
    },
    {
     "data": {
      "image/png": "[encoded data removed]",
      "text/plain": [
       "<Figure size 432x288 with 2 Axes>"
      ]
     },
     "metadata": {
      "needs_background": "light"
     },
     "output_type": "display_data"
    },
    {
     "name": "stdout",
     "output_type": "stream",
     "text": [
      "Score f1 0.6214442013129102\n",
      "Score acc 0.654\n"
     ]
    },
    {
     "data": {
      "image/png": "[encoded data removed]",
      "text/plain": [
       "<Figure size 432x288 with 2 Axes>"
      ]
     },
     "metadata": {
      "needs_background": "light"
     },
     "output_type": "display_data"
    },
    {
     "name": "stdout",
     "output_type": "stream",
     "text": [
      "Score f1 0.5542725173210162\n",
      "Score acc 0.614\n"
     ]
    },
    {
     "data": {
      "image/png": "[encoded data removed]",
      "text/plain": [
       "<Figure size 432x288 with 2 Axes>"
      ]
     },
     "metadata": {
      "needs_background": "light"
     },
     "output_type": "display_data"
    },
    {
     "name": "stdout",
     "output_type": "stream",
     "text": [
      "Score f1 0.5542725173210162\n",
      "Score acc 0.614\n"
     ]
    },
    {
     "data": {
      "image/png": "[encoded data removed]",
      "text/plain": [
       "<Figure size 432x288 with 2 Axes>"
      ]
     },
     "metadata": {
      "needs_background": "light"
     },
     "output_type": "display_data"
    },
    {
     "name": "stdout",
     "output_type": "stream",
     "text": [
      "Score f1 0.6232356134636264\n",
      "Score acc 0.653\n"
     ]
    },
    {
     "data": {
      "image/png": "[encoded data removed]",
      "text/plain": [
       "<Figure size 432x288 with 2 Axes>"
      ]
     },
     "metadata": {
      "needs_background": "light"
     },
     "output_type": "display_data"
    },
    {
     "name": "stdout",
     "output_type": "stream",
     "text": [
      "Score f1 0.6232356134636264\n",
      "Score acc 0.653\n"
     ]
    },
    {
     "data": {
      "image/png": "[encoded data removed]",
      "text/plain": [
       "<Figure size 432x288 with 2 Axes>"
      ]
     },
     "metadata": {
      "needs_background": "light"
     },
     "output_type": "display_data"
    }
   ],
   "source": [
    "dict_score_afinn = {}\n",
    "for i in liste_prediction_type_afinn:\n",
    "    score_f1, score_acc = matrice_confusion(df_sample_afinn, i)\n",
    "    dict_score_afinn[i] = [score_f1, score_acc]\n",
    "    matrice_confusion(df_sample_afinn, i)\n",
    "\n",
    "# Range le dictionnaire dans l'ordre croisant (sur les valeurs)\n",
    "dict_score_afinn = dict(\n",
    "    sorted(dict_score_afinn.items(), key=lambda item: item[1]))"
   ]
  },
  {
   "cell_type": "code",
   "execution_count": 46,
   "id": "152131be",
   "metadata": {},
   "outputs": [
    {
     "data": {
      "text/plain": [
       "{'Afinn+stemm': [0.5542725173210162, 0.614],\n",
       " 'Afinn+traite': [0.6214442013129102, 0.654],\n",
       " 'Afinn+lemm': [0.6232356134636264, 0.653],\n",
       " 'Afinn+brute': [0.6244635193133048, 0.65]}"
      ]
     },
     "execution_count": 46,
     "metadata": {},
     "output_type": "execute_result"
    }
   ],
   "source": [
    "dict_score_afinn"
   ]
  },
  {
   "cell_type": "markdown",
   "id": "e24bed55",
   "metadata": {},
   "source": [
    "Le modèle de prédiction avec **Afinn** donne un score plus élevé."
   ]
  },
  {
   "cell_type": "markdown",
   "id": "8f3223d1",
   "metadata": {},
   "source": [
    "Il est intéressant de voir que pour nos deux modèles, ce sont les tweets bruts sans aucun nettoyage qui ont permis à nos modèles de prédire les sentiments.\n",
    "\n",
    "Voyons maintenant ce que nous pouvons obtenir avec un modèle assez basique entrainé par nous même."
   ]
  },
  {
   "cell_type": "markdown",
   "id": "d0298ec4",
   "metadata": {},
   "source": [
    "## Régression logistique"
   ]
  },
  {
   "cell_type": "markdown",
   "id": "114b19cb",
   "metadata": {},
   "source": [
    "Commençons à entrainer notre modèle.\n",
    "\n",
    "Importons nos données."
   ]
  },
  {
   "cell_type": "code",
   "execution_count": 24,
   "id": "62558f1a",
   "metadata": {},
   "outputs": [],
   "source": [
    "# Nous allons récupérer un sample de notre dataframe\n",
    "row = 1500\n",
    "\n",
    "# Permets de garder un équilibrage de la target contrairement à un\n",
    "# .sample() basique\n",
    "df_sample = df.groupby('sentiment').apply(\n",
    "    lambda x: x.sample(n=row, random_state=42))\n",
    "df_sample.reset_index(drop=True, inplace=True)"
   ]
  },
  {
   "cell_type": "code",
   "execution_count": 25,
   "id": "fc8495d5",
   "metadata": {},
   "outputs": [
    {
     "name": "stdout",
     "output_type": "stream",
     "text": [
      "(3000, 5)\n",
      "0    1500\n",
      "1    1500\n",
      "Name: sentiment, dtype: int64\n"
     ]
    },
    {
     "data": {
      "text/html": [
       "<div>\n",
       "<style scoped>\n",
       "    .dataframe tbody tr th:only-of-type {\n",
       "        vertical-align: middle;\n",
       "    }\n",
       "\n",
       "    .dataframe tbody tr th {\n",
       "        vertical-align: top;\n",
       "    }\n",
       "\n",
       "    .dataframe thead th {\n",
       "        text-align: right;\n",
       "    }\n",
       "</style>\n",
       "<table border=\"1\" class=\"dataframe\">\n",
       "  <thead>\n",
       "    <tr style=\"text-align: right;\">\n",
       "      <th></th>\n",
       "      <th>sentiment</th>\n",
       "      <th>tweet</th>\n",
       "      <th>tweet_traite</th>\n",
       "      <th>tweet_stemm</th>\n",
       "      <th>tweet_lemm</th>\n",
       "    </tr>\n",
       "  </thead>\n",
       "  <tbody>\n",
       "    <tr>\n",
       "      <th>0</th>\n",
       "      <td>0</td>\n",
       "      <td>@LeahMul awh, thats not good,   get better soon!</td>\n",
       "      <td>user awh that is not good get better soon</td>\n",
       "      <td>user awh that is not good get better soon</td>\n",
       "      <td>user awh that be not good get well soon</td>\n",
       "    </tr>\n",
       "    <tr>\n",
       "      <th>1</th>\n",
       "      <td>0</td>\n",
       "      <td>I need a job</td>\n",
       "      <td>need job</td>\n",
       "      <td>need job</td>\n",
       "      <td>need job</td>\n",
       "    </tr>\n",
       "    <tr>\n",
       "      <th>2</th>\n",
       "      <td>0</td>\n",
       "      <td>i am pretty sure i have swine flu  woohooo one...</td>\n",
       "      <td>am pretty sure have swine flu woohooo one tes...</td>\n",
       "      <td>am pretti sure have swine flu woohooo one tes...</td>\n",
       "      <td>be pretty sure have swine flu woohooo one tes...</td>\n",
       "    </tr>\n",
       "    <tr>\n",
       "      <th>3</th>\n",
       "      <td>0</td>\n",
       "      <td>GLG will never EVER be the same</td>\n",
       "      <td>glg will never ever be the same</td>\n",
       "      <td>glg will never ever be the same</td>\n",
       "      <td>glg will never ever be the same</td>\n",
       "    </tr>\n",
       "    <tr>\n",
       "      <th>4</th>\n",
       "      <td>0</td>\n",
       "      <td>Enjoying my last days w/ my 1 year old  Where ...</td>\n",
       "      <td>enjoying my last days my year old where does t...</td>\n",
       "      <td>enjoy my last day my year old where doe the fr...</td>\n",
       "      <td>enjoy my last day my year old where do the frk...</td>\n",
       "    </tr>\n",
       "  </tbody>\n",
       "</table>\n",
       "</div>"
      ],
      "text/plain": [
       "   sentiment                                              tweet  \\\n",
       "0          0   @LeahMul awh, thats not good,   get better soon!   \n",
       "1          0                                      I need a job    \n",
       "2          0  i am pretty sure i have swine flu  woohooo one...   \n",
       "3          0                   GLG will never EVER be the same    \n",
       "4          0  Enjoying my last days w/ my 1 year old  Where ...   \n",
       "\n",
       "                                        tweet_traite  \\\n",
       "0         user awh that is not good get better soon    \n",
       "1                                          need job    \n",
       "2   am pretty sure have swine flu woohooo one tes...   \n",
       "3                   glg will never ever be the same    \n",
       "4  enjoying my last days my year old where does t...   \n",
       "\n",
       "                                         tweet_stemm  \\\n",
       "0          user awh that is not good get better soon   \n",
       "1                                           need job   \n",
       "2   am pretti sure have swine flu woohooo one tes...   \n",
       "3                    glg will never ever be the same   \n",
       "4  enjoy my last day my year old where doe the fr...   \n",
       "\n",
       "                                          tweet_lemm  \n",
       "0            user awh that be not good get well soon  \n",
       "1                                           need job  \n",
       "2   be pretty sure have swine flu woohooo one tes...  \n",
       "3                    glg will never ever be the same  \n",
       "4  enjoy my last day my year old where do the frk...  "
      ]
     },
     "execution_count": 25,
     "metadata": {},
     "output_type": "execute_result"
    }
   ],
   "source": [
    "print(df_sample.shape)\n",
    "print(df_sample.sentiment.value_counts())\n",
    "df_sample.head()"
   ]
  },
  {
   "cell_type": "code",
   "execution_count": 26,
   "id": "a369c6d2",
   "metadata": {},
   "outputs": [],
   "source": [
    "df_modele = df_sample.copy()\n",
    "# Nous stockerons dans ce dictionnaire les scores obtenus pour chaque\n",
    "# type de nettoyage de tweet\n",
    "dict_type_tweet = {}"
   ]
  },
  {
   "cell_type": "code",
   "execution_count": 27,
   "id": "a08891fe",
   "metadata": {},
   "outputs": [],
   "source": [
    "# Sépare les données afin d'obtenir 90% de données pour l'entrainement\n",
    "# et 10% pour les tests\n",
    "X = df_modele.tweet\n",
    "y = df_modele.sentiment\n",
    "X_train, X_test, y_train, y_test = train_test_split(X,\n",
    "                                                    y,\n",
    "                                                    test_size=0.1,\n",
    "                                                    random_state=26105111)"
   ]
  },
  {
   "cell_type": "markdown",
   "id": "4253efe0",
   "metadata": {},
   "source": [
    "Nous allons maintenant vectoriser nos tweets avec TfidfVectorizer."
   ]
  },
  {
   "cell_type": "code",
   "execution_count": 28,
   "id": "1619a915",
   "metadata": {},
   "outputs": [
    {
     "name": "stdout",
     "output_type": "stream",
     "text": [
      "No. of feature_words:  30620\n"
     ]
    },
    {
     "name": "stderr",
     "output_type": "stream",
     "text": [
      "/home/reda/anaconda3/envs/P7/lib/python3.10/site-packages/sklearn/utils/deprecation.py:87: FutureWarning: Function get_feature_names is deprecated; get_feature_names is deprecated in 1.0 and will be removed in 1.2. Please use get_feature_names_out instead.\n",
      "  warnings.warn(msg, category=FutureWarning)\n"
     ]
    }
   ],
   "source": [
    "vectoriser = TfidfVectorizer(ngram_range=(1, 2))\n",
    "vectoriser.fit(X_train)\n",
    "print('No. of feature_words: ', len(vectoriser.get_feature_names()))"
   ]
  },
  {
   "cell_type": "code",
   "execution_count": 29,
   "id": "022decb8",
   "metadata": {},
   "outputs": [],
   "source": [
    "X_train = vectoriser.transform(X_train)\n",
    "X_test = vectoriser.transform(X_test)"
   ]
  },
  {
   "cell_type": "markdown",
   "id": "80aa8030",
   "metadata": {},
   "source": [
    "Notre modèle est maintenant entrainé, voyons voir les résultats."
   ]
  },
  {
   "cell_type": "code",
   "execution_count": 30,
   "id": "4a6a8f75",
   "metadata": {},
   "outputs": [],
   "source": [
    "LRmodel = LogisticRegression(C=2, n_jobs=4)\n",
    "LRmodel.fit(X_train, y_train)\n",
    "\n",
    "# Prédis les valeurs de l'ensemble de données de test\n",
    "y_pred = LRmodel.predict(X_test)"
   ]
  },
  {
   "cell_type": "code",
   "execution_count": 31,
   "id": "af4169ec",
   "metadata": {},
   "outputs": [
    {
     "name": "stdout",
     "output_type": "stream",
     "text": [
      "0.7189542483660132 0.7133333333333334\n"
     ]
    },
    {
     "data": {
      "image/png": "[encoded data removed]",
      "text/plain": [
       "<Figure size 432x288 with 2 Axes>"
      ]
     },
     "metadata": {
      "needs_background": "light"
     },
     "output_type": "display_data"
    }
   ],
   "source": [
    "# Calculer et tracer la matrice de confusion\n",
    "cf_matrix = confusion_matrix(y_test, y_pred)\n",
    "categories = ['Negative', 'Positive']\n",
    "\n",
    "# Convertis les prédictions en pourcentages\n",
    "percentages = [\n",
    "    '{0:.1%}'.format(value)\n",
    "    for value in cf_matrix.flatten() / np.sum(cf_matrix)\n",
    "]\n",
    "\n",
    "labels = [f'{percent}' for percent in percentages]\n",
    "labels = np.asarray(labels).reshape(2, 2)\n",
    "\n",
    "sns.heatmap(cf_matrix,\n",
    "            annot=labels,\n",
    "            cmap='Blues',\n",
    "            fmt='',\n",
    "            xticklabels=categories,\n",
    "            yticklabels=categories)\n",
    "\n",
    "plt.xlabel(\"Prediction\", fontdict={'size': 14})\n",
    "plt.ylabel(\"Target\", fontdict={'size': 14})\n",
    "plt.title(\"Tweet Brute\", fontdict={'size': 18})\n",
    "print(f1_score(y_test, y_pred), accuracy_score(y_test, y_pred))"
   ]
  },
  {
   "cell_type": "code",
   "execution_count": 32,
   "id": "dd562b55",
   "metadata": {},
   "outputs": [],
   "source": [
    "# Nous stockons le score dans notre dictionnaire\n",
    "dict_type_tweet[\"LR+tweet_brute\"] = [\n",
    "    f1_score(y_test, y_pred),\n",
    "    accuracy_score(y_test, y_pred)\n",
    "]"
   ]
  },
  {
   "cell_type": "markdown",
   "id": "4d727aa5",
   "metadata": {},
   "source": [
    "Nous allons maintenant créer deux fonctions pour facilement entrainer et obtenir nos résultats sur les prochains modèles."
   ]
  },
  {
   "cell_type": "code",
   "execution_count": 33,
   "id": "034176b0",
   "metadata": {},
   "outputs": [],
   "source": [
    "def model(type_tweet):\n",
    "\n",
    "    X = df_modele[type_tweet]\n",
    "    y = df_modele.sentiment\n",
    "    X_train, X_test, y_train, y_test = train_test_split(X, y, test_size=0.2)\n",
    "\n",
    "    vectoriser = TfidfVectorizer(ngram_range=(1, 2))\n",
    "    vectoriser.fit(X_train)\n",
    "\n",
    "    X_train = vectoriser.transform(X_train)\n",
    "    X_test = vectoriser.transform(X_test)\n",
    "\n",
    "    LRmodel = LogisticRegression(C=2, max_iter=1000, n_jobs=-1)\n",
    "    LRmodel.fit(X_train, y_train)\n",
    "\n",
    "    # Prédis les valeurs de l'ensemble de données de test\n",
    "    y_pred = LRmodel.predict(X_test)\n",
    "\n",
    "    # Calculer et tracer la matrice de confusion\n",
    "    cf_matrix = confusion_matrix(y_test, y_pred)\n",
    "    categories = ['Negative', 'Positive']\n",
    "\n",
    "    # Convertis les prédictions en pourcentages\n",
    "    percentages = [\n",
    "        '{0:.1%}'.format(value)\n",
    "        for value in cf_matrix.flatten() / np.sum(cf_matrix)\n",
    "    ]\n",
    "\n",
    "    labels = [f'{percent}' for percent in percentages]\n",
    "    labels = np.asarray(labels).reshape(2, 2)\n",
    "\n",
    "    sns.heatmap(cf_matrix,\n",
    "                annot=labels,\n",
    "                cmap='Blues',\n",
    "                fmt='',\n",
    "                xticklabels=categories,\n",
    "                yticklabels=categories)\n",
    "\n",
    "    plt.xlabel(\"Prediction\", fontdict={'size': 14})\n",
    "    plt.ylabel(\"Target\", fontdict={'size': 14})\n",
    "    plt.title(type_tweet, fontdict={'size': 18})\n",
    "    plt.show()\n",
    "    return f1_score(y_test, y_pred), accuracy_score(y_test, y_pred)"
   ]
  },
  {
   "cell_type": "code",
   "execution_count": 34,
   "id": "25100247",
   "metadata": {},
   "outputs": [],
   "source": [
    "liste_prediction_type_model = [\"tweet_traite\", \"tweet_stemm\", \"tweet_lemm\"]"
   ]
  },
  {
   "cell_type": "code",
   "execution_count": 35,
   "id": "84159119",
   "metadata": {},
   "outputs": [
    {
     "data": {
      "image/png": "[encoded data removed]",
      "text/plain": [
       "<Figure size 432x288 with 2 Axes>"
      ]
     },
     "metadata": {
      "needs_background": "light"
     },
     "output_type": "display_data"
    },
    {
     "data": {
      "image/png": "[encoded data removed]",
      "text/plain": [
       "<Figure size 432x288 with 2 Axes>"
      ]
     },
     "metadata": {
      "needs_background": "light"
     },
     "output_type": "display_data"
    },
    {
     "data": {
      "image/png": "[encoded data removed]",
      "text/plain": [
       "<Figure size 432x288 with 2 Axes>"
      ]
     },
     "metadata": {
      "needs_background": "light"
     },
     "output_type": "display_data"
    }
   ],
   "source": [
    "for i in liste_prediction_type_model:\n",
    "    score_f1, score_acc = model(i)\n",
    "    dict_type_tweet[\"LR+\" + i] = [score_f1, score_acc]"
   ]
  },
  {
   "cell_type": "code",
   "execution_count": 42,
   "id": "39b8530a",
   "metadata": {},
   "outputs": [
    {
     "name": "stderr",
     "output_type": "stream",
     "text": [
      "/tmp/ipykernel_961/3055109459.py:6: FutureWarning: The frame.append method is deprecated and will be removed from pandas in a future version. Use pandas.concat instead.\n",
      "  df_classement_model = df_classement_model.append(\n",
      "/tmp/ipykernel_961/3055109459.py:6: FutureWarning: The frame.append method is deprecated and will be removed from pandas in a future version. Use pandas.concat instead.\n",
      "  df_classement_model = df_classement_model.append(\n",
      "/tmp/ipykernel_961/3055109459.py:6: FutureWarning: The frame.append method is deprecated and will be removed from pandas in a future version. Use pandas.concat instead.\n",
      "  df_classement_model = df_classement_model.append(\n",
      "/tmp/ipykernel_961/3055109459.py:6: FutureWarning: The frame.append method is deprecated and will be removed from pandas in a future version. Use pandas.concat instead.\n",
      "  df_classement_model = df_classement_model.append(\n",
      "/tmp/ipykernel_961/3055109459.py:6: FutureWarning: The frame.append method is deprecated and will be removed from pandas in a future version. Use pandas.concat instead.\n",
      "  df_classement_model = df_classement_model.append(\n",
      "/tmp/ipykernel_961/3055109459.py:6: FutureWarning: The frame.append method is deprecated and will be removed from pandas in a future version. Use pandas.concat instead.\n",
      "  df_classement_model = df_classement_model.append(\n",
      "/tmp/ipykernel_961/3055109459.py:6: FutureWarning: The frame.append method is deprecated and will be removed from pandas in a future version. Use pandas.concat instead.\n",
      "  df_classement_model = df_classement_model.append(\n",
      "/tmp/ipykernel_961/3055109459.py:6: FutureWarning: The frame.append method is deprecated and will be removed from pandas in a future version. Use pandas.concat instead.\n",
      "  df_classement_model = df_classement_model.append(\n",
      "/tmp/ipykernel_961/3055109459.py:6: FutureWarning: The frame.append method is deprecated and will be removed from pandas in a future version. Use pandas.concat instead.\n",
      "  df_classement_model = df_classement_model.append(\n",
      "/tmp/ipykernel_961/3055109459.py:6: FutureWarning: The frame.append method is deprecated and will be removed from pandas in a future version. Use pandas.concat instead.\n",
      "  df_classement_model = df_classement_model.append(\n",
      "/tmp/ipykernel_961/3055109459.py:6: FutureWarning: The frame.append method is deprecated and will be removed from pandas in a future version. Use pandas.concat instead.\n",
      "  df_classement_model = df_classement_model.append(\n",
      "/tmp/ipykernel_961/3055109459.py:6: FutureWarning: The frame.append method is deprecated and will be removed from pandas in a future version. Use pandas.concat instead.\n",
      "  df_classement_model = df_classement_model.append(\n"
     ]
    }
   ],
   "source": [
    "liste_dicte = [dict_type_tweet, dict_score_afinn, dict_score_txtblob]\n",
    "df_classement_model = pd.DataFrame(columns=['model', 'f1_score', 'accuracy'])\n",
    "\n",
    "for dicte in liste_dicte:\n",
    "    for key, values in dicte.items():\n",
    "        df_classement_model = df_classement_model.append(\n",
    "            {\n",
    "                'model': key,\n",
    "                'f1_score': values[0],\n",
    "                'accuracy': values[1]\n",
    "            },\n",
    "            ignore_index=True)"
   ]
  },
  {
   "cell_type": "code",
   "execution_count": 43,
   "id": "805e8789",
   "metadata": {},
   "outputs": [
    {
     "data": {
      "text/html": [
       "<div>\n",
       "<style scoped>\n",
       "    .dataframe tbody tr th:only-of-type {\n",
       "        vertical-align: middle;\n",
       "    }\n",
       "\n",
       "    .dataframe tbody tr th {\n",
       "        vertical-align: top;\n",
       "    }\n",
       "\n",
       "    .dataframe thead th {\n",
       "        text-align: right;\n",
       "    }\n",
       "</style>\n",
       "<table border=\"1\" class=\"dataframe\">\n",
       "  <thead>\n",
       "    <tr style=\"text-align: right;\">\n",
       "      <th></th>\n",
       "      <th>model</th>\n",
       "      <th>f1_score</th>\n",
       "      <th>accuracy</th>\n",
       "    </tr>\n",
       "  </thead>\n",
       "  <tbody>\n",
       "    <tr>\n",
       "      <th>0</th>\n",
       "      <td>LR+tweet_brute</td>\n",
       "      <td>0.718954</td>\n",
       "      <td>0.713333</td>\n",
       "    </tr>\n",
       "    <tr>\n",
       "      <th>1</th>\n",
       "      <td>LR+tweet_lemm</td>\n",
       "      <td>0.730897</td>\n",
       "      <td>0.730000</td>\n",
       "    </tr>\n",
       "    <tr>\n",
       "      <th>2</th>\n",
       "      <td>LR+tweet_traite</td>\n",
       "      <td>0.742097</td>\n",
       "      <td>0.741667</td>\n",
       "    </tr>\n",
       "    <tr>\n",
       "      <th>3</th>\n",
       "      <td>LR+tweet_stemm</td>\n",
       "      <td>0.752053</td>\n",
       "      <td>0.748333</td>\n",
       "    </tr>\n",
       "    <tr>\n",
       "      <th>4</th>\n",
       "      <td>Afinn+stemm</td>\n",
       "      <td>0.554273</td>\n",
       "      <td>0.614000</td>\n",
       "    </tr>\n",
       "    <tr>\n",
       "      <th>5</th>\n",
       "      <td>Afinn+traite</td>\n",
       "      <td>0.621444</td>\n",
       "      <td>0.654000</td>\n",
       "    </tr>\n",
       "    <tr>\n",
       "      <th>6</th>\n",
       "      <td>Afinn+lemm</td>\n",
       "      <td>0.623236</td>\n",
       "      <td>0.653000</td>\n",
       "    </tr>\n",
       "    <tr>\n",
       "      <th>7</th>\n",
       "      <td>Afinn+brute</td>\n",
       "      <td>0.624464</td>\n",
       "      <td>0.650000</td>\n",
       "    </tr>\n",
       "    <tr>\n",
       "      <th>8</th>\n",
       "      <td>TextBlob+stemm</td>\n",
       "      <td>0.496437</td>\n",
       "      <td>0.576000</td>\n",
       "    </tr>\n",
       "    <tr>\n",
       "      <th>9</th>\n",
       "      <td>TextBlob+lemm</td>\n",
       "      <td>0.570175</td>\n",
       "      <td>0.608000</td>\n",
       "    </tr>\n",
       "    <tr>\n",
       "      <th>10</th>\n",
       "      <td>TextBlob+traite</td>\n",
       "      <td>0.584416</td>\n",
       "      <td>0.616000</td>\n",
       "    </tr>\n",
       "    <tr>\n",
       "      <th>11</th>\n",
       "      <td>TextBlob+brute</td>\n",
       "      <td>0.602333</td>\n",
       "      <td>0.625000</td>\n",
       "    </tr>\n",
       "  </tbody>\n",
       "</table>\n",
       "</div>"
      ],
      "text/plain": [
       "              model  f1_score  accuracy\n",
       "0    LR+tweet_brute  0.718954  0.713333\n",
       "1     LR+tweet_lemm  0.730897  0.730000\n",
       "2   LR+tweet_traite  0.742097  0.741667\n",
       "3    LR+tweet_stemm  0.752053  0.748333\n",
       "4       Afinn+stemm  0.554273  0.614000\n",
       "5      Afinn+traite  0.621444  0.654000\n",
       "6        Afinn+lemm  0.623236  0.653000\n",
       "7       Afinn+brute  0.624464  0.650000\n",
       "8    TextBlob+stemm  0.496437  0.576000\n",
       "9     TextBlob+lemm  0.570175  0.608000\n",
       "10  TextBlob+traite  0.584416  0.616000\n",
       "11   TextBlob+brute  0.602333  0.625000"
      ]
     },
     "execution_count": 43,
     "metadata": {},
     "output_type": "execute_result"
    }
   ],
   "source": [
    "df_classement_model"
   ]
  },
  {
   "cell_type": "code",
   "execution_count": 44,
   "id": "85000c6c",
   "metadata": {},
   "outputs": [
    {
     "data": {
      "text/plain": [
       "<AxesSubplot:ylabel='model'>"
      ]
     },
     "execution_count": 44,
     "metadata": {},
     "output_type": "execute_result"
    },
    {
     "data": {
      "image/png": "[encoded data removed]",
      "text/plain": [
       "<Figure size 1152x792 with 1 Axes>"
      ]
     },
     "metadata": {
      "needs_background": "light"
     },
     "output_type": "display_data"
    }
   ],
   "source": [
    "df_classement_model.plot.barh(x='model', figsize=(16, 11))"
   ]
  },
  {
   "cell_type": "markdown",
   "id": "f3c27580",
   "metadata": {},
   "source": [
    "Pour le modèle que nous avons entrainé, de manière assez simple, nous avons obtenu un score de ~75% qui est bien supérieur aux modèles préentrainés.\n",
    "\n",
    "Nous pouvons remarquer également deux choses, le modèle a eu les meilleures prédictions en s'entrainant avec les tweets racinisés.\n",
    "La deuxième remarque est que cette fois-ci, les tweets bruts se retrouvent en bas du classement.\n",
    "\n",
    "Nous avons effectué une série de tests avec des modèles préentrainés et un modèle entrainé par nous même avec des résultats intéressants.\n",
    "\n",
    "Voyons maintenant ce que nous pouvons obtenir comme résultat avec un modèle avancé dans le notebook suivant."
   ]
  }
 ],
 "metadata": {
  "kernelspec": {
   "display_name": "Python (P4)",
   "language": "python",
   "name": "p4"
  },
  "language_info": {
   "codemirror_mode": {
    "name": "ipython",
    "version": 3
   },
   "file_extension": ".py",
   "mimetype": "text/x-python",
   "name": "python",
   "nbconvert_exporter": "python",
   "pygments_lexer": "ipython3",
   "version": "3.10.11"
  },
  "toc": {
   "base_numbering": 1,
   "nav_menu": {},
   "number_sections": true,
   "sideBar": true,
   "skip_h1_title": false,
   "title_cell": "Table of Contents",
   "title_sidebar": "Contents",
   "toc_cell": false,
   "toc_position": {
    "height": "calc(100% - 180px)",
    "left": "10px",
    "top": "150px",
    "width": "384px"
   },
   "toc_section_display": true,
   "toc_window_display": true
  }
 },
 "nbformat": 4,
 "nbformat_minor": 5
}
