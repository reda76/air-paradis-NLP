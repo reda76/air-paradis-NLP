{
 "cells": [
  {
   "cell_type": "markdown",
   "id": "77c24381",
   "metadata": {
    "toc": true
   },
   "source": [
    "<h1>Table of Contents<span class=\"tocSkip\"></span></h1>\n",
    "<div class=\"toc\"><ul class=\"toc-item\"><li><span><a href=\"#Introduction-:-Modèle-Avancé-de-Traitement-du-Langage-Naturel-(NLP)-🧠💬\" data-toc-modified-id=\"Introduction-:-Modèle-Avancé-de-Traitement-du-Langage-Naturel-(NLP)-🧠💬-1\"><span class=\"toc-item-num\">1&nbsp;&nbsp;</span>Introduction : Modèle Avancé de Traitement du Langage Naturel (NLP) 🧠💬</a></span></li><li><span><a href=\"#Modèles-RNN\" data-toc-modified-id=\"Modèles-RNN-2\"><span class=\"toc-item-num\">2&nbsp;&nbsp;</span>Modèles RNN</a></span></li><li><span><a href=\"#Import-des-librairies\" data-toc-modified-id=\"Import-des-librairies-3\"><span class=\"toc-item-num\">3&nbsp;&nbsp;</span>Import des librairies</a></span></li><li><span><a href=\"#Import-des-données\" data-toc-modified-id=\"Import-des-données-4\"><span class=\"toc-item-num\">4&nbsp;&nbsp;</span>Import des données</a></span></li><li><span><a href=\"#Word-embedding\" data-toc-modified-id=\"Word-embedding-5\"><span class=\"toc-item-num\">5&nbsp;&nbsp;</span>Word embedding</a></span><ul class=\"toc-item\"><li><span><a href=\"#Word2Vec\" data-toc-modified-id=\"Word2Vec-5.1\"><span class=\"toc-item-num\">5.1&nbsp;&nbsp;</span>Word2Vec</a></span></li><li><span><a href=\"#Glov\" data-toc-modified-id=\"Glov-5.2\"><span class=\"toc-item-num\">5.2&nbsp;&nbsp;</span>Glov</a></span></li></ul></li><li><span><a href=\"#Modèle-|-Word2Vec\" data-toc-modified-id=\"Modèle-|-Word2Vec-6\"><span class=\"toc-item-num\">6&nbsp;&nbsp;</span>Modèle | Word2Vec</a></span><ul class=\"toc-item\"><li><span><a href=\"#Modèle-avancé\" data-toc-modified-id=\"Modèle-avancé-6.1\"><span class=\"toc-item-num\">6.1&nbsp;&nbsp;</span>Modèle avancé</a></span><ul class=\"toc-item\"><li><span><a href=\"#Fonction-LSTM-et-Confusion-Matrix\" data-toc-modified-id=\"Fonction-LSTM-et-Confusion-Matrix-6.1.1\"><span class=\"toc-item-num\">6.1.1&nbsp;&nbsp;</span>Fonction LSTM et Confusion Matrix</a></span></li><li><span><a href=\"#Avec-tweet-brut\" data-toc-modified-id=\"Avec-tweet-brut-6.1.2\"><span class=\"toc-item-num\">6.1.2&nbsp;&nbsp;</span>Avec tweet brut</a></span></li><li><span><a href=\"#Avec-tweet-traite\" data-toc-modified-id=\"Avec-tweet-traite-6.1.3\"><span class=\"toc-item-num\">6.1.3&nbsp;&nbsp;</span>Avec tweet traite</a></span></li><li><span><a href=\"#Avec-tweet-stemm\" data-toc-modified-id=\"Avec-tweet-stemm-6.1.4\"><span class=\"toc-item-num\">6.1.4&nbsp;&nbsp;</span>Avec tweet stemm</a></span></li><li><span><a href=\"#Avec-tweet-lemm\" data-toc-modified-id=\"Avec-tweet-lemm-6.1.5\"><span class=\"toc-item-num\">6.1.5&nbsp;&nbsp;</span>Avec tweet lemm</a></span></li></ul></li></ul></li><li><span><a href=\"#Modèle-|-Glov\" data-toc-modified-id=\"Modèle-|-Glov-7\"><span class=\"toc-item-num\">7&nbsp;&nbsp;</span>Modèle | Glov</a></span><ul class=\"toc-item\"><li><span><a href=\"#Modèle-avancé\" data-toc-modified-id=\"Modèle-avancé-7.1\"><span class=\"toc-item-num\">7.1&nbsp;&nbsp;</span>Modèle avancé</a></span><ul class=\"toc-item\"><li><span><a href=\"#Avec-tweet-brut\" data-toc-modified-id=\"Avec-tweet-brut-7.1.1\"><span class=\"toc-item-num\">7.1.1&nbsp;&nbsp;</span>Avec tweet brut</a></span></li><li><span><a href=\"#Avec-tweet-traite\" data-toc-modified-id=\"Avec-tweet-traite-7.1.2\"><span class=\"toc-item-num\">7.1.2&nbsp;&nbsp;</span>Avec tweet traite</a></span></li><li><span><a href=\"#Avec-tweet-stemm\" data-toc-modified-id=\"Avec-tweet-stemm-7.1.3\"><span class=\"toc-item-num\">7.1.3&nbsp;&nbsp;</span>Avec tweet stemm</a></span></li><li><span><a href=\"#Avec-tweet-lemm\" data-toc-modified-id=\"Avec-tweet-lemm-7.1.4\"><span class=\"toc-item-num\">7.1.4&nbsp;&nbsp;</span>Avec tweet lemm</a></span></li></ul></li></ul></li><li><span><a href=\"#BERT\" data-toc-modified-id=\"BERT-8\"><span class=\"toc-item-num\">8&nbsp;&nbsp;</span>BERT</a></span><ul class=\"toc-item\"><li><ul class=\"toc-item\"><li><span><a href=\"#Avec-tweet-brut\" data-toc-modified-id=\"Avec-tweet-brut-8.0.1\"><span class=\"toc-item-num\">8.0.1&nbsp;&nbsp;</span>Avec tweet brut</a></span></li><li><span><a href=\"#Avec-tweet-traite\" data-toc-modified-id=\"Avec-tweet-traite-8.0.2\"><span class=\"toc-item-num\">8.0.2&nbsp;&nbsp;</span>Avec tweet traite</a></span></li><li><span><a href=\"#Avec-tweet-stemm\" data-toc-modified-id=\"Avec-tweet-stemm-8.0.3\"><span class=\"toc-item-num\">8.0.3&nbsp;&nbsp;</span>Avec tweet stemm</a></span></li><li><span><a href=\"#Avec-tweet-lemm\" data-toc-modified-id=\"Avec-tweet-lemm-8.0.4\"><span class=\"toc-item-num\">8.0.4&nbsp;&nbsp;</span>Avec tweet lemm</a></span></li></ul></li></ul></li><li><span><a href=\"#Comparatif\" data-toc-modified-id=\"Comparatif-9\"><span class=\"toc-item-num\">9&nbsp;&nbsp;</span>Comparatif</a></span></li><li><span><a href=\"#Conclusion\" data-toc-modified-id=\"Conclusion-10\"><span class=\"toc-item-num\">10&nbsp;&nbsp;</span>Conclusion</a></span></li></ul></div>"
   ]
  },
  {
   "cell_type": "markdown",
   "id": "e44e2126",
   "metadata": {},
   "source": [
    "# Introduction : Modèle Avancé de Traitement du Langage Naturel (NLP) 🧠💬\n",
    "\n",
    "Bienvenue dans ce notebook, qui est la suite de l'EDA et Modèle de base.\n",
    "\n",
    "Nous commençons par importer un ensemble massif de bibliothèques pour nous aider dans cette tâche, y compris des bibliothèques populaires telles que Pandas, Numpy, Keras, TensorFlow, et bien d'autres. Ne vous inquiétez pas si vous ne connaissez pas toutes ces bibliothèques, vous apprendrez à les connaître au fur et à mesure que vous vous plongerez dans le notebook.📚🔍\n",
    "\n",
    "Après avoir importé nos bibliothèques, nous chargeons notre dataset, qui est une collection de tweets prétraités et étiquetés avec des sentiments (0 pour négatif, 1 pour positif). Nous avons une grande quantité de données à explorer ici, mais pour ce notebook, nous allons travailler avec un échantillon de 1500 tweets pour chaque sentiment. 📊🔢\n",
    "\n",
    "Une fois que nous avons nos données, nous entrons dans le vif du sujet avec le deep learning, en commençant par le \"Word Embedding\". Cette technique incroyable représente les mots comme des vecteurs dans un espace vectoriel. Les mots avec des significations similaires ont des représentations similaires, ce qui nous permet de capturer des relations sémantiques complexes entre les mots. C'est l'une des grandes avancées du Deep Learning dans le domaine du NLP. 🗣️🏹\n",
    "\n",
    "Un type particulier de Word Embedding que nous utilisons dans ce notebook est Word2Vec, développé par Google. Word2Vec utilise des réseaux neuronaux pour apprendre les représentations vectorielles des mots d'une manière non supervisée. Par rapport à d'autres méthodes, Word2Vec est particulièrement avantageux pour les grands ensembles de données. 🌐🤖\n",
    "\n",
    "Notre voyage dans ce notebook ne fait que commencer. Nous avons encore beaucoup à explorer, y compris les réseaux de neurones récurrents (RNN), les modèles de séquence à séquence, et plus encore. Accrochez-vous, car nous sommes sur le point de plonger dans le monde captivant du NLP avec l'IA ! 🚀🌌"
   ]
  },
  {
   "cell_type": "markdown",
   "id": "f3f1734a",
   "metadata": {},
   "source": [
    "# Modèles RNN "
   ]
  },
  {
   "cell_type": "markdown",
   "id": "c5e885e5",
   "metadata": {},
   "source": [
    "# Import des librairies"
   ]
  },
  {
   "cell_type": "code",
   "execution_count": 1,
   "id": "348daa04",
   "metadata": {},
   "outputs": [
    {
     "name": "stderr",
     "output_type": "stream",
     "text": [
      "2022-07-26 01:06:00.562871: W tensorflow/stream_executor/platform/default/dso_loader.cc:64] Could not load dynamic library 'libcudart.so.11.0'; dlerror: libcudart.so.11.0: cannot open shared object file: No such file or directory\n",
      "2022-07-26 01:06:00.562946: I tensorflow/stream_executor/cuda/cudart_stub.cc:29] Ignore above cudart dlerror if you do not have a GPU set up on your machine.\n"
     ]
    }
   ],
   "source": [
    "# Import libraries\n",
    "import pandas as pd\n",
    "import numpy as np\n",
    "\n",
    "import matplotlib.pyplot as plt\n",
    "from matplotlib.pyplot import figure\n",
    "import seaborn as sns\n",
    "%matplotlib inline\n",
    "\n",
    "from gensim.models.word2vec import Word2Vec\n",
    "import gensim\n",
    "\n",
    "from keras.preprocessing.text import Tokenizer\n",
    "from keras.models import Sequential\n",
    "from keras.callbacks import ReduceLROnPlateau, EarlyStopping\n",
    "from keras.layers import Activation, Dense, Dropout, Embedding, Flatten, Conv1D, MaxPooling1D, LSTM\n",
    "from keras_preprocessing.sequence import pad_sequences\n",
    "\n",
    "import pickle\n",
    "\n",
    "import tensorflow as tf\n",
    "import tensorflow_hub as hub\n",
    "import tensorflow_text as text\n",
    "\n",
    "from sklearn.model_selection import train_test_split\n",
    "from sklearn.metrics import confusion_matrix, classification_report, accuracy_score, f1_score\n",
    "from sklearn.preprocessing import LabelEncoder\n",
    "\n",
    "import itertools\n",
    "import time\n",
    "from datetime import datetime"
   ]
  },
  {
   "cell_type": "code",
   "execution_count": 2,
   "id": "cd8ecaf8",
   "metadata": {},
   "outputs": [],
   "source": [
    "a = datetime.now()"
   ]
  },
  {
   "cell_type": "markdown",
   "id": "9b520a2e",
   "metadata": {},
   "source": [
    "# Import des données"
   ]
  },
  {
   "cell_type": "code",
   "execution_count": 3,
   "id": "efc08001",
   "metadata": {},
   "outputs": [
    {
     "data": {
      "text/html": [
       "<div>\n",
       "<style scoped>\n",
       "    .dataframe tbody tr th:only-of-type {\n",
       "        vertical-align: middle;\n",
       "    }\n",
       "\n",
       "    .dataframe tbody tr th {\n",
       "        vertical-align: top;\n",
       "    }\n",
       "\n",
       "    .dataframe thead th {\n",
       "        text-align: right;\n",
       "    }\n",
       "</style>\n",
       "<table border=\"1\" class=\"dataframe\">\n",
       "  <thead>\n",
       "    <tr style=\"text-align: right;\">\n",
       "      <th></th>\n",
       "      <th>sentiment</th>\n",
       "      <th>tweet</th>\n",
       "      <th>tweet_traite</th>\n",
       "      <th>tweet_stemm</th>\n",
       "      <th>tweet_lemm</th>\n",
       "    </tr>\n",
       "  </thead>\n",
       "  <tbody>\n",
       "    <tr>\n",
       "      <th>0</th>\n",
       "      <td>0</td>\n",
       "      <td>@switchfoot http://twitpic.com/2y1zl - Awww, t...</td>\n",
       "      <td>user url that is bummer you should got david c...</td>\n",
       "      <td>user url that is bummer you should got david c...</td>\n",
       "      <td>user url that be bummer you should got david c...</td>\n",
       "    </tr>\n",
       "    <tr>\n",
       "      <th>1</th>\n",
       "      <td>0</td>\n",
       "      <td>is upset that he can't update his Facebook by ...</td>\n",
       "      <td>is upset that he cannot update his facebook by...</td>\n",
       "      <td>is upset that he cannot updat hi facebook by t...</td>\n",
       "      <td>be upset that he can not update his facebook b...</td>\n",
       "    </tr>\n",
       "    <tr>\n",
       "      <th>2</th>\n",
       "      <td>0</td>\n",
       "      <td>@Kenichan I dived many times for the ball. Man...</td>\n",
       "      <td>user dived many times for the ball managed to ...</td>\n",
       "      <td>user dive mani time for the ball manag to save...</td>\n",
       "      <td>user dive many time for the ball manage to sav...</td>\n",
       "    </tr>\n",
       "    <tr>\n",
       "      <th>3</th>\n",
       "      <td>0</td>\n",
       "      <td>my whole body feels itchy and like its on fire</td>\n",
       "      <td>my whole body feels itchy and like it is on fire</td>\n",
       "      <td>my whole bodi feel itchi and like it is on fire</td>\n",
       "      <td>my whole body feel itchy and like it be on fire</td>\n",
       "    </tr>\n",
       "    <tr>\n",
       "      <th>4</th>\n",
       "      <td>0</td>\n",
       "      <td>@nationwideclass no, it's not behaving at all....</td>\n",
       "      <td>user no it is not behaving at all am mad why a...</td>\n",
       "      <td>user no it is not behav at all am mad whi am h...</td>\n",
       "      <td>user no it be not behave at all be mad why be ...</td>\n",
       "    </tr>\n",
       "  </tbody>\n",
       "</table>\n",
       "</div>"
      ],
      "text/plain": [
       "   sentiment                                              tweet  \\\n",
       "0          0  @switchfoot http://twitpic.com/2y1zl - Awww, t...   \n",
       "1          0  is upset that he can't update his Facebook by ...   \n",
       "2          0  @Kenichan I dived many times for the ball. Man...   \n",
       "3          0    my whole body feels itchy and like its on fire    \n",
       "4          0  @nationwideclass no, it's not behaving at all....   \n",
       "\n",
       "                                        tweet_traite  \\\n",
       "0  user url that is bummer you should got david c...   \n",
       "1  is upset that he cannot update his facebook by...   \n",
       "2  user dived many times for the ball managed to ...   \n",
       "3  my whole body feels itchy and like it is on fire    \n",
       "4  user no it is not behaving at all am mad why a...   \n",
       "\n",
       "                                         tweet_stemm  \\\n",
       "0  user url that is bummer you should got david c...   \n",
       "1  is upset that he cannot updat hi facebook by t...   \n",
       "2  user dive mani time for the ball manag to save...   \n",
       "3    my whole bodi feel itchi and like it is on fire   \n",
       "4  user no it is not behav at all am mad whi am h...   \n",
       "\n",
       "                                          tweet_lemm  \n",
       "0  user url that be bummer you should got david c...  \n",
       "1  be upset that he can not update his facebook b...  \n",
       "2  user dive many time for the ball manage to sav...  \n",
       "3    my whole body feel itchy and like it be on fire  \n",
       "4  user no it be not behave at all be mad why be ...  "
      ]
     },
     "execution_count": 3,
     "metadata": {},
     "output_type": "execute_result"
    }
   ],
   "source": [
    "# Import pre-processed data\n",
    "df = pd.read_csv('data/df_preprocessing_final.csv')\n",
    "\n",
    "# Suppression des colonnes inutiles\n",
    "df = df.drop(columns=['user', 'id', 'nombre_mot'])\n",
    "\n",
    "df.head()"
   ]
  },
  {
   "cell_type": "code",
   "execution_count": 4,
   "id": "171ea6a8",
   "metadata": {},
   "outputs": [],
   "source": [
    "# Nous allons récupérer un sample de notre dataframe\n",
    "row = 1500  # GARDER 1500 rows pour le produit final ! |Résultat intéressant avec 5000 lignes | mieux avec 7000\n",
    "\n",
    "# Permets de garder un équilibrage de la target contrairement à un\n",
    "# .sample() basique\n",
    "df_sample = df.groupby('sentiment').apply(\n",
    "    lambda x: x.sample(n=row, random_state=42))\n",
    "df_sample.reset_index(drop=True, inplace=True)"
   ]
  },
  {
   "cell_type": "code",
   "execution_count": 5,
   "id": "fc8b05a3",
   "metadata": {},
   "outputs": [
    {
     "name": "stdout",
     "output_type": "stream",
     "text": [
      "(3000, 5)\n",
      "0    1500\n",
      "1    1500\n",
      "Name: sentiment, dtype: int64\n"
     ]
    },
    {
     "data": {
      "text/html": [
       "<div>\n",
       "<style scoped>\n",
       "    .dataframe tbody tr th:only-of-type {\n",
       "        vertical-align: middle;\n",
       "    }\n",
       "\n",
       "    .dataframe tbody tr th {\n",
       "        vertical-align: top;\n",
       "    }\n",
       "\n",
       "    .dataframe thead th {\n",
       "        text-align: right;\n",
       "    }\n",
       "</style>\n",
       "<table border=\"1\" class=\"dataframe\">\n",
       "  <thead>\n",
       "    <tr style=\"text-align: right;\">\n",
       "      <th></th>\n",
       "      <th>sentiment</th>\n",
       "      <th>tweet</th>\n",
       "      <th>tweet_traite</th>\n",
       "      <th>tweet_stemm</th>\n",
       "      <th>tweet_lemm</th>\n",
       "    </tr>\n",
       "  </thead>\n",
       "  <tbody>\n",
       "    <tr>\n",
       "      <th>0</th>\n",
       "      <td>0</td>\n",
       "      <td>@LeahMul awh, thats not good,   get better soon!</td>\n",
       "      <td>user awh that is not good get better soon</td>\n",
       "      <td>user awh that is not good get better soon</td>\n",
       "      <td>user awh that be not good get well soon</td>\n",
       "    </tr>\n",
       "    <tr>\n",
       "      <th>1</th>\n",
       "      <td>0</td>\n",
       "      <td>I need a job</td>\n",
       "      <td>need job</td>\n",
       "      <td>need job</td>\n",
       "      <td>need job</td>\n",
       "    </tr>\n",
       "    <tr>\n",
       "      <th>2</th>\n",
       "      <td>0</td>\n",
       "      <td>i am pretty sure i have swine flu  woohooo one...</td>\n",
       "      <td>am pretty sure have swine flu woohooo one tes...</td>\n",
       "      <td>am pretti sure have swine flu woohooo one tes...</td>\n",
       "      <td>be pretty sure have swine flu woohooo one tes...</td>\n",
       "    </tr>\n",
       "    <tr>\n",
       "      <th>3</th>\n",
       "      <td>0</td>\n",
       "      <td>GLG will never EVER be the same</td>\n",
       "      <td>glg will never ever be the same</td>\n",
       "      <td>glg will never ever be the same</td>\n",
       "      <td>glg will never ever be the same</td>\n",
       "    </tr>\n",
       "    <tr>\n",
       "      <th>4</th>\n",
       "      <td>0</td>\n",
       "      <td>Enjoying my last days w/ my 1 year old  Where ...</td>\n",
       "      <td>enjoying my last days my year old where does t...</td>\n",
       "      <td>enjoy my last day my year old where doe the fr...</td>\n",
       "      <td>enjoy my last day my year old where do the frk...</td>\n",
       "    </tr>\n",
       "  </tbody>\n",
       "</table>\n",
       "</div>"
      ],
      "text/plain": [
       "   sentiment                                              tweet  \\\n",
       "0          0   @LeahMul awh, thats not good,   get better soon!   \n",
       "1          0                                      I need a job    \n",
       "2          0  i am pretty sure i have swine flu  woohooo one...   \n",
       "3          0                   GLG will never EVER be the same    \n",
       "4          0  Enjoying my last days w/ my 1 year old  Where ...   \n",
       "\n",
       "                                        tweet_traite  \\\n",
       "0         user awh that is not good get better soon    \n",
       "1                                          need job    \n",
       "2   am pretty sure have swine flu woohooo one tes...   \n",
       "3                   glg will never ever be the same    \n",
       "4  enjoying my last days my year old where does t...   \n",
       "\n",
       "                                         tweet_stemm  \\\n",
       "0          user awh that is not good get better soon   \n",
       "1                                           need job   \n",
       "2   am pretti sure have swine flu woohooo one tes...   \n",
       "3                    glg will never ever be the same   \n",
       "4  enjoy my last day my year old where doe the fr...   \n",
       "\n",
       "                                          tweet_lemm  \n",
       "0            user awh that be not good get well soon  \n",
       "1                                           need job  \n",
       "2   be pretty sure have swine flu woohooo one tes...  \n",
       "3                    glg will never ever be the same  \n",
       "4  enjoy my last day my year old where do the frk...  "
      ]
     },
     "execution_count": 5,
     "metadata": {},
     "output_type": "execute_result"
    }
   ],
   "source": [
    "print(df_sample.shape)\n",
    "print(df_sample.sentiment.value_counts())\n",
    "df_sample.head()"
   ]
  },
  {
   "cell_type": "markdown",
   "id": "0ad6c959",
   "metadata": {},
   "source": [
    "# Word embedding"
   ]
  },
  {
   "cell_type": "markdown",
   "id": "41e3c415",
   "metadata": {},
   "source": [
    "Les **Word embedding** sont en fait une classe de techniques où les mots individuels sont représentés comme des vecteurs à valeurs réelles dans un espace vectoriel prédéfini. \n",
    "\n",
    "Chaque mot est mis en correspondance avec un vecteur et les valeurs vectorielles sont apprises d'une manière qui ressemble à un réseau neuronal, d'où le fait que cette technique est souvent classée dans le domaine de l'apprentissage profond.\n",
    "\n",
    "Les mots qui ont la même signification ont une représentation similaire.\n",
    "C'est cette approche de la représentation des mots et des documents qui peut être considérée comme l'une des principales percées du **Deep Learning** sur des problèmes difficiles en NLP."
   ]
  },
  {
   "cell_type": "markdown",
   "id": "b2430c9b",
   "metadata": {},
   "source": [
    "## Word2Vec"
   ]
  },
  {
   "cell_type": "markdown",
   "id": "eb54af28",
   "metadata": {},
   "source": [
    "**Word2Vec** a été développé par Google, contrairement aux méthodes **One Hot Encoding et TF-IDF**, un processus d'apprentissage non supervisé est effectué. \n",
    "\n",
    "Les données non étiquetées sont entrainées par des **réseaux neuronaux artificiels** pour créer le modèle Word2Vec qui génère des vecteurs de mots. \n",
    "\n",
    "Contrairement aux autres méthodes, la taille du vecteur n'est pas aussi importante que le nombre de mots uniques dans le corpus. La taille du vecteur peut être sélectionnée en fonction de la taille du corpus et du type de projet. \n",
    "Cette méthode est particulièrement **avantageuse pour les données très volumineuses**. \n",
    "\n",
    "Par exemple, si nous supposons qu'il y a 300 000 mots uniques dans un grand corpus, lorsque la création du vecteur est effectuée avec **One Hot Encoding**, un vecteur de taille 300 000 est créé pour chaque mot, avec la valeur d'un seul élément de 1 et les autres 0. Cependant, en choisissant la taille de vecteur 300 (elle peut être plus ou moins grande selon le choix de l'utilisateur) du côté de **Word2Vec**, les opérations vectorielles inutiles de grande taille sont évitées."
   ]
  },
  {
   "cell_type": "code",
   "execution_count": 6,
   "id": "d80d3c86",
   "metadata": {},
   "outputs": [],
   "source": [
    "df_word2vec = df_sample.copy()"
   ]
  },
  {
   "cell_type": "markdown",
   "id": "1e9f147d",
   "metadata": {},
   "source": [
    "Nous avons dans la cellule suivante fait appel à un modèle pré-entrainé sur environ 100 milliards de mots à partir de l'ensemble de données Google News pour notre wordembedding avec Word2Vec."
   ]
  },
  {
   "cell_type": "code",
   "execution_count": 7,
   "id": "722dc1d0",
   "metadata": {},
   "outputs": [
    {
     "name": "stdout",
     "output_type": "stream",
     "text": [
      "CPU times: user 20.3 s, sys: 1.8 s, total: 22.1 s\n",
      "Wall time: 39.8 s\n"
     ]
    }
   ],
   "source": [
    "%%time\n",
    "model = gensim.models.KeyedVectors.load_word2vec_format(\n",
    "    'word2vec/GoogleNews-vectors-negative300.bin',\n",
    "    binary=True)  #C binary format"
   ]
  },
  {
   "cell_type": "markdown",
   "id": "699fa218",
   "metadata": {},
   "source": [
    "Testons notre word embedding pour voir les relations entre les mots avec par exemple \"woman\" et \"king\"."
   ]
  },
  {
   "cell_type": "code",
   "execution_count": 8,
   "id": "064e16fc",
   "metadata": {},
   "outputs": [
    {
     "name": "stdout",
     "output_type": "stream",
     "text": [
      "CPU times: user 1.79 s, sys: 3.04 s, total: 4.83 s\n",
      "Wall time: 3.97 s\n"
     ]
    },
    {
     "data": {
      "text/plain": [
       "[('queen', 0.7118193507194519),\n",
       " ('monarch', 0.6189674139022827),\n",
       " ('princess', 0.5902431011199951),\n",
       " ('crown_prince', 0.5499460697174072),\n",
       " ('prince', 0.5377321839332581)]"
      ]
     },
     "execution_count": 8,
     "metadata": {},
     "output_type": "execute_result"
    }
   ],
   "source": [
    "%%time\n",
    "model.most_similar(positive=['woman', 'king'], negative=['man'], topn=5)"
   ]
  },
  {
   "cell_type": "markdown",
   "id": "256e344b",
   "metadata": {},
   "source": [
    "Très intéressant, le premier résultat est \"queen\" qui sera la première chose que l'on pourrait penser avec les mots 'woman' et king'."
   ]
  },
  {
   "cell_type": "markdown",
   "id": "1b24d95d",
   "metadata": {},
   "source": [
    "Faisons maintenant une fonction pour encoder nos données avec Word2Vec.\n",
    "\n",
    "Elle sera utilisée pour chaque type de tweet."
   ]
  },
  {
   "cell_type": "code",
   "execution_count": 9,
   "id": "21798591",
   "metadata": {},
   "outputs": [],
   "source": [
    "# WORD2VEC\n",
    "W2V_SIZE = 300\n",
    "W2V_WINDOW = 2  # 7 de base\n",
    "W2V_EPOCH = 15\n",
    "W2V_MIN_COUNT = 10\n",
    "\n",
    "# KERAS\n",
    "SEQUENCE_LENGTH = 300\n",
    "EPOCHS = 15\n",
    "BATCH_SIZE = 5  # TODO mettre 100 pour le produit final\n",
    "\n",
    "\n",
    "def word2vec(type_tweet):\n",
    "\n",
    "    documents = [_text.split() for _text in df_train[type_tweet]]\n",
    "\n",
    "    w2v_model = gensim.models.word2vec.Word2Vec(vector_size=W2V_SIZE,\n",
    "                                                window=W2V_WINDOW,\n",
    "                                                min_count=W2V_MIN_COUNT,\n",
    "                                                workers=4)\n",
    "\n",
    "    w2v_model.build_vocab(documents)\n",
    "\n",
    "    words = w2v_model.wv.index_to_key\n",
    "    vocab_size = len(words)\n",
    "    print(\"Vocab size\", vocab_size)\n",
    "\n",
    "    w2v_model.train(documents, total_examples=len(documents), epochs=W2V_EPOCH)\n",
    "\n",
    "    tokenizer = Tokenizer()\n",
    "    tokenizer.fit_on_texts(df_train[type_tweet])\n",
    "\n",
    "    vocab_size = len(tokenizer.word_index) + 1\n",
    "    print(\"Total words\", vocab_size)\n",
    "\n",
    "    x_train = pad_sequences(tokenizer.texts_to_sequences(df_train[type_tweet]),\n",
    "                            maxlen=SEQUENCE_LENGTH)\n",
    "    x_test = pad_sequences(tokenizer.texts_to_sequences(df_test[type_tweet]),\n",
    "                           maxlen=SEQUENCE_LENGTH)\n",
    "\n",
    "    labels = df_train.sentiment.unique().tolist()\n",
    "\n",
    "    encoder = LabelEncoder()\n",
    "    encoder.fit(df_train.sentiment.tolist())\n",
    "\n",
    "    y_train = encoder.transform(df_train.sentiment.tolist())\n",
    "    y_test = encoder.transform(df_test.sentiment.tolist())\n",
    "\n",
    "    y_train = y_train.reshape(-1, 1)\n",
    "    y_test = y_test.reshape(-1, 1)\n",
    "\n",
    "    print(\"y_test\", y_test.shape)\n",
    "    print(\"x_train\", x_train.shape)\n",
    "    print(\"y_train\", y_train.shape)\n",
    "    print(\"x_test\", x_test.shape)\n",
    "\n",
    "    embedding_matrix = np.zeros((vocab_size, W2V_SIZE))\n",
    "    for word, i in tokenizer.word_index.items():\n",
    "        if word in w2v_model.wv:\n",
    "            embedding_matrix[i] = w2v_model.wv[word]\n",
    "    print(embedding_matrix.shape)\n",
    "\n",
    "    embedding_layer = Embedding(vocab_size,\n",
    "                                W2V_SIZE,\n",
    "                                weights=[embedding_matrix],\n",
    "                                input_length=SEQUENCE_LENGTH,\n",
    "                                trainable=False)\n",
    "\n",
    "    return x_train, x_test, y_test, y_train, embedding_layer, tokenizer"
   ]
  },
  {
   "cell_type": "markdown",
   "id": "eac81969",
   "metadata": {},
   "source": [
    "Nous avons maintenant notre fonction qui sera utilisée dans la partie **Modèle | Word2Vec**. \n",
    "\n",
    "Appliquons le même procédé pour la partie Glov, de cette manière, les parties **Modèle | Word2Vec** et **Modèle | Glov** seront construits avec quasiment que des appels de fonctions."
   ]
  },
  {
   "cell_type": "markdown",
   "id": "38d0c30b",
   "metadata": {},
   "source": [
    "## Glov"
   ]
  },
  {
   "cell_type": "markdown",
   "id": "cc672333",
   "metadata": {},
   "source": [
    "L'avantage de **GloVe** est que, contrairement à **Word2vec**, **GloVe** ne s'appuie pas uniquement sur des statistiques locales (informations sur le contexte local des mots), mais intègre **des statistiques globales (cooccurrence des mots)** pour obtenir des vecteurs de mots. \n",
    "\n",
    "Mais gardez à l'esprit qu'il y a une certaine synergie entre **GloVe et Word2vec**."
   ]
  },
  {
   "cell_type": "code",
   "execution_count": 10,
   "id": "33b2cbaa",
   "metadata": {},
   "outputs": [],
   "source": [
    "df_glov = df_sample.copy()"
   ]
  },
  {
   "cell_type": "code",
   "execution_count": 11,
   "id": "13a04ace",
   "metadata": {},
   "outputs": [
    {
     "name": "stdout",
     "output_type": "stream",
     "text": [
      "Found 400000 word vectors.\n"
     ]
    }
   ],
   "source": [
    "embeddings_index = {}\n",
    "# opening the downloaded glove embeddings file\n",
    "f = open('glove.6B/glove.6B.300d.txt')\n",
    "for line in f:\n",
    "    # For each line file, the words are split and stored in a list\n",
    "    values = line.split()\n",
    "    word = value = values[0]\n",
    "    coefs = np.asarray(values[1:], dtype='float32')\n",
    "    embeddings_index[word] = coefs\n",
    "f.close()\n",
    "print('Found %s word vectors.' % len(embeddings_index))"
   ]
  },
  {
   "cell_type": "code",
   "execution_count": 12,
   "id": "e1bfdf73",
   "metadata": {},
   "outputs": [],
   "source": [
    "def glov(type_tweet):\n",
    "    tokenizer = Tokenizer()\n",
    "    tokenizer.fit_on_texts(df_train[type_tweet])\n",
    "    word_index = tokenizer.word_index\n",
    "\n",
    "    vocab_size = len(tokenizer.word_index) + 1\n",
    "\n",
    "    # Les tokens sont convertis en séquences puis passés à la fonction pad_sequences().\n",
    "    x_train = pad_sequences(tokenizer.texts_to_sequences(df_train[type_tweet]),\n",
    "                            maxlen=30)\n",
    "    x_test = pad_sequences(tokenizer.texts_to_sequences(df_test[type_tweet]),\n",
    "                           maxlen=30)\n",
    "\n",
    "    labels = [0, 1]\n",
    "    encoder = LabelEncoder()\n",
    "    encoder.fit(df_train.sentiment.to_list())\n",
    "    y_train = encoder.transform(df_train.sentiment.to_list())\n",
    "    y_test = encoder.transform(df_test.sentiment.to_list())\n",
    "    y_train = y_train.reshape(-1, 1)\n",
    "    y_test = y_test.reshape(-1, 1)\n",
    "\n",
    "    embedding_matrix = np.zeros((vocab_size, 300))\n",
    "\n",
    "    for word, i in word_index.items():\n",
    "\n",
    "        embedding_vector = embeddings_index.get(word)\n",
    "        if embedding_vector is not None:\n",
    "\n",
    "            embedding_matrix[i] = embedding_vector\n",
    "\n",
    "    embedding_layer = tf.keras.layers.Embedding(vocab_size,\n",
    "                                                300,\n",
    "                                                weights=[embedding_matrix],\n",
    "                                                input_length=30,\n",
    "                                                trainable=False)\n",
    "\n",
    "    return x_train, x_test, y_test, y_train, embedding_layer, tokenizer"
   ]
  },
  {
   "cell_type": "markdown",
   "id": "f4ddf422",
   "metadata": {},
   "source": [
    "# Modèle | Word2Vec"
   ]
  },
  {
   "cell_type": "markdown",
   "id": "04e408cd",
   "metadata": {},
   "source": [
    "Nous allons créer une fonction qui contiendra les scores pour chaque modèle."
   ]
  },
  {
   "cell_type": "code",
   "execution_count": 13,
   "id": "af78b283",
   "metadata": {},
   "outputs": [],
   "source": [
    "df_classement_model = pd.DataFrame(columns=['model', 'f1_score', 'accuracy'])\n",
    "\n",
    "\n",
    "def df_classement(model, y_test_1d, y_pred_1d):\n",
    "    f1 = f1_score(y_test_1d, y_pred_1d)\n",
    "    acc = accuracy_score(y_test_1d, y_pred_1d)\n",
    "\n",
    "    df = df_classement_model.append(\n",
    "        {\n",
    "            'model': model,\n",
    "            'f1_score': f1,\n",
    "            'accuracy': acc\n",
    "        }, ignore_index=True)\n",
    "\n",
    "    return df"
   ]
  },
  {
   "cell_type": "code",
   "execution_count": 14,
   "id": "81ebcdf7",
   "metadata": {},
   "outputs": [
    {
     "name": "stdout",
     "output_type": "stream",
     "text": [
      "TRAIN size: 2400\n",
      "TEST size: 600\n"
     ]
    }
   ],
   "source": [
    "# Pourcentage des données utilisé pour l'entrainement\n",
    "TRAIN_SIZE = 0.8\n",
    "df_train, df_test = train_test_split(df_word2vec,\n",
    "                                     test_size=1 - TRAIN_SIZE,\n",
    "                                     random_state=42)\n",
    "print(\"TRAIN size:\", len(df_train))\n",
    "print(\"TEST size:\", len(df_test))"
   ]
  },
  {
   "cell_type": "markdown",
   "id": "696ddb4b",
   "metadata": {},
   "source": [
    "## Modèle avancé"
   ]
  },
  {
   "cell_type": "markdown",
   "id": "021987a4",
   "metadata": {},
   "source": [
    "Nous allons dans cette partie utilisé **LSTM (long short-term memory)**.\n",
    "\n",
    "Il s'agit d'un type particulier de **RNN (recurrent neural network)** capable d'apprendre des dépendances à long terme dans les données. Ce résultat est obtenu parce que le module récurrent du modèle comporte une combinaison de quatre couches qui interagissent les unes avec les autres."
   ]
  },
  {
   "cell_type": "markdown",
   "id": "026f78d7",
   "metadata": {},
   "source": [
    "### Fonction LSTM et Confusion Matrix"
   ]
  },
  {
   "cell_type": "markdown",
   "id": "1d209595",
   "metadata": {},
   "source": [
    "Nous allons créer une fonction pour le modèle LSTM, cette fonction aura juste à être appelée pour chaque type de tweet, pareil pour la matrice de confusion.\n",
    "\n",
    "Nous pourrons ensuite faire un classement du meilleur score en fonction du type de tweet."
   ]
  },
  {
   "cell_type": "code",
   "execution_count": 15,
   "id": "2bb75793",
   "metadata": {},
   "outputs": [],
   "source": [
    "def lstm_model(x_train, x_test, y_test, y_train, embedding_layer, tokenizer):\n",
    "    model = Sequential()\n",
    "    model.add(embedding_layer)\n",
    "    model.add(Dropout(0.5))\n",
    "    model.add(LSTM(100, dropout=0.2, recurrent_dropout=0.2))\n",
    "    model.add(Dense(1, activation='sigmoid'))\n",
    "\n",
    "    model.summary()\n",
    "\n",
    "    model.compile(loss='binary_crossentropy',\n",
    "                  optimizer=\"adam\",\n",
    "                  metrics=['accuracy'])\n",
    "\n",
    "    callbacks = [\n",
    "        #ReduceLROnPlateau(monitor='val_loss', patience=5, cooldown=0),\n",
    "        EarlyStopping(monitor='val_acc', min_delta=1e-4, patience=5)\n",
    "    ]\n",
    "\n",
    "    history = model.fit(x_train,\n",
    "                        y_train,\n",
    "                        batch_size=BATCH_SIZE,\n",
    "                        epochs=EPOCHS,\n",
    "                        validation_split=0.1,\n",
    "                        verbose=1,\n",
    "                        callbacks=callbacks)\n",
    "\n",
    "    score = model.evaluate(x_test, y_test, batch_size=BATCH_SIZE)\n",
    "    print()\n",
    "    print(\"ACCURACY:\", score[1])\n",
    "    print(\"LOSS:\", score[0])\n",
    "\n",
    "    acc = history.history['accuracy']\n",
    "    val_acc = history.history['val_accuracy']\n",
    "    loss = history.history['loss']\n",
    "    val_loss = history.history['val_loss']\n",
    "\n",
    "    epochs = range(len(acc))\n",
    "\n",
    "    plt.plot(epochs, acc, 'b', label='Training acc')\n",
    "    plt.plot(epochs, val_acc, 'r', label='Validation acc')\n",
    "    plt.title('Training and validation accuracy')\n",
    "    plt.legend()\n",
    "\n",
    "    plt.figure()\n",
    "\n",
    "    plt.plot(epochs, loss, 'b', label='Training loss')\n",
    "    plt.plot(epochs, val_loss, 'r', label='Validation loss')\n",
    "    plt.title('Training and validation loss')\n",
    "    plt.legend()\n",
    "\n",
    "    plt.show()\n",
    "\n",
    "    SENTIMENT_THRESHOLDS = (0.5, 0.7)\n",
    "\n",
    "    def decode_sentiment(score):\n",
    "        if score <= SENTIMENT_THRESHOLDS[0]:\n",
    "            label = \"NEGATIVE\"\n",
    "\n",
    "            return label\n",
    "        else:\n",
    "            label = \"POSITIVE\"\n",
    "\n",
    "            return label\n",
    "\n",
    "    y_pred_1d = []\n",
    "    y_test_1d = list(df_test.sentiment)\n",
    "    scores = model.predict(x_test, verbose=1, batch_size=8000)\n",
    "    y_pred_1d = [decode_sentiment(score) for score in scores]\n",
    "\n",
    "    # Remplace les string \"NEGATIVE\" par 0 et \"POSITIVE\" par 1 pour avoir\n",
    "    # les mêmes types de valeurs que sur \"y_test_1d\"\n",
    "    y_pred_1d = [0 if x == 'NEGATIVE' else x for x in y_pred_1d]\n",
    "    y_pred_1d = [1 if x == 'POSITIVE' else x for x in y_pred_1d]\n",
    "\n",
    "    return y_test_1d, y_pred_1d, model"
   ]
  },
  {
   "cell_type": "code",
   "execution_count": 16,
   "id": "da79f719",
   "metadata": {},
   "outputs": [],
   "source": [
    "def plot_confusion_matrix(cm,\n",
    "                          classes,\n",
    "                          title='Confusion matrix',\n",
    "                          cmap=plt.cm.Blues):\n",
    "\n",
    "    cm = cm.astype('float') / cm.sum(axis=1)[:, np.newaxis]\n",
    "\n",
    "    plt.imshow(cm, interpolation='nearest', cmap=cmap)\n",
    "    plt.title(title, fontsize=30)\n",
    "    plt.colorbar()\n",
    "    tick_marks = np.arange(len(classes))\n",
    "    plt.xticks(tick_marks, classes, rotation=90, fontsize=22)\n",
    "    plt.yticks(tick_marks, classes, fontsize=22)\n",
    "\n",
    "    fmt = '.2f'\n",
    "    thresh = cm.max() / 2.\n",
    "    for i, j in itertools.product(range(cm.shape[0]), range(cm.shape[1])):\n",
    "        plt.text(j,\n",
    "                 i,\n",
    "                 format(cm[i, j], fmt),\n",
    "                 horizontalalignment=\"center\",\n",
    "                 color=\"white\" if cm[i, j] > thresh else \"black\")\n",
    "\n",
    "    plt.ylabel('True label', fontsize=25)\n",
    "    plt.xlabel('Predicted label', fontsize=25)"
   ]
  },
  {
   "cell_type": "markdown",
   "id": "69731928",
   "metadata": {},
   "source": [
    "### Avec tweet brut"
   ]
  },
  {
   "cell_type": "markdown",
   "id": "65ffb916",
   "metadata": {},
   "source": [
    "Nous appelons notre fonction **word2vec()** avec les tweets bruts (qui est la colonne **\"tweet\"**)."
   ]
  },
  {
   "cell_type": "code",
   "execution_count": 17,
   "id": "dda35e4e",
   "metadata": {},
   "outputs": [
    {
     "name": "stdout",
     "output_type": "stream",
     "text": [
      "Vocab size 380\n",
      "Total words 6926\n",
      "y_test (600, 1)\n",
      "x_train (2400, 300)\n",
      "y_train (2400, 1)\n",
      "x_test (600, 300)\n",
      "(6926, 300)\n"
     ]
    }
   ],
   "source": [
    "x_train_brute, x_test_brute, y_test_brute, y_train_brute, embedding_layer_brute, tokenizer_w2v_brute = word2vec(\n",
    "    'tweet')"
   ]
  },
  {
   "cell_type": "code",
   "execution_count": 18,
   "id": "2de70ee5",
   "metadata": {},
   "outputs": [
    {
     "name": "stderr",
     "output_type": "stream",
     "text": [
      "2022-07-26 01:07:34.072857: I tensorflow/stream_executor/cuda/cuda_gpu_executor.cc:961] could not open file to read NUMA node: /sys/bus/pci/devices/0000:01:00.0/numa_node\n",
      "Your kernel may have been built without NUMA support.\n",
      "2022-07-26 01:07:34.081294: W tensorflow/stream_executor/platform/default/dso_loader.cc:64] Could not load dynamic library 'libcudart.so.11.0'; dlerror: libcudart.so.11.0: cannot open shared object file: No such file or directory\n",
      "2022-07-26 01:07:34.081607: W tensorflow/stream_executor/platform/default/dso_loader.cc:64] Could not load dynamic library 'libcublas.so.11'; dlerror: libcublas.so.11: cannot open shared object file: No such file or directory\n",
      "2022-07-26 01:07:34.081849: W tensorflow/stream_executor/platform/default/dso_loader.cc:64] Could not load dynamic library 'libcublasLt.so.11'; dlerror: libcublasLt.so.11: cannot open shared object file: No such file or directory\n",
      "2022-07-26 01:07:34.081917: W tensorflow/stream_executor/platform/default/dso_loader.cc:64] Could not load dynamic library 'libcufft.so.10'; dlerror: libcufft.so.10: cannot open shared object file: No such file or directory\n",
      "2022-07-26 01:07:34.082302: W tensorflow/stream_executor/platform/default/dso_loader.cc:64] Could not load dynamic library 'libcurand.so.10'; dlerror: libcurand.so.10: cannot open shared object file: No such file or directory\n",
      "2022-07-26 01:07:34.082740: W tensorflow/stream_executor/platform/default/dso_loader.cc:64] Could not load dynamic library 'libcusolver.so.11'; dlerror: libcusolver.so.11: cannot open shared object file: No such file or directory\n",
      "2022-07-26 01:07:34.083120: W tensorflow/stream_executor/platform/default/dso_loader.cc:64] Could not load dynamic library 'libcusparse.so.11'; dlerror: libcusparse.so.11: cannot open shared object file: No such file or directory\n",
      "2022-07-26 01:07:34.083181: W tensorflow/stream_executor/platform/default/dso_loader.cc:64] Could not load dynamic library 'libcudnn.so.8'; dlerror: libcudnn.so.8: cannot open shared object file: No such file or directory\n",
      "2022-07-26 01:07:34.083358: W tensorflow/core/common_runtime/gpu/gpu_device.cc:1850] Cannot dlopen some GPU libraries. Please make sure the missing libraries mentioned above are installed properly if you would like to use GPU. Follow the guide at https://www.tensorflow.org/install/gpu for how to download and setup the required libraries for your platform.\n",
      "Skipping registering GPU devices...\n",
      "2022-07-26 01:07:34.102859: I tensorflow/core/platform/cpu_feature_guard.cc:193] This TensorFlow binary is optimized with oneAPI Deep Neural Network Library (oneDNN) to use the following CPU instructions in performance-critical operations:  AVX2 FMA\n",
      "To enable them in other operations, rebuild TensorFlow with the appropriate compiler flags.\n"
     ]
    },
    {
     "name": "stdout",
     "output_type": "stream",
     "text": [
      "Model: \"sequential\"\n",
      "_________________________________________________________________\n",
      " Layer (type)                Output Shape              Param #   \n",
      "=================================================================\n",
      " embedding (Embedding)       (None, 300, 300)          2077800   \n",
      "                                                                 \n",
      " dropout (Dropout)           (None, 300, 300)          0         \n",
      "                                                                 \n",
      " lstm (LSTM)                 (None, 100)               160400    \n",
      "                                                                 \n",
      " dense (Dense)               (None, 1)                 101       \n",
      "                                                                 \n",
      "=================================================================\n",
      "Total params: 2,238,301\n",
      "Trainable params: 160,501\n",
      "Non-trainable params: 2,077,800\n",
      "_________________________________________________________________\n",
      "Epoch 1/15\n",
      "432/432 [==============================] - ETA: 0s - loss: 0.6970 - accuracy: 0.5009WARNING:tensorflow:Early stopping conditioned on metric `val_acc` which is not available. Available metrics are: loss,accuracy,val_loss,val_accuracy\n",
      "432/432 [==============================] - 117s 260ms/step - loss: 0.6970 - accuracy: 0.5009 - val_loss: 0.6888 - val_accuracy: 0.5417\n",
      "Epoch 2/15\n",
      "432/432 [==============================] - ETA: 0s - loss: 0.6929 - accuracy: 0.5227WARNING:tensorflow:Early stopping conditioned on metric `val_acc` which is not available. Available metrics are: loss,accuracy,val_loss,val_accuracy\n",
      "432/432 [==============================] - 112s 260ms/step - loss: 0.6929 - accuracy: 0.5227 - val_loss: 0.6872 - val_accuracy: 0.5625\n",
      "Epoch 3/15\n",
      "432/432 [==============================] - ETA: 0s - loss: 0.6904 - accuracy: 0.5324WARNING:tensorflow:Early stopping conditioned on metric `val_acc` which is not available. Available metrics are: loss,accuracy,val_loss,val_accuracy\n",
      "432/432 [==============================] - 112s 260ms/step - loss: 0.6904 - accuracy: 0.5324 - val_loss: 0.6853 - val_accuracy: 0.5583\n",
      "Epoch 4/15\n",
      "432/432 [==============================] - ETA: 0s - loss: 0.6906 - accuracy: 0.5384WARNING:tensorflow:Early stopping conditioned on metric `val_acc` which is not available. Available metrics are: loss,accuracy,val_loss,val_accuracy\n",
      "432/432 [==============================] - 112s 260ms/step - loss: 0.6906 - accuracy: 0.5384 - val_loss: 0.6827 - val_accuracy: 0.5167\n",
      "Epoch 5/15\n",
      "432/432 [==============================] - ETA: 0s - loss: 0.6902 - accuracy: 0.5352WARNING:tensorflow:Early stopping conditioned on metric `val_acc` which is not available. Available metrics are: loss,accuracy,val_loss,val_accuracy\n",
      "432/432 [==============================] - 112s 260ms/step - loss: 0.6902 - accuracy: 0.5352 - val_loss: 0.6820 - val_accuracy: 0.5333\n",
      "Epoch 6/15\n",
      "432/432 [==============================] - ETA: 0s - loss: 0.6894 - accuracy: 0.5287WARNING:tensorflow:Early stopping conditioned on metric `val_acc` which is not available. Available metrics are: loss,accuracy,val_loss,val_accuracy\n",
      "432/432 [==============================] - 112s 260ms/step - loss: 0.6894 - accuracy: 0.5287 - val_loss: 0.6823 - val_accuracy: 0.5375\n",
      "Epoch 7/15\n",
      "432/432 [==============================] - ETA: 0s - loss: 0.6880 - accuracy: 0.5468WARNING:tensorflow:Early stopping conditioned on metric `val_acc` which is not available. Available metrics are: loss,accuracy,val_loss,val_accuracy\n",
      "432/432 [==============================] - 113s 262ms/step - loss: 0.6880 - accuracy: 0.5468 - val_loss: 0.6822 - val_accuracy: 0.5292\n",
      "Epoch 8/15\n",
      "432/432 [==============================] - ETA: 0s - loss: 0.6884 - accuracy: 0.5315WARNING:tensorflow:Early stopping conditioned on metric `val_acc` which is not available. Available metrics are: loss,accuracy,val_loss,val_accuracy\n",
      "432/432 [==============================] - 110s 256ms/step - loss: 0.6884 - accuracy: 0.5315 - val_loss: 0.6820 - val_accuracy: 0.5167\n",
      "Epoch 9/15\n",
      "432/432 [==============================] - ETA: 0s - loss: 0.6883 - accuracy: 0.5403WARNING:tensorflow:Early stopping conditioned on metric `val_acc` which is not available. Available metrics are: loss,accuracy,val_loss,val_accuracy\n",
      "432/432 [==============================] - 112s 260ms/step - loss: 0.6883 - accuracy: 0.5403 - val_loss: 0.6821 - val_accuracy: 0.5333\n",
      "Epoch 10/15\n",
      "432/432 [==============================] - ETA: 0s - loss: 0.6884 - accuracy: 0.5426WARNING:tensorflow:Early stopping conditioned on metric `val_acc` which is not available. Available metrics are: loss,accuracy,val_loss,val_accuracy\n",
      "432/432 [==============================] - 112s 259ms/step - loss: 0.6884 - accuracy: 0.5426 - val_loss: 0.6825 - val_accuracy: 0.5292\n",
      "Epoch 11/15\n",
      "432/432 [==============================] - ETA: 0s - loss: 0.6867 - accuracy: 0.5370WARNING:tensorflow:Early stopping conditioned on metric `val_acc` which is not available. Available metrics are: loss,accuracy,val_loss,val_accuracy\n",
      "432/432 [==============================] - 112s 258ms/step - loss: 0.6867 - accuracy: 0.5370 - val_loss: 0.6855 - val_accuracy: 0.5458\n",
      "Epoch 12/15\n",
      "432/432 [==============================] - ETA: 0s - loss: 0.6877 - accuracy: 0.5509WARNING:tensorflow:Early stopping conditioned on metric `val_acc` which is not available. Available metrics are: loss,accuracy,val_loss,val_accuracy\n",
      "432/432 [==============================] - 110s 256ms/step - loss: 0.6877 - accuracy: 0.5509 - val_loss: 0.6823 - val_accuracy: 0.5292\n",
      "Epoch 13/15\n",
      "432/432 [==============================] - ETA: 0s - loss: 0.6867 - accuracy: 0.5324WARNING:tensorflow:Early stopping conditioned on metric `val_acc` which is not available. Available metrics are: loss,accuracy,val_loss,val_accuracy\n",
      "432/432 [==============================] - 109s 253ms/step - loss: 0.6867 - accuracy: 0.5324 - val_loss: 0.6824 - val_accuracy: 0.5292\n",
      "Epoch 14/15\n",
      "432/432 [==============================] - ETA: 0s - loss: 0.6908 - accuracy: 0.5292WARNING:tensorflow:Early stopping conditioned on metric `val_acc` which is not available. Available metrics are: loss,accuracy,val_loss,val_accuracy\n",
      "432/432 [==============================] - 109s 253ms/step - loss: 0.6908 - accuracy: 0.5292 - val_loss: 0.6850 - val_accuracy: 0.5542\n",
      "Epoch 15/15\n",
      "432/432 [==============================] - ETA: 0s - loss: 0.6878 - accuracy: 0.5403WARNING:tensorflow:Early stopping conditioned on metric `val_acc` which is not available. Available metrics are: loss,accuracy,val_loss,val_accuracy\n",
      "432/432 [==============================] - 110s 254ms/step - loss: 0.6878 - accuracy: 0.5403 - val_loss: 0.6836 - val_accuracy: 0.5208\n",
      "120/120 [==============================] - 5s 40ms/step - loss: 0.6969 - accuracy: 0.5267\n",
      "\n",
      "ACCURACY: 0.5266666412353516\n",
      "LOSS: 0.6968576312065125\n"
     ]
    },
    {
     "data": {
      "image/png": "[encoded data removed]",
      "text/plain": [
       "<Figure size 432x288 with 1 Axes>"
      ]
     },
     "metadata": {
      "needs_background": "light"
     },
     "output_type": "display_data"
    },
    {
     "data": {
      "image/png": "[encoded data removed]",
      "text/plain": [
       "<Figure size 432x288 with 1 Axes>"
      ]
     },
     "metadata": {
      "needs_background": "light"
     },
     "output_type": "display_data"
    },
    {
     "name": "stdout",
     "output_type": "stream",
     "text": [
      "1/1 [==============================] - 1s 628ms/step\n",
      "CPU times: user 1h 50min 5s, sys: 39min 34s, total: 2h 29min 40s\n",
      "Wall time: 28min 3s\n"
     ]
    }
   ],
   "source": [
    "%%time\n",
    "y_test_1d_brute, y_pred_1d_brute, model_W2V_LSTM_brute = lstm_model(\n",
    "    x_train_brute, x_test_brute, y_test_brute, y_train_brute,\n",
    "    embedding_layer_brute, tokenizer_w2v_brute)"
   ]
  },
  {
   "cell_type": "code",
   "execution_count": 19,
   "id": "e2b7abc8",
   "metadata": {},
   "outputs": [
    {
     "data": {
      "image/png": "[encoded data removed]",
      "text/plain": [
       "<Figure size 432x432 with 2 Axes>"
      ]
     },
     "metadata": {
      "needs_background": "light"
     },
     "output_type": "display_data"
    }
   ],
   "source": [
    "cnf_matrix = confusion_matrix(y_test_1d_brute, y_pred_1d_brute)\n",
    "plt.figure(figsize=(6, 6))\n",
    "plot_confusion_matrix(cnf_matrix,\n",
    "                      classes=df_train.sentiment.unique(),\n",
    "                      title=\"Confusion matrix\")\n",
    "plt.show()"
   ]
  },
  {
   "cell_type": "code",
   "execution_count": 20,
   "id": "567378e8",
   "metadata": {},
   "outputs": [
    {
     "name": "stderr",
     "output_type": "stream",
     "text": [
      "/tmp/ipykernel_2340/718858219.py:8: FutureWarning: The frame.append method is deprecated and will be removed from pandas in a future version. Use pandas.concat instead.\n",
      "  df = df_classement_model.append(\n"
     ]
    },
    {
     "data": {
      "text/html": [
       "<div>\n",
       "<style scoped>\n",
       "    .dataframe tbody tr th:only-of-type {\n",
       "        vertical-align: middle;\n",
       "    }\n",
       "\n",
       "    .dataframe tbody tr th {\n",
       "        vertical-align: top;\n",
       "    }\n",
       "\n",
       "    .dataframe thead th {\n",
       "        text-align: right;\n",
       "    }\n",
       "</style>\n",
       "<table border=\"1\" class=\"dataframe\">\n",
       "  <thead>\n",
       "    <tr style=\"text-align: right;\">\n",
       "      <th></th>\n",
       "      <th>model</th>\n",
       "      <th>f1_score</th>\n",
       "      <th>accuracy</th>\n",
       "    </tr>\n",
       "  </thead>\n",
       "  <tbody>\n",
       "    <tr>\n",
       "      <th>0</th>\n",
       "      <td>W2V+LSTM+brute</td>\n",
       "      <td>0.564417</td>\n",
       "      <td>0.526667</td>\n",
       "    </tr>\n",
       "  </tbody>\n",
       "</table>\n",
       "</div>"
      ],
      "text/plain": [
       "            model  f1_score  accuracy\n",
       "0  W2V+LSTM+brute  0.564417  0.526667"
      ]
     },
     "execution_count": 20,
     "metadata": {},
     "output_type": "execute_result"
    }
   ],
   "source": [
    "df_classement_model = df_classement(\"W2V+LSTM+brute\", y_test_1d_brute,\n",
    "                                    y_pred_1d_brute)\n",
    "df_classement_model"
   ]
  },
  {
   "cell_type": "markdown",
   "id": "76612820",
   "metadata": {},
   "source": [
    "### Avec tweet traite"
   ]
  },
  {
   "cell_type": "markdown",
   "id": "ab8fb8f3",
   "metadata": {},
   "source": [
    "Nous faisons exactement la même chose, mais cette fois-ci avec les **\"tweet_traite\"**."
   ]
  },
  {
   "cell_type": "code",
   "execution_count": 21,
   "id": "dbf8382b",
   "metadata": {},
   "outputs": [
    {
     "name": "stdout",
     "output_type": "stream",
     "text": [
      "Vocab size 385\n",
      "Total words 5247\n",
      "y_test (600, 1)\n",
      "x_train (2400, 300)\n",
      "y_train (2400, 1)\n",
      "x_test (600, 300)\n",
      "(5247, 300)\n"
     ]
    }
   ],
   "source": [
    "x_train_traite, x_test_traite, y_test_traite, y_train_traite, embedding_layer_traite, tokenizer_w2v_traite = word2vec(\n",
    "    'tweet_traite')"
   ]
  },
  {
   "cell_type": "code",
   "execution_count": 22,
   "id": "783af05b",
   "metadata": {
    "code_folding": []
   },
   "outputs": [
    {
     "name": "stdout",
     "output_type": "stream",
     "text": [
      "Model: \"sequential_1\"\n",
      "_________________________________________________________________\n",
      " Layer (type)                Output Shape              Param #   \n",
      "=================================================================\n",
      " embedding_1 (Embedding)     (None, 300, 300)          1574100   \n",
      "                                                                 \n",
      " dropout_1 (Dropout)         (None, 300, 300)          0         \n",
      "                                                                 \n",
      " lstm_1 (LSTM)               (None, 100)               160400    \n",
      "                                                                 \n",
      " dense_1 (Dense)             (None, 1)                 101       \n",
      "                                                                 \n",
      "=================================================================\n",
      "Total params: 1,734,601\n",
      "Trainable params: 160,501\n",
      "Non-trainable params: 1,574,100\n",
      "_________________________________________________________________\n",
      "Epoch 1/15\n",
      "432/432 [==============================] - ETA: 0s - loss: 0.6958 - accuracy: 0.5144WARNING:tensorflow:Early stopping conditioned on metric `val_acc` which is not available. Available metrics are: loss,accuracy,val_loss,val_accuracy\n",
      "432/432 [==============================] - 112s 256ms/step - loss: 0.6958 - accuracy: 0.5144 - val_loss: 0.6927 - val_accuracy: 0.4958\n",
      "Epoch 2/15\n",
      "432/432 [==============================] - ETA: 0s - loss: 0.6949 - accuracy: 0.4787WARNING:tensorflow:Early stopping conditioned on metric `val_acc` which is not available. Available metrics are: loss,accuracy,val_loss,val_accuracy\n",
      "432/432 [==============================] - 108s 251ms/step - loss: 0.6949 - accuracy: 0.4787 - val_loss: 0.6897 - val_accuracy: 0.5917\n",
      "Epoch 3/15\n",
      "432/432 [==============================] - ETA: 0s - loss: 0.6940 - accuracy: 0.4968WARNING:tensorflow:Early stopping conditioned on metric `val_acc` which is not available. Available metrics are: loss,accuracy,val_loss,val_accuracy\n",
      "432/432 [==============================] - 108s 250ms/step - loss: 0.6940 - accuracy: 0.4968 - val_loss: 0.6919 - val_accuracy: 0.5333\n",
      "Epoch 4/15\n",
      "432/432 [==============================] - ETA: 0s - loss: 0.6930 - accuracy: 0.5204WARNING:tensorflow:Early stopping conditioned on metric `val_acc` which is not available. Available metrics are: loss,accuracy,val_loss,val_accuracy\n",
      "432/432 [==============================] - 108s 250ms/step - loss: 0.6930 - accuracy: 0.5204 - val_loss: 0.6911 - val_accuracy: 0.5458\n",
      "Epoch 5/15\n",
      "432/432 [==============================] - ETA: 0s - loss: 0.6931 - accuracy: 0.5171WARNING:tensorflow:Early stopping conditioned on metric `val_acc` which is not available. Available metrics are: loss,accuracy,val_loss,val_accuracy\n",
      "432/432 [==============================] - 108s 251ms/step - loss: 0.6931 - accuracy: 0.5171 - val_loss: 0.6892 - val_accuracy: 0.5333\n",
      "Epoch 6/15\n",
      "432/432 [==============================] - ETA: 0s - loss: 0.6930 - accuracy: 0.5139WARNING:tensorflow:Early stopping conditioned on metric `val_acc` which is not available. Available metrics are: loss,accuracy,val_loss,val_accuracy\n",
      "432/432 [==============================] - 108s 250ms/step - loss: 0.6930 - accuracy: 0.5139 - val_loss: 0.6905 - val_accuracy: 0.5125\n",
      "Epoch 7/15\n",
      "432/432 [==============================] - ETA: 0s - loss: 0.6920 - accuracy: 0.5282WARNING:tensorflow:Early stopping conditioned on metric `val_acc` which is not available. Available metrics are: loss,accuracy,val_loss,val_accuracy\n",
      "432/432 [==============================] - 108s 250ms/step - loss: 0.6920 - accuracy: 0.5282 - val_loss: 0.6888 - val_accuracy: 0.5500\n",
      "Epoch 8/15\n",
      "432/432 [==============================] - ETA: 0s - loss: 0.6918 - accuracy: 0.5194WARNING:tensorflow:Early stopping conditioned on metric `val_acc` which is not available. Available metrics are: loss,accuracy,val_loss,val_accuracy\n",
      "432/432 [==============================] - 109s 251ms/step - loss: 0.6918 - accuracy: 0.5194 - val_loss: 0.6922 - val_accuracy: 0.4917\n",
      "Epoch 9/15\n",
      "432/432 [==============================] - ETA: 0s - loss: 0.6918 - accuracy: 0.5185WARNING:tensorflow:Early stopping conditioned on metric `val_acc` which is not available. Available metrics are: loss,accuracy,val_loss,val_accuracy\n",
      "432/432 [==============================] - 108s 250ms/step - loss: 0.6918 - accuracy: 0.5185 - val_loss: 0.6895 - val_accuracy: 0.5292\n",
      "Epoch 10/15\n",
      "432/432 [==============================] - ETA: 0s - loss: 0.6910 - accuracy: 0.5338WARNING:tensorflow:Early stopping conditioned on metric `val_acc` which is not available. Available metrics are: loss,accuracy,val_loss,val_accuracy\n",
      "432/432 [==============================] - 108s 250ms/step - loss: 0.6910 - accuracy: 0.5338 - val_loss: 0.6914 - val_accuracy: 0.5292\n",
      "Epoch 11/15\n",
      "432/432 [==============================] - ETA: 0s - loss: 0.6919 - accuracy: 0.5218WARNING:tensorflow:Early stopping conditioned on metric `val_acc` which is not available. Available metrics are: loss,accuracy,val_loss,val_accuracy\n",
      "432/432 [==============================] - 108s 250ms/step - loss: 0.6919 - accuracy: 0.5218 - val_loss: 0.6907 - val_accuracy: 0.5167\n",
      "Epoch 12/15\n",
      "432/432 [==============================] - ETA: 0s - loss: 0.6912 - accuracy: 0.5338WARNING:tensorflow:Early stopping conditioned on metric `val_acc` which is not available. Available metrics are: loss,accuracy,val_loss,val_accuracy\n",
      "432/432 [==============================] - 108s 250ms/step - loss: 0.6912 - accuracy: 0.5338 - val_loss: 0.6913 - val_accuracy: 0.5375\n",
      "Epoch 13/15\n",
      "432/432 [==============================] - ETA: 0s - loss: 0.6916 - accuracy: 0.5319WARNING:tensorflow:Early stopping conditioned on metric `val_acc` which is not available. Available metrics are: loss,accuracy,val_loss,val_accuracy\n",
      "432/432 [==============================] - 109s 251ms/step - loss: 0.6916 - accuracy: 0.5319 - val_loss: 0.6908 - val_accuracy: 0.5250\n",
      "Epoch 14/15\n",
      "432/432 [==============================] - ETA: 0s - loss: 0.6909 - accuracy: 0.5213WARNING:tensorflow:Early stopping conditioned on metric `val_acc` which is not available. Available metrics are: loss,accuracy,val_loss,val_accuracy\n",
      "432/432 [==============================] - 108s 250ms/step - loss: 0.6909 - accuracy: 0.5213 - val_loss: 0.6911 - val_accuracy: 0.5042\n",
      "Epoch 15/15\n",
      "432/432 [==============================] - ETA: 0s - loss: 0.6903 - accuracy: 0.5366WARNING:tensorflow:Early stopping conditioned on metric `val_acc` which is not available. Available metrics are: loss,accuracy,val_loss,val_accuracy\n",
      "432/432 [==============================] - 108s 250ms/step - loss: 0.6903 - accuracy: 0.5366 - val_loss: 0.6930 - val_accuracy: 0.5208\n",
      "120/120 [==============================] - 5s 40ms/step - loss: 0.6922 - accuracy: 0.5333\n",
      "\n",
      "ACCURACY: 0.5333333611488342\n",
      "LOSS: 0.6921719312667847\n"
     ]
    },
    {
     "data": {
      "image/png": "[encoded data removed]",
      "text/plain": [
       "<Figure size 432x288 with 1 Axes>"
      ]
     },
     "metadata": {
      "needs_background": "light"
     },
     "output_type": "display_data"
    },
    {
     "data": {
      "image/png": "[encoded data removed]",
      "text/plain": [
       "<Figure size 432x288 with 1 Axes>"
      ]
     },
     "metadata": {
      "needs_background": "light"
     },
     "output_type": "display_data"
    },
    {
     "name": "stdout",
     "output_type": "stream",
     "text": [
      "1/1 [==============================] - 1s 607ms/step\n",
      "CPU times: user 1h 44min 59s, sys: 37min 30s, total: 2h 22min 30s\n",
      "Wall time: 27min 11s\n"
     ]
    }
   ],
   "source": [
    "%%time\n",
    "y_test_1d_traite, y_pred_1d_traite, model_W2V_LSTM_traite = lstm_model(\n",
    "    x_train_traite, x_test_traite, y_test_traite, y_train_traite,\n",
    "    embedding_layer_traite, tokenizer_w2v_traite)"
   ]
  },
  {
   "cell_type": "code",
   "execution_count": 23,
   "id": "c586d8ad",
   "metadata": {},
   "outputs": [
    {
     "data": {
      "image/png": "[encoded data removed]",
      "text/plain": [
       "<Figure size 432x432 with 2 Axes>"
      ]
     },
     "metadata": {
      "needs_background": "light"
     },
     "output_type": "display_data"
    },
    {
     "name": "stdout",
     "output_type": "stream",
     "text": [
      "CPU times: user 394 ms, sys: 10.5 ms, total: 404 ms\n",
      "Wall time: 267 ms\n"
     ]
    }
   ],
   "source": [
    "%%time\n",
    "cnf_matrix = confusion_matrix(y_test_1d_traite, y_pred_1d_traite)\n",
    "plt.figure(figsize=(6, 6))\n",
    "plot_confusion_matrix(cnf_matrix,\n",
    "                      classes=df_train.sentiment.unique(),\n",
    "                      title=\"Confusion matrix\")\n",
    "plt.show()"
   ]
  },
  {
   "cell_type": "code",
   "execution_count": 24,
   "id": "17f2c0a1",
   "metadata": {},
   "outputs": [
    {
     "name": "stderr",
     "output_type": "stream",
     "text": [
      "/tmp/ipykernel_2340/718858219.py:8: FutureWarning: The frame.append method is deprecated and will be removed from pandas in a future version. Use pandas.concat instead.\n",
      "  df = df_classement_model.append(\n"
     ]
    },
    {
     "data": {
      "text/html": [
       "<div>\n",
       "<style scoped>\n",
       "    .dataframe tbody tr th:only-of-type {\n",
       "        vertical-align: middle;\n",
       "    }\n",
       "\n",
       "    .dataframe tbody tr th {\n",
       "        vertical-align: top;\n",
       "    }\n",
       "\n",
       "    .dataframe thead th {\n",
       "        text-align: right;\n",
       "    }\n",
       "</style>\n",
       "<table border=\"1\" class=\"dataframe\">\n",
       "  <thead>\n",
       "    <tr style=\"text-align: right;\">\n",
       "      <th></th>\n",
       "      <th>model</th>\n",
       "      <th>f1_score</th>\n",
       "      <th>accuracy</th>\n",
       "    </tr>\n",
       "  </thead>\n",
       "  <tbody>\n",
       "    <tr>\n",
       "      <th>0</th>\n",
       "      <td>W2V+LSTM+brute</td>\n",
       "      <td>0.564417</td>\n",
       "      <td>0.526667</td>\n",
       "    </tr>\n",
       "    <tr>\n",
       "      <th>1</th>\n",
       "      <td>W2V+LSTM+traite</td>\n",
       "      <td>0.461538</td>\n",
       "      <td>0.533333</td>\n",
       "    </tr>\n",
       "  </tbody>\n",
       "</table>\n",
       "</div>"
      ],
      "text/plain": [
       "             model  f1_score  accuracy\n",
       "0   W2V+LSTM+brute  0.564417  0.526667\n",
       "1  W2V+LSTM+traite  0.461538  0.533333"
      ]
     },
     "execution_count": 24,
     "metadata": {},
     "output_type": "execute_result"
    }
   ],
   "source": [
    "df_classement_model = df_classement(\"W2V+LSTM+traite\", y_test_1d_traite,\n",
    "                                    y_pred_1d_traite)\n",
    "df_classement_model"
   ]
  },
  {
   "cell_type": "markdown",
   "id": "04bc0614",
   "metadata": {},
   "source": [
    "### Avec tweet stemm"
   ]
  },
  {
   "cell_type": "markdown",
   "id": "d6f12bd2",
   "metadata": {},
   "source": [
    "La même chose avec les **\"tweet_stemm\"**."
   ]
  },
  {
   "cell_type": "code",
   "execution_count": 25,
   "id": "4e12d00c",
   "metadata": {},
   "outputs": [
    {
     "name": "stdout",
     "output_type": "stream",
     "text": [
      "Vocab size 402\n",
      "Total words 4398\n",
      "y_test (600, 1)\n",
      "x_train (2400, 300)\n",
      "y_train (2400, 1)\n",
      "x_test (600, 300)\n",
      "(4398, 300)\n"
     ]
    }
   ],
   "source": [
    "x_train_stemm, x_test_stemm, y_test_stemm, y_train_stemm, embedding_layer_stemm, tokenizer_w2v_stemm = word2vec(\n",
    "    'tweet_stemm')"
   ]
  },
  {
   "cell_type": "code",
   "execution_count": 26,
   "id": "043facbc",
   "metadata": {},
   "outputs": [
    {
     "name": "stdout",
     "output_type": "stream",
     "text": [
      "Model: \"sequential_2\"\n",
      "_________________________________________________________________\n",
      " Layer (type)                Output Shape              Param #   \n",
      "=================================================================\n",
      " embedding_2 (Embedding)     (None, 300, 300)          1319400   \n",
      "                                                                 \n",
      " dropout_2 (Dropout)         (None, 300, 300)          0         \n",
      "                                                                 \n",
      " lstm_2 (LSTM)               (None, 100)               160400    \n",
      "                                                                 \n",
      " dense_2 (Dense)             (None, 1)                 101       \n",
      "                                                                 \n",
      "=================================================================\n",
      "Total params: 1,479,901\n",
      "Trainable params: 160,501\n",
      "Non-trainable params: 1,319,400\n",
      "_________________________________________________________________\n",
      "Epoch 1/15\n",
      "432/432 [==============================] - ETA: 0s - loss: 0.6968 - accuracy: 0.4917WARNING:tensorflow:Early stopping conditioned on metric `val_acc` which is not available. Available metrics are: loss,accuracy,val_loss,val_accuracy\n",
      "432/432 [==============================] - 107s 246ms/step - loss: 0.6968 - accuracy: 0.4917 - val_loss: 0.6984 - val_accuracy: 0.5208\n",
      "Epoch 2/15\n",
      "432/432 [==============================] - ETA: 0s - loss: 0.6944 - accuracy: 0.5037WARNING:tensorflow:Early stopping conditioned on metric `val_acc` which is not available. Available metrics are: loss,accuracy,val_loss,val_accuracy\n",
      "432/432 [==============================] - 107s 248ms/step - loss: 0.6944 - accuracy: 0.5037 - val_loss: 0.6976 - val_accuracy: 0.4875\n",
      "Epoch 3/15\n",
      "432/432 [==============================] - ETA: 0s - loss: 0.6942 - accuracy: 0.4940WARNING:tensorflow:Early stopping conditioned on metric `val_acc` which is not available. Available metrics are: loss,accuracy,val_loss,val_accuracy\n",
      "432/432 [==============================] - 106s 246ms/step - loss: 0.6942 - accuracy: 0.4940 - val_loss: 0.6914 - val_accuracy: 0.5292\n",
      "Epoch 4/15\n",
      "432/432 [==============================] - ETA: 0s - loss: 0.6932 - accuracy: 0.5060WARNING:tensorflow:Early stopping conditioned on metric `val_acc` which is not available. Available metrics are: loss,accuracy,val_loss,val_accuracy\n",
      "432/432 [==============================] - 105s 243ms/step - loss: 0.6932 - accuracy: 0.5060 - val_loss: 0.6912 - val_accuracy: 0.5167\n",
      "Epoch 5/15\n",
      "432/432 [==============================] - ETA: 0s - loss: 0.6927 - accuracy: 0.5245WARNING:tensorflow:Early stopping conditioned on metric `val_acc` which is not available. Available metrics are: loss,accuracy,val_loss,val_accuracy\n",
      "432/432 [==============================] - 105s 243ms/step - loss: 0.6927 - accuracy: 0.5245 - val_loss: 0.6923 - val_accuracy: 0.5208\n",
      "Epoch 6/15\n",
      "432/432 [==============================] - ETA: 0s - loss: 0.6920 - accuracy: 0.5227WARNING:tensorflow:Early stopping conditioned on metric `val_acc` which is not available. Available metrics are: loss,accuracy,val_loss,val_accuracy\n",
      "432/432 [==============================] - 105s 243ms/step - loss: 0.6920 - accuracy: 0.5227 - val_loss: 0.6904 - val_accuracy: 0.5583\n",
      "Epoch 7/15\n",
      "432/432 [==============================] - ETA: 0s - loss: 0.6917 - accuracy: 0.5250WARNING:tensorflow:Early stopping conditioned on metric `val_acc` which is not available. Available metrics are: loss,accuracy,val_loss,val_accuracy\n",
      "432/432 [==============================] - 105s 244ms/step - loss: 0.6917 - accuracy: 0.5250 - val_loss: 0.6910 - val_accuracy: 0.5167\n",
      "Epoch 8/15\n",
      "432/432 [==============================] - ETA: 0s - loss: 0.6919 - accuracy: 0.5301WARNING:tensorflow:Early stopping conditioned on metric `val_acc` which is not available. Available metrics are: loss,accuracy,val_loss,val_accuracy\n",
      "432/432 [==============================] - 105s 243ms/step - loss: 0.6919 - accuracy: 0.5301 - val_loss: 0.6946 - val_accuracy: 0.5125\n",
      "Epoch 9/15\n",
      "432/432 [==============================] - ETA: 0s - loss: 0.6915 - accuracy: 0.5278WARNING:tensorflow:Early stopping conditioned on metric `val_acc` which is not available. Available metrics are: loss,accuracy,val_loss,val_accuracy\n",
      "432/432 [==============================] - 104s 241ms/step - loss: 0.6915 - accuracy: 0.5278 - val_loss: 0.6907 - val_accuracy: 0.5125\n",
      "Epoch 10/15\n",
      "432/432 [==============================] - ETA: 0s - loss: 0.6907 - accuracy: 0.5287WARNING:tensorflow:Early stopping conditioned on metric `val_acc` which is not available. Available metrics are: loss,accuracy,val_loss,val_accuracy\n",
      "432/432 [==============================] - 108s 249ms/step - loss: 0.6907 - accuracy: 0.5287 - val_loss: 0.6947 - val_accuracy: 0.5292\n",
      "Epoch 11/15\n",
      "432/432 [==============================] - ETA: 0s - loss: 0.6899 - accuracy: 0.5403WARNING:tensorflow:Early stopping conditioned on metric `val_acc` which is not available. Available metrics are: loss,accuracy,val_loss,val_accuracy\n",
      "432/432 [==============================] - 105s 243ms/step - loss: 0.6899 - accuracy: 0.5403 - val_loss: 0.6919 - val_accuracy: 0.5042\n",
      "Epoch 12/15\n",
      "432/432 [==============================] - ETA: 0s - loss: 0.6895 - accuracy: 0.5421WARNING:tensorflow:Early stopping conditioned on metric `val_acc` which is not available. Available metrics are: loss,accuracy,val_loss,val_accuracy\n",
      "432/432 [==============================] - 105s 243ms/step - loss: 0.6895 - accuracy: 0.5421 - val_loss: 0.6905 - val_accuracy: 0.5292\n",
      "Epoch 13/15\n",
      "432/432 [==============================] - ETA: 0s - loss: 0.6893 - accuracy: 0.5398WARNING:tensorflow:Early stopping conditioned on metric `val_acc` which is not available. Available metrics are: loss,accuracy,val_loss,val_accuracy\n",
      "432/432 [==============================] - 105s 244ms/step - loss: 0.6893 - accuracy: 0.5398 - val_loss: 0.6928 - val_accuracy: 0.5125\n",
      "Epoch 14/15\n",
      "432/432 [==============================] - ETA: 0s - loss: 0.6884 - accuracy: 0.5449WARNING:tensorflow:Early stopping conditioned on metric `val_acc` which is not available. Available metrics are: loss,accuracy,val_loss,val_accuracy\n",
      "432/432 [==============================] - 105s 243ms/step - loss: 0.6884 - accuracy: 0.5449 - val_loss: 0.6936 - val_accuracy: 0.5042\n",
      "Epoch 15/15\n",
      "432/432 [==============================] - ETA: 0s - loss: 0.6891 - accuracy: 0.5477WARNING:tensorflow:Early stopping conditioned on metric `val_acc` which is not available. Available metrics are: loss,accuracy,val_loss,val_accuracy\n",
      "432/432 [==============================] - 106s 245ms/step - loss: 0.6891 - accuracy: 0.5477 - val_loss: 0.6952 - val_accuracy: 0.5167\n",
      "120/120 [==============================] - 6s 49ms/step - loss: 0.6921 - accuracy: 0.5267\n",
      "\n",
      "ACCURACY: 0.5266666412353516\n",
      "LOSS: 0.6921414732933044\n"
     ]
    },
    {
     "data": {
      "image/png": "[encoded data removed]",
      "text/plain": [
       "<Figure size 432x288 with 1 Axes>"
      ]
     },
     "metadata": {
      "needs_background": "light"
     },
     "output_type": "display_data"
    },
    {
     "data": {
      "image/png": "[encoded data removed]",
      "text/plain": [
       "<Figure size 432x288 with 1 Axes>"
      ]
     },
     "metadata": {
      "needs_background": "light"
     },
     "output_type": "display_data"
    },
    {
     "name": "stdout",
     "output_type": "stream",
     "text": [
      "1/1 [==============================] - 1s 597ms/step\n",
      "CPU times: user 1h 44min 50s, sys: 38min 16s, total: 2h 23min 6s\n",
      "Wall time: 26min 31s\n"
     ]
    }
   ],
   "source": [
    "%%time\n",
    "y_test_1d_stemm, y_pred_1d_stemm, model_W2V_LSTM_stemm = lstm_model(\n",
    "    x_train_stemm, x_test_stemm, y_test_stemm, y_train_stemm,\n",
    "    embedding_layer_stemm, tokenizer_w2v_stemm)"
   ]
  },
  {
   "cell_type": "code",
   "execution_count": 27,
   "id": "5d635c37",
   "metadata": {},
   "outputs": [
    {
     "data": {
      "image/png": "[encoded data removed]",
      "text/plain": [
       "<Figure size 432x432 with 2 Axes>"
      ]
     },
     "metadata": {
      "needs_background": "light"
     },
     "output_type": "display_data"
    },
    {
     "name": "stdout",
     "output_type": "stream",
     "text": [
      "CPU times: user 204 ms, sys: 56.4 ms, total: 261 ms\n",
      "Wall time: 124 ms\n"
     ]
    }
   ],
   "source": [
    "%%time\n",
    "cnf_matrix = confusion_matrix(y_test_1d_stemm, y_pred_1d_stemm)\n",
    "plt.figure(figsize=(6, 6))\n",
    "plot_confusion_matrix(cnf_matrix,\n",
    "                      classes=df_train.sentiment.unique(),\n",
    "                      title=\"Confusion matrix\")\n",
    "plt.show()"
   ]
  },
  {
   "cell_type": "code",
   "execution_count": 28,
   "id": "3dcf5246",
   "metadata": {},
   "outputs": [
    {
     "name": "stderr",
     "output_type": "stream",
     "text": [
      "/tmp/ipykernel_2340/718858219.py:8: FutureWarning: The frame.append method is deprecated and will be removed from pandas in a future version. Use pandas.concat instead.\n",
      "  df = df_classement_model.append(\n"
     ]
    },
    {
     "data": {
      "text/html": [
       "<div>\n",
       "<style scoped>\n",
       "    .dataframe tbody tr th:only-of-type {\n",
       "        vertical-align: middle;\n",
       "    }\n",
       "\n",
       "    .dataframe tbody tr th {\n",
       "        vertical-align: top;\n",
       "    }\n",
       "\n",
       "    .dataframe thead th {\n",
       "        text-align: right;\n",
       "    }\n",
       "</style>\n",
       "<table border=\"1\" class=\"dataframe\">\n",
       "  <thead>\n",
       "    <tr style=\"text-align: right;\">\n",
       "      <th></th>\n",
       "      <th>model</th>\n",
       "      <th>f1_score</th>\n",
       "      <th>accuracy</th>\n",
       "    </tr>\n",
       "  </thead>\n",
       "  <tbody>\n",
       "    <tr>\n",
       "      <th>0</th>\n",
       "      <td>W2V+LSTM+brute</td>\n",
       "      <td>0.564417</td>\n",
       "      <td>0.526667</td>\n",
       "    </tr>\n",
       "    <tr>\n",
       "      <th>1</th>\n",
       "      <td>W2V+LSTM+traite</td>\n",
       "      <td>0.461538</td>\n",
       "      <td>0.533333</td>\n",
       "    </tr>\n",
       "    <tr>\n",
       "      <th>2</th>\n",
       "      <td>W2V+LSTM+stemm</td>\n",
       "      <td>0.521886</td>\n",
       "      <td>0.526667</td>\n",
       "    </tr>\n",
       "  </tbody>\n",
       "</table>\n",
       "</div>"
      ],
      "text/plain": [
       "             model  f1_score  accuracy\n",
       "0   W2V+LSTM+brute  0.564417  0.526667\n",
       "1  W2V+LSTM+traite  0.461538  0.533333\n",
       "2   W2V+LSTM+stemm  0.521886  0.526667"
      ]
     },
     "execution_count": 28,
     "metadata": {},
     "output_type": "execute_result"
    }
   ],
   "source": [
    "df_classement_model = df_classement(\"W2V+LSTM+stemm\", y_test_1d_stemm,\n",
    "                                    y_pred_1d_stemm)\n",
    "df_classement_model"
   ]
  },
  {
   "cell_type": "markdown",
   "id": "6bb05e14",
   "metadata": {},
   "source": [
    "### Avec tweet lemm"
   ]
  },
  {
   "cell_type": "code",
   "execution_count": 29,
   "id": "71c69158",
   "metadata": {},
   "outputs": [
    {
     "name": "stdout",
     "output_type": "stream",
     "text": [
      "Vocab size 379\n",
      "Total words 4536\n",
      "y_test (600, 1)\n",
      "x_train (2400, 300)\n",
      "y_train (2400, 1)\n",
      "x_test (600, 300)\n",
      "(4536, 300)\n"
     ]
    }
   ],
   "source": [
    "x_train_lemm, x_test_lemm, y_test_lemm, y_train_lemm, embedding_layer_lemm, tokenizer_w2v_lemm = word2vec(\n",
    "    'tweet_lemm')"
   ]
  },
  {
   "cell_type": "code",
   "execution_count": 30,
   "id": "77fe9b52",
   "metadata": {},
   "outputs": [
    {
     "name": "stdout",
     "output_type": "stream",
     "text": [
      "Model: \"sequential_3\"\n",
      "_________________________________________________________________\n",
      " Layer (type)                Output Shape              Param #   \n",
      "=================================================================\n",
      " embedding_3 (Embedding)     (None, 300, 300)          1360800   \n",
      "                                                                 \n",
      " dropout_3 (Dropout)         (None, 300, 300)          0         \n",
      "                                                                 \n",
      " lstm_3 (LSTM)               (None, 100)               160400    \n",
      "                                                                 \n",
      " dense_3 (Dense)             (None, 1)                 101       \n",
      "                                                                 \n",
      "=================================================================\n",
      "Total params: 1,521,301\n",
      "Trainable params: 160,501\n",
      "Non-trainable params: 1,360,800\n",
      "_________________________________________________________________\n",
      "Epoch 1/15\n",
      "432/432 [==============================] - ETA: 0s - loss: 0.6963 - accuracy: 0.4917WARNING:tensorflow:Early stopping conditioned on metric `val_acc` which is not available. Available metrics are: loss,accuracy,val_loss,val_accuracy\n",
      "432/432 [==============================] - 110s 252ms/step - loss: 0.6963 - accuracy: 0.4917 - val_loss: 0.6984 - val_accuracy: 0.5208\n",
      "Epoch 2/15\n",
      "432/432 [==============================] - ETA: 0s - loss: 0.6957 - accuracy: 0.4977WARNING:tensorflow:Early stopping conditioned on metric `val_acc` which is not available. Available metrics are: loss,accuracy,val_loss,val_accuracy\n",
      "432/432 [==============================] - 108s 251ms/step - loss: 0.6957 - accuracy: 0.4977 - val_loss: 0.6905 - val_accuracy: 0.5208\n",
      "Epoch 3/15\n",
      "432/432 [==============================] - ETA: 0s - loss: 0.6941 - accuracy: 0.5051WARNING:tensorflow:Early stopping conditioned on metric `val_acc` which is not available. Available metrics are: loss,accuracy,val_loss,val_accuracy\n",
      "432/432 [==============================] - 108s 251ms/step - loss: 0.6941 - accuracy: 0.5051 - val_loss: 0.6918 - val_accuracy: 0.5250\n",
      "Epoch 4/15\n",
      "432/432 [==============================] - ETA: 0s - loss: 0.6928 - accuracy: 0.5028WARNING:tensorflow:Early stopping conditioned on metric `val_acc` which is not available. Available metrics are: loss,accuracy,val_loss,val_accuracy\n",
      "432/432 [==============================] - 109s 253ms/step - loss: 0.6928 - accuracy: 0.5028 - val_loss: 0.6919 - val_accuracy: 0.5125\n",
      "Epoch 5/15\n",
      "432/432 [==============================] - ETA: 0s - loss: 0.6921 - accuracy: 0.5157WARNING:tensorflow:Early stopping conditioned on metric `val_acc` which is not available. Available metrics are: loss,accuracy,val_loss,val_accuracy\n",
      "432/432 [==============================] - 108s 250ms/step - loss: 0.6921 - accuracy: 0.5157 - val_loss: 0.6907 - val_accuracy: 0.5167\n",
      "Epoch 6/15\n",
      "432/432 [==============================] - ETA: 0s - loss: 0.6916 - accuracy: 0.5227WARNING:tensorflow:Early stopping conditioned on metric `val_acc` which is not available. Available metrics are: loss,accuracy,val_loss,val_accuracy\n",
      "432/432 [==============================] - 108s 250ms/step - loss: 0.6916 - accuracy: 0.5227 - val_loss: 0.6908 - val_accuracy: 0.5125\n",
      "Epoch 7/15\n",
      "432/432 [==============================] - ETA: 0s - loss: 0.6918 - accuracy: 0.5116WARNING:tensorflow:Early stopping conditioned on metric `val_acc` which is not available. Available metrics are: loss,accuracy,val_loss,val_accuracy\n",
      "432/432 [==============================] - 108s 250ms/step - loss: 0.6918 - accuracy: 0.5116 - val_loss: 0.7022 - val_accuracy: 0.5333\n",
      "Epoch 8/15\n",
      "432/432 [==============================] - ETA: 0s - loss: 0.6917 - accuracy: 0.5134WARNING:tensorflow:Early stopping conditioned on metric `val_acc` which is not available. Available metrics are: loss,accuracy,val_loss,val_accuracy\n",
      "432/432 [==============================] - 109s 251ms/step - loss: 0.6917 - accuracy: 0.5134 - val_loss: 0.6904 - val_accuracy: 0.5042\n",
      "Epoch 9/15\n",
      "432/432 [==============================] - ETA: 0s - loss: 0.6914 - accuracy: 0.5255WARNING:tensorflow:Early stopping conditioned on metric `val_acc` which is not available. Available metrics are: loss,accuracy,val_loss,val_accuracy\n",
      "432/432 [==============================] - 108s 251ms/step - loss: 0.6914 - accuracy: 0.5255 - val_loss: 0.6907 - val_accuracy: 0.5083\n",
      "Epoch 10/15\n",
      "432/432 [==============================] - ETA: 0s - loss: 0.6904 - accuracy: 0.5347WARNING:tensorflow:Early stopping conditioned on metric `val_acc` which is not available. Available metrics are: loss,accuracy,val_loss,val_accuracy\n",
      "432/432 [==============================] - 109s 252ms/step - loss: 0.6904 - accuracy: 0.5347 - val_loss: 0.6875 - val_accuracy: 0.5250\n",
      "Epoch 11/15\n",
      "432/432 [==============================] - ETA: 0s - loss: 0.6907 - accuracy: 0.5370WARNING:tensorflow:Early stopping conditioned on metric `val_acc` which is not available. Available metrics are: loss,accuracy,val_loss,val_accuracy\n",
      "432/432 [==============================] - 108s 250ms/step - loss: 0.6907 - accuracy: 0.5370 - val_loss: 0.6893 - val_accuracy: 0.5125\n",
      "Epoch 12/15\n",
      "432/432 [==============================] - ETA: 0s - loss: 0.6889 - accuracy: 0.5509WARNING:tensorflow:Early stopping conditioned on metric `val_acc` which is not available. Available metrics are: loss,accuracy,val_loss,val_accuracy\n",
      "432/432 [==============================] - 109s 252ms/step - loss: 0.6889 - accuracy: 0.5509 - val_loss: 0.6896 - val_accuracy: 0.5167\n",
      "Epoch 13/15\n",
      "432/432 [==============================] - ETA: 0s - loss: 0.6872 - accuracy: 0.5523WARNING:tensorflow:Early stopping conditioned on metric `val_acc` which is not available. Available metrics are: loss,accuracy,val_loss,val_accuracy\n",
      "432/432 [==============================] - 109s 251ms/step - loss: 0.6872 - accuracy: 0.5523 - val_loss: 0.6908 - val_accuracy: 0.5167\n",
      "Epoch 14/15\n",
      "432/432 [==============================] - ETA: 0s - loss: 0.6910 - accuracy: 0.5306WARNING:tensorflow:Early stopping conditioned on metric `val_acc` which is not available. Available metrics are: loss,accuracy,val_loss,val_accuracy\n",
      "432/432 [==============================] - 108s 250ms/step - loss: 0.6910 - accuracy: 0.5306 - val_loss: 0.6950 - val_accuracy: 0.5208\n",
      "Epoch 15/15\n",
      "432/432 [==============================] - ETA: 0s - loss: 0.6895 - accuracy: 0.5338WARNING:tensorflow:Early stopping conditioned on metric `val_acc` which is not available. Available metrics are: loss,accuracy,val_loss,val_accuracy\n",
      "432/432 [==============================] - 107s 248ms/step - loss: 0.6895 - accuracy: 0.5338 - val_loss: 0.6904 - val_accuracy: 0.5333\n",
      "120/120 [==============================] - 5s 39ms/step - loss: 0.6917 - accuracy: 0.5067\n",
      "\n",
      "ACCURACY: 0.5066666603088379\n",
      "LOSS: 0.6916686296463013\n"
     ]
    },
    {
     "data": {
      "image/png": "[encoded data removed]",
      "text/plain": [
       "<Figure size 432x288 with 1 Axes>"
      ]
     },
     "metadata": {
      "needs_background": "light"
     },
     "output_type": "display_data"
    },
    {
     "data": {
      "image/png": "[encoded data removed]",
      "text/plain": [
       "<Figure size 432x288 with 1 Axes>"
      ]
     },
     "metadata": {
      "needs_background": "light"
     },
     "output_type": "display_data"
    },
    {
     "name": "stdout",
     "output_type": "stream",
     "text": [
      "1/1 [==============================] - 1s 655ms/step\n",
      "CPU times: user 1h 45min 3s, sys: 38min 9s, total: 2h 23min 12s\n",
      "Wall time: 27min 12s\n"
     ]
    }
   ],
   "source": [
    "%%time\n",
    "y_test_1d_lemm, y_pred_1d_lemm, model_W2V_LSTM_lemm = lstm_model(\n",
    "    x_train_lemm, x_test_lemm, y_test_lemm, y_train_lemm, embedding_layer_lemm,\n",
    "    tokenizer_w2v_lemm)"
   ]
  },
  {
   "cell_type": "code",
   "execution_count": 31,
   "id": "6bc2c319",
   "metadata": {},
   "outputs": [
    {
     "data": {
      "image/png": "[encoded data removed]",
      "text/plain": [
       "<Figure size 432x432 with 2 Axes>"
      ]
     },
     "metadata": {
      "needs_background": "light"
     },
     "output_type": "display_data"
    },
    {
     "name": "stdout",
     "output_type": "stream",
     "text": [
      "CPU times: user 180 ms, sys: 83.7 ms, total: 264 ms\n",
      "Wall time: 127 ms\n"
     ]
    }
   ],
   "source": [
    "%%time\n",
    "cnf_matrix = confusion_matrix(y_test_1d_lemm, y_pred_1d_lemm)\n",
    "plt.figure(figsize=(6, 6))\n",
    "plot_confusion_matrix(cnf_matrix,\n",
    "                      classes=df_train.sentiment.unique(),\n",
    "                      title=\"Confusion matrix\")\n",
    "plt.show()"
   ]
  },
  {
   "cell_type": "code",
   "execution_count": 32,
   "id": "b0553275",
   "metadata": {},
   "outputs": [
    {
     "name": "stderr",
     "output_type": "stream",
     "text": [
      "/tmp/ipykernel_2340/718858219.py:8: FutureWarning: The frame.append method is deprecated and will be removed from pandas in a future version. Use pandas.concat instead.\n",
      "  df = df_classement_model.append(\n"
     ]
    },
    {
     "data": {
      "text/html": [
       "<div>\n",
       "<style scoped>\n",
       "    .dataframe tbody tr th:only-of-type {\n",
       "        vertical-align: middle;\n",
       "    }\n",
       "\n",
       "    .dataframe tbody tr th {\n",
       "        vertical-align: top;\n",
       "    }\n",
       "\n",
       "    .dataframe thead th {\n",
       "        text-align: right;\n",
       "    }\n",
       "</style>\n",
       "<table border=\"1\" class=\"dataframe\">\n",
       "  <thead>\n",
       "    <tr style=\"text-align: right;\">\n",
       "      <th></th>\n",
       "      <th>model</th>\n",
       "      <th>f1_score</th>\n",
       "      <th>accuracy</th>\n",
       "    </tr>\n",
       "  </thead>\n",
       "  <tbody>\n",
       "    <tr>\n",
       "      <th>0</th>\n",
       "      <td>W2V+LSTM+brute</td>\n",
       "      <td>0.564417</td>\n",
       "      <td>0.526667</td>\n",
       "    </tr>\n",
       "    <tr>\n",
       "      <th>1</th>\n",
       "      <td>W2V+LSTM+traite</td>\n",
       "      <td>0.461538</td>\n",
       "      <td>0.533333</td>\n",
       "    </tr>\n",
       "    <tr>\n",
       "      <th>2</th>\n",
       "      <td>W2V+LSTM+stemm</td>\n",
       "      <td>0.521886</td>\n",
       "      <td>0.526667</td>\n",
       "    </tr>\n",
       "    <tr>\n",
       "      <th>3</th>\n",
       "      <td>W2V+LSTM+lemm</td>\n",
       "      <td>0.400810</td>\n",
       "      <td>0.506667</td>\n",
       "    </tr>\n",
       "  </tbody>\n",
       "</table>\n",
       "</div>"
      ],
      "text/plain": [
       "             model  f1_score  accuracy\n",
       "0   W2V+LSTM+brute  0.564417  0.526667\n",
       "1  W2V+LSTM+traite  0.461538  0.533333\n",
       "2   W2V+LSTM+stemm  0.521886  0.526667\n",
       "3    W2V+LSTM+lemm  0.400810  0.506667"
      ]
     },
     "execution_count": 32,
     "metadata": {},
     "output_type": "execute_result"
    }
   ],
   "source": [
    "df_classement_model = df_classement(\"W2V+LSTM+lemm\", y_test_1d_lemm,\n",
    "                                    y_pred_1d_lemm)\n",
    "df_classement_model"
   ]
  },
  {
   "cell_type": "markdown",
   "id": "610ef241",
   "metadata": {},
   "source": [
    "Nous avons maintenant terminé la partie avec pour word embedding **Word2Vec** et pour modèle **LSTM**.\n",
    "\n",
    "Voici les scores obtenus."
   ]
  },
  {
   "cell_type": "code",
   "execution_count": 33,
   "id": "a3818070",
   "metadata": {},
   "outputs": [
    {
     "data": {
      "text/plain": [
       "<AxesSubplot:ylabel='model'>"
      ]
     },
     "execution_count": 33,
     "metadata": {},
     "output_type": "execute_result"
    },
    {
     "data": {
      "image/png": "[encoded data removed]",
      "text/plain": [
       "<Figure size 1152x792 with 1 Axes>"
      ]
     },
     "metadata": {
      "needs_background": "light"
     },
     "output_type": "display_data"
    }
   ],
   "source": [
    "df_classement_model.plot.barh(x='model', figsize=(16, 11))"
   ]
  },
  {
   "cell_type": "markdown",
   "id": "f908eeed",
   "metadata": {},
   "source": [
    "# Modèle | Glov"
   ]
  },
  {
   "cell_type": "code",
   "execution_count": 34,
   "id": "1f9c8212",
   "metadata": {},
   "outputs": [
    {
     "name": "stdout",
     "output_type": "stream",
     "text": [
      "TRAIN size: 2400\n",
      "TEST size: 600\n"
     ]
    }
   ],
   "source": [
    "df_train, df_test = train_test_split(df_glov,\n",
    "                                     test_size=1 - TRAIN_SIZE,\n",
    "                                     random_state=42)\n",
    "print(\"TRAIN size:\", len(df_train))\n",
    "print(\"TEST size:\", len(df_test))"
   ]
  },
  {
   "cell_type": "markdown",
   "id": "71c9166f",
   "metadata": {},
   "source": [
    "## Modèle avancé"
   ]
  },
  {
   "cell_type": "markdown",
   "id": "d22b62dc",
   "metadata": {},
   "source": [
    "### Avec tweet brut"
   ]
  },
  {
   "cell_type": "code",
   "execution_count": 35,
   "id": "e6566b62",
   "metadata": {},
   "outputs": [
    {
     "name": "stdout",
     "output_type": "stream",
     "text": [
      "CPU times: user 71.9 ms, sys: 0 ns, total: 71.9 ms\n",
      "Wall time: 70.4 ms\n"
     ]
    }
   ],
   "source": [
    "%%time\n",
    "x_train_brute, x_test_brute, y_test_brute, y_train_brute, embedding_layer_brute, tokenizer_glove_brute = glov(\n",
    "    \"tweet\")"
   ]
  },
  {
   "cell_type": "code",
   "execution_count": 36,
   "id": "656b2f87",
   "metadata": {},
   "outputs": [
    {
     "name": "stdout",
     "output_type": "stream",
     "text": [
      "Model: \"sequential_4\"\n",
      "_________________________________________________________________\n",
      " Layer (type)                Output Shape              Param #   \n",
      "=================================================================\n",
      " embedding_4 (Embedding)     (None, 30, 300)           2077800   \n",
      "                                                                 \n",
      " dropout_4 (Dropout)         (None, 30, 300)           0         \n",
      "                                                                 \n",
      " lstm_4 (LSTM)               (None, 100)               160400    \n",
      "                                                                 \n",
      " dense_4 (Dense)             (None, 1)                 101       \n",
      "                                                                 \n",
      "=================================================================\n",
      "Total params: 2,238,301\n",
      "Trainable params: 160,501\n",
      "Non-trainable params: 2,077,800\n",
      "_________________________________________________________________\n",
      "Epoch 1/15\n",
      "432/432 [==============================] - ETA: 0s - loss: 0.6626 - accuracy: 0.5944WARNING:tensorflow:Early stopping conditioned on metric `val_acc` which is not available. Available metrics are: loss,accuracy,val_loss,val_accuracy\n",
      "432/432 [==============================] - 14s 29ms/step - loss: 0.6626 - accuracy: 0.5944 - val_loss: 0.5820 - val_accuracy: 0.7125\n",
      "Epoch 2/15\n",
      "432/432 [==============================] - ETA: 0s - loss: 0.5980 - accuracy: 0.6764WARNING:tensorflow:Early stopping conditioned on metric `val_acc` which is not available. Available metrics are: loss,accuracy,val_loss,val_accuracy\n",
      "432/432 [==============================] - 12s 29ms/step - loss: 0.5980 - accuracy: 0.6764 - val_loss: 0.5561 - val_accuracy: 0.7167\n",
      "Epoch 3/15\n",
      "432/432 [==============================] - ETA: 0s - loss: 0.5596 - accuracy: 0.7037WARNING:tensorflow:Early stopping conditioned on metric `val_acc` which is not available. Available metrics are: loss,accuracy,val_loss,val_accuracy\n",
      "432/432 [==============================] - 12s 29ms/step - loss: 0.5596 - accuracy: 0.7037 - val_loss: 0.5645 - val_accuracy: 0.6958\n",
      "Epoch 4/15\n",
      "432/432 [==============================] - ETA: 0s - loss: 0.5320 - accuracy: 0.7394WARNING:tensorflow:Early stopping conditioned on metric `val_acc` which is not available. Available metrics are: loss,accuracy,val_loss,val_accuracy\n",
      "432/432 [==============================] - 12s 29ms/step - loss: 0.5320 - accuracy: 0.7394 - val_loss: 0.5055 - val_accuracy: 0.7333\n",
      "Epoch 5/15\n",
      "431/432 [============================>.] - ETA: 0s - loss: 0.5102 - accuracy: 0.7480WARNING:tensorflow:Early stopping conditioned on metric `val_acc` which is not available. Available metrics are: loss,accuracy,val_loss,val_accuracy\n",
      "432/432 [==============================] - 12s 29ms/step - loss: 0.5098 - accuracy: 0.7481 - val_loss: 0.4870 - val_accuracy: 0.7792\n",
      "Epoch 6/15\n",
      "432/432 [==============================] - ETA: 0s - loss: 0.4799 - accuracy: 0.7704WARNING:tensorflow:Early stopping conditioned on metric `val_acc` which is not available. Available metrics are: loss,accuracy,val_loss,val_accuracy\n",
      "432/432 [==============================] - 12s 29ms/step - loss: 0.4799 - accuracy: 0.7704 - val_loss: 0.4865 - val_accuracy: 0.7833\n",
      "Epoch 7/15\n",
      "432/432 [==============================] - ETA: 0s - loss: 0.4447 - accuracy: 0.7856WARNING:tensorflow:Early stopping conditioned on metric `val_acc` which is not available. Available metrics are: loss,accuracy,val_loss,val_accuracy\n",
      "432/432 [==============================] - 12s 28ms/step - loss: 0.4447 - accuracy: 0.7856 - val_loss: 0.4804 - val_accuracy: 0.7750\n",
      "Epoch 8/15\n",
      "431/432 [============================>.] - ETA: 0s - loss: 0.4124 - accuracy: 0.8065WARNING:tensorflow:Early stopping conditioned on metric `val_acc` which is not available. Available metrics are: loss,accuracy,val_loss,val_accuracy\n",
      "432/432 [==============================] - 12s 29ms/step - loss: 0.4122 - accuracy: 0.8069 - val_loss: 0.5200 - val_accuracy: 0.7375\n",
      "Epoch 9/15\n",
      "432/432 [==============================] - ETA: 0s - loss: 0.3834 - accuracy: 0.8227WARNING:tensorflow:Early stopping conditioned on metric `val_acc` which is not available. Available metrics are: loss,accuracy,val_loss,val_accuracy\n",
      "432/432 [==============================] - 12s 28ms/step - loss: 0.3834 - accuracy: 0.8227 - val_loss: 0.5151 - val_accuracy: 0.7500\n",
      "Epoch 10/15\n",
      "431/432 [============================>.] - ETA: 0s - loss: 0.3635 - accuracy: 0.8422WARNING:tensorflow:Early stopping conditioned on metric `val_acc` which is not available. Available metrics are: loss,accuracy,val_loss,val_accuracy\n",
      "432/432 [==============================] - 12s 28ms/step - loss: 0.3637 - accuracy: 0.8417 - val_loss: 0.4935 - val_accuracy: 0.7833\n",
      "Epoch 11/15\n",
      "432/432 [==============================] - ETA: 0s - loss: 0.3337 - accuracy: 0.8509WARNING:tensorflow:Early stopping conditioned on metric `val_acc` which is not available. Available metrics are: loss,accuracy,val_loss,val_accuracy\n",
      "432/432 [==============================] - 12s 28ms/step - loss: 0.3337 - accuracy: 0.8509 - val_loss: 0.5053 - val_accuracy: 0.7792\n",
      "Epoch 12/15\n",
      "432/432 [==============================] - ETA: 0s - loss: 0.3070 - accuracy: 0.8667WARNING:tensorflow:Early stopping conditioned on metric `val_acc` which is not available. Available metrics are: loss,accuracy,val_loss,val_accuracy\n",
      "432/432 [==============================] - 12s 29ms/step - loss: 0.3070 - accuracy: 0.8667 - val_loss: 0.5748 - val_accuracy: 0.7542\n",
      "Epoch 13/15\n",
      "432/432 [==============================] - ETA: 0s - loss: 0.2875 - accuracy: 0.8819WARNING:tensorflow:Early stopping conditioned on metric `val_acc` which is not available. Available metrics are: loss,accuracy,val_loss,val_accuracy\n",
      "432/432 [==============================] - 12s 29ms/step - loss: 0.2875 - accuracy: 0.8819 - val_loss: 0.5857 - val_accuracy: 0.7458\n",
      "Epoch 14/15\n",
      "431/432 [============================>.] - ETA: 0s - loss: 0.2674 - accuracy: 0.8840WARNING:tensorflow:Early stopping conditioned on metric `val_acc` which is not available. Available metrics are: loss,accuracy,val_loss,val_accuracy\n",
      "432/432 [==============================] - 12s 28ms/step - loss: 0.2668 - accuracy: 0.8843 - val_loss: 0.6241 - val_accuracy: 0.7250\n",
      "Epoch 15/15\n",
      "432/432 [==============================] - ETA: 0s - loss: 0.2452 - accuracy: 0.8935WARNING:tensorflow:Early stopping conditioned on metric `val_acc` which is not available. Available metrics are: loss,accuracy,val_loss,val_accuracy\n",
      "432/432 [==============================] - 12s 29ms/step - loss: 0.2452 - accuracy: 0.8935 - val_loss: 0.6177 - val_accuracy: 0.7500\n",
      "120/120 [==============================] - 1s 5ms/step - loss: 0.7142 - accuracy: 0.6867\n",
      "\n",
      "ACCURACY: 0.6866666674613953\n",
      "LOSS: 0.7142260074615479\n"
     ]
    },
    {
     "data": {
      "image/png": "[encoded data removed]",
      "text/plain": [
       "<Figure size 432x288 with 1 Axes>"
      ]
     },
     "metadata": {
      "needs_background": "light"
     },
     "output_type": "display_data"
    },
    {
     "data": {
      "image/png": "[encoded data removed]",
      "text/plain": [
       "<Figure size 432x288 with 1 Axes>"
      ]
     },
     "metadata": {
      "needs_background": "light"
     },
     "output_type": "display_data"
    },
    {
     "name": "stdout",
     "output_type": "stream",
     "text": [
      "WARNING:tensorflow:5 out of the last 5 calls to <function Model.make_predict_function.<locals>.predict_function at 0x7f5dabe18d30> triggered tf.function retracing. Tracing is expensive and the excessive number of tracings could be due to (1) creating @tf.function repeatedly in a loop, (2) passing tensors with different shapes, (3) passing Python objects instead of tensors. For (1), please define your @tf.function outside of the loop. For (2), @tf.function has reduce_retracing=True option that can avoid unnecessary retracing. For (3), please refer to https://www.tensorflow.org/guide/function#controlling_retracing and https://www.tensorflow.org/api_docs/python/tf/function for  more details.\n",
      "1/1 [==============================] - 0s 189ms/step\n"
     ]
    }
   ],
   "source": [
    "y_test_1d_brute, y_pred_1d_brute, model_GLOVE_LSTM_brute = lstm_model(\n",
    "    x_train_brute, x_test_brute, y_test_brute, y_train_brute,\n",
    "    embedding_layer_brute, tokenizer_glove_brute)"
   ]
  },
  {
   "cell_type": "code",
   "execution_count": 37,
   "id": "42602319",
   "metadata": {},
   "outputs": [
    {
     "data": {
      "image/png": "[encoded data removed]",
      "text/plain": [
       "<Figure size 432x432 with 2 Axes>"
      ]
     },
     "metadata": {
      "needs_background": "light"
     },
     "output_type": "display_data"
    }
   ],
   "source": [
    "cnf_matrix = confusion_matrix(y_test_1d_brute, y_pred_1d_brute)\n",
    "plt.figure(figsize=(6, 6))\n",
    "plot_confusion_matrix(cnf_matrix,\n",
    "                      classes=df_train.sentiment.unique(),\n",
    "                      title=\"Confusion matrix\")\n",
    "plt.show()"
   ]
  },
  {
   "cell_type": "code",
   "execution_count": 38,
   "id": "eca807c3",
   "metadata": {},
   "outputs": [
    {
     "name": "stderr",
     "output_type": "stream",
     "text": [
      "/tmp/ipykernel_2340/718858219.py:8: FutureWarning: The frame.append method is deprecated and will be removed from pandas in a future version. Use pandas.concat instead.\n",
      "  df = df_classement_model.append(\n"
     ]
    },
    {
     "data": {
      "text/html": [
       "<div>\n",
       "<style scoped>\n",
       "    .dataframe tbody tr th:only-of-type {\n",
       "        vertical-align: middle;\n",
       "    }\n",
       "\n",
       "    .dataframe tbody tr th {\n",
       "        vertical-align: top;\n",
       "    }\n",
       "\n",
       "    .dataframe thead th {\n",
       "        text-align: right;\n",
       "    }\n",
       "</style>\n",
       "<table border=\"1\" class=\"dataframe\">\n",
       "  <thead>\n",
       "    <tr style=\"text-align: right;\">\n",
       "      <th></th>\n",
       "      <th>model</th>\n",
       "      <th>f1_score</th>\n",
       "      <th>accuracy</th>\n",
       "    </tr>\n",
       "  </thead>\n",
       "  <tbody>\n",
       "    <tr>\n",
       "      <th>0</th>\n",
       "      <td>W2V+LSTM+brute</td>\n",
       "      <td>0.564417</td>\n",
       "      <td>0.526667</td>\n",
       "    </tr>\n",
       "    <tr>\n",
       "      <th>1</th>\n",
       "      <td>W2V+LSTM+traite</td>\n",
       "      <td>0.461538</td>\n",
       "      <td>0.533333</td>\n",
       "    </tr>\n",
       "    <tr>\n",
       "      <th>2</th>\n",
       "      <td>W2V+LSTM+stemm</td>\n",
       "      <td>0.521886</td>\n",
       "      <td>0.526667</td>\n",
       "    </tr>\n",
       "    <tr>\n",
       "      <th>3</th>\n",
       "      <td>W2V+LSTM+lemm</td>\n",
       "      <td>0.400810</td>\n",
       "      <td>0.506667</td>\n",
       "    </tr>\n",
       "    <tr>\n",
       "      <th>4</th>\n",
       "      <td>GLOVE+LSTM+brute</td>\n",
       "      <td>0.691803</td>\n",
       "      <td>0.686667</td>\n",
       "    </tr>\n",
       "  </tbody>\n",
       "</table>\n",
       "</div>"
      ],
      "text/plain": [
       "              model  f1_score  accuracy\n",
       "0    W2V+LSTM+brute  0.564417  0.526667\n",
       "1   W2V+LSTM+traite  0.461538  0.533333\n",
       "2    W2V+LSTM+stemm  0.521886  0.526667\n",
       "3     W2V+LSTM+lemm  0.400810  0.506667\n",
       "4  GLOVE+LSTM+brute  0.691803  0.686667"
      ]
     },
     "execution_count": 38,
     "metadata": {},
     "output_type": "execute_result"
    }
   ],
   "source": [
    "df_classement_model = df_classement(\"GLOVE+LSTM+brute\", y_test_1d_brute,\n",
    "                                    y_pred_1d_brute)\n",
    "df_classement_model"
   ]
  },
  {
   "cell_type": "markdown",
   "id": "e11fa12a",
   "metadata": {},
   "source": [
    "### Avec tweet traite"
   ]
  },
  {
   "cell_type": "code",
   "execution_count": 39,
   "id": "3bc25e68",
   "metadata": {},
   "outputs": [
    {
     "name": "stdout",
     "output_type": "stream",
     "text": [
      "CPU times: user 67.7 ms, sys: 0 ns, total: 67.7 ms\n",
      "Wall time: 65.8 ms\n"
     ]
    }
   ],
   "source": [
    "%%time\n",
    "x_train_traite, x_test_traite, y_test_traite, y_train_traite, embedding_layer_traite, tokenizer_glove_traite = glov(\n",
    "    'tweet_traite')"
   ]
  },
  {
   "cell_type": "code",
   "execution_count": 40,
   "id": "a604cf43",
   "metadata": {},
   "outputs": [
    {
     "name": "stdout",
     "output_type": "stream",
     "text": [
      "Model: \"sequential_5\"\n",
      "_________________________________________________________________\n",
      " Layer (type)                Output Shape              Param #   \n",
      "=================================================================\n",
      " embedding_5 (Embedding)     (None, 30, 300)           1574100   \n",
      "                                                                 \n",
      " dropout_5 (Dropout)         (None, 30, 300)           0         \n",
      "                                                                 \n",
      " lstm_5 (LSTM)               (None, 100)               160400    \n",
      "                                                                 \n",
      " dense_5 (Dense)             (None, 1)                 101       \n",
      "                                                                 \n",
      "=================================================================\n",
      "Total params: 1,734,601\n",
      "Trainable params: 160,501\n",
      "Non-trainable params: 1,574,100\n",
      "_________________________________________________________________\n",
      "Epoch 1/15\n",
      "432/432 [==============================] - ETA: 0s - loss: 0.6543 - accuracy: 0.6120WARNING:tensorflow:Early stopping conditioned on metric `val_acc` which is not available. Available metrics are: loss,accuracy,val_loss,val_accuracy\n",
      "432/432 [==============================] - 13s 28ms/step - loss: 0.6543 - accuracy: 0.6120 - val_loss: 0.5044 - val_accuracy: 0.7583\n",
      "Epoch 2/15\n",
      "431/432 [============================>.] - ETA: 0s - loss: 0.5904 - accuracy: 0.6826WARNING:tensorflow:Early stopping conditioned on metric `val_acc` which is not available. Available metrics are: loss,accuracy,val_loss,val_accuracy\n",
      "432/432 [==============================] - 12s 27ms/step - loss: 0.5912 - accuracy: 0.6819 - val_loss: 0.5542 - val_accuracy: 0.7208\n",
      "Epoch 3/15\n",
      "431/432 [============================>.] - ETA: 0s - loss: 0.5619 - accuracy: 0.7118WARNING:tensorflow:Early stopping conditioned on metric `val_acc` which is not available. Available metrics are: loss,accuracy,val_loss,val_accuracy\n",
      "432/432 [==============================] - 12s 28ms/step - loss: 0.5616 - accuracy: 0.7120 - val_loss: 0.4978 - val_accuracy: 0.7542\n",
      "Epoch 4/15\n",
      "431/432 [============================>.] - ETA: 0s - loss: 0.5207 - accuracy: 0.7397WARNING:tensorflow:Early stopping conditioned on metric `val_acc` which is not available. Available metrics are: loss,accuracy,val_loss,val_accuracy\n",
      "432/432 [==============================] - 12s 27ms/step - loss: 0.5209 - accuracy: 0.7398 - val_loss: 0.4999 - val_accuracy: 0.7625\n",
      "Epoch 5/15\n",
      "432/432 [==============================] - ETA: 0s - loss: 0.4977 - accuracy: 0.7551WARNING:tensorflow:Early stopping conditioned on metric `val_acc` which is not available. Available metrics are: loss,accuracy,val_loss,val_accuracy\n",
      "432/432 [==============================] - 12s 28ms/step - loss: 0.4977 - accuracy: 0.7551 - val_loss: 0.4827 - val_accuracy: 0.7708\n",
      "Epoch 6/15\n",
      "431/432 [============================>.] - ETA: 0s - loss: 0.4677 - accuracy: 0.7671WARNING:tensorflow:Early stopping conditioned on metric `val_acc` which is not available. Available metrics are: loss,accuracy,val_loss,val_accuracy\n",
      "432/432 [==============================] - 12s 28ms/step - loss: 0.4684 - accuracy: 0.7667 - val_loss: 0.4739 - val_accuracy: 0.7667\n",
      "Epoch 7/15\n",
      "432/432 [==============================] - ETA: 0s - loss: 0.4441 - accuracy: 0.7931WARNING:tensorflow:Early stopping conditioned on metric `val_acc` which is not available. Available metrics are: loss,accuracy,val_loss,val_accuracy\n",
      "432/432 [==============================] - 12s 28ms/step - loss: 0.4441 - accuracy: 0.7931 - val_loss: 0.4789 - val_accuracy: 0.7625\n",
      "Epoch 8/15\n",
      "431/432 [============================>.] - ETA: 0s - loss: 0.4108 - accuracy: 0.8097WARNING:tensorflow:Early stopping conditioned on metric `val_acc` which is not available. Available metrics are: loss,accuracy,val_loss,val_accuracy\n",
      "432/432 [==============================] - 12s 28ms/step - loss: 0.4108 - accuracy: 0.8093 - val_loss: 0.4794 - val_accuracy: 0.7708\n",
      "Epoch 9/15\n",
      "431/432 [============================>.] - ETA: 0s - loss: 0.3727 - accuracy: 0.8162WARNING:tensorflow:Early stopping conditioned on metric `val_acc` which is not available. Available metrics are: loss,accuracy,val_loss,val_accuracy\n",
      "432/432 [==============================] - 12s 28ms/step - loss: 0.3723 - accuracy: 0.8167 - val_loss: 0.4773 - val_accuracy: 0.7750\n",
      "Epoch 10/15\n",
      "431/432 [============================>.] - ETA: 0s - loss: 0.3458 - accuracy: 0.8450WARNING:tensorflow:Early stopping conditioned on metric `val_acc` which is not available. Available metrics are: loss,accuracy,val_loss,val_accuracy\n",
      "432/432 [==============================] - 12s 28ms/step - loss: 0.3461 - accuracy: 0.8444 - val_loss: 0.5141 - val_accuracy: 0.7375\n",
      "Epoch 11/15\n",
      "431/432 [============================>.] - ETA: 0s - loss: 0.3235 - accuracy: 0.8529WARNING:tensorflow:Early stopping conditioned on metric `val_acc` which is not available. Available metrics are: loss,accuracy,val_loss,val_accuracy\n",
      "432/432 [==============================] - 12s 28ms/step - loss: 0.3249 - accuracy: 0.8519 - val_loss: 0.4628 - val_accuracy: 0.7875\n",
      "Epoch 12/15\n",
      "431/432 [============================>.] - ETA: 0s - loss: 0.2881 - accuracy: 0.8742WARNING:tensorflow:Early stopping conditioned on metric `val_acc` which is not available. Available metrics are: loss,accuracy,val_loss,val_accuracy\n",
      "432/432 [==============================] - 12s 28ms/step - loss: 0.2882 - accuracy: 0.8741 - val_loss: 0.4612 - val_accuracy: 0.8000\n",
      "Epoch 13/15\n",
      "432/432 [==============================] - ETA: 0s - loss: 0.2870 - accuracy: 0.8819WARNING:tensorflow:Early stopping conditioned on metric `val_acc` which is not available. Available metrics are: loss,accuracy,val_loss,val_accuracy\n",
      "432/432 [==============================] - 12s 28ms/step - loss: 0.2870 - accuracy: 0.8819 - val_loss: 0.5223 - val_accuracy: 0.7625\n",
      "Epoch 14/15\n",
      "431/432 [============================>.] - ETA: 0s - loss: 0.2658 - accuracy: 0.8905WARNING:tensorflow:Early stopping conditioned on metric `val_acc` which is not available. Available metrics are: loss,accuracy,val_loss,val_accuracy\n",
      "432/432 [==============================] - 12s 27ms/step - loss: 0.2654 - accuracy: 0.8907 - val_loss: 0.5004 - val_accuracy: 0.7625\n",
      "Epoch 15/15\n",
      "432/432 [==============================] - ETA: 0s - loss: 0.2508 - accuracy: 0.9032WARNING:tensorflow:Early stopping conditioned on metric `val_acc` which is not available. Available metrics are: loss,accuracy,val_loss,val_accuracy\n",
      "432/432 [==============================] - 12s 28ms/step - loss: 0.2508 - accuracy: 0.9032 - val_loss: 0.4831 - val_accuracy: 0.7917\n",
      "120/120 [==============================] - 1s 6ms/step - loss: 0.7071 - accuracy: 0.7133\n",
      "\n",
      "ACCURACY: 0.7133333086967468\n",
      "LOSS: 0.7070534825325012\n"
     ]
    },
    {
     "data": {
      "image/png": "[encoded data removed]",
      "text/plain": [
       "<Figure size 432x288 with 1 Axes>"
      ]
     },
     "metadata": {
      "needs_background": "light"
     },
     "output_type": "display_data"
    },
    {
     "data": {
      "image/png": "[encoded data removed]",
      "text/plain": [
       "<Figure size 432x288 with 1 Axes>"
      ]
     },
     "metadata": {
      "needs_background": "light"
     },
     "output_type": "display_data"
    },
    {
     "name": "stdout",
     "output_type": "stream",
     "text": [
      "WARNING:tensorflow:6 out of the last 6 calls to <function Model.make_predict_function.<locals>.predict_function at 0x7f5dab248af0> triggered tf.function retracing. Tracing is expensive and the excessive number of tracings could be due to (1) creating @tf.function repeatedly in a loop, (2) passing tensors with different shapes, (3) passing Python objects instead of tensors. For (1), please define your @tf.function outside of the loop. For (2), @tf.function has reduce_retracing=True option that can avoid unnecessary retracing. For (3), please refer to https://www.tensorflow.org/guide/function#controlling_retracing and https://www.tensorflow.org/api_docs/python/tf/function for  more details.\n",
      "1/1 [==============================] - 0s 190ms/step\n"
     ]
    }
   ],
   "source": [
    "y_test_1d_traite, y_pred_1d_traite, model_GLOVE_LSTM_traite = lstm_model(\n",
    "    x_train_traite, x_test_traite, y_test_traite, y_train_traite,\n",
    "    embedding_layer_traite, tokenizer_glove_traite)"
   ]
  },
  {
   "cell_type": "code",
   "execution_count": 41,
   "id": "46f71362",
   "metadata": {},
   "outputs": [
    {
     "data": {
      "image/png": "[encoded data removed]",
      "text/plain": [
       "<Figure size 432x432 with 2 Axes>"
      ]
     },
     "metadata": {
      "needs_background": "light"
     },
     "output_type": "display_data"
    }
   ],
   "source": [
    "cnf_matrix = confusion_matrix(y_test_1d_traite, y_pred_1d_traite)\n",
    "plt.figure(figsize=(6, 6))\n",
    "plot_confusion_matrix(cnf_matrix,\n",
    "                      classes=df_train.sentiment.unique(),\n",
    "                      title=\"Confusion matrix\")\n",
    "plt.show()"
   ]
  },
  {
   "cell_type": "code",
   "execution_count": 42,
   "id": "e4b1c8ed",
   "metadata": {},
   "outputs": [
    {
     "name": "stderr",
     "output_type": "stream",
     "text": [
      "/tmp/ipykernel_2340/718858219.py:8: FutureWarning: The frame.append method is deprecated and will be removed from pandas in a future version. Use pandas.concat instead.\n",
      "  df = df_classement_model.append(\n"
     ]
    },
    {
     "data": {
      "text/html": [
       "<div>\n",
       "<style scoped>\n",
       "    .dataframe tbody tr th:only-of-type {\n",
       "        vertical-align: middle;\n",
       "    }\n",
       "\n",
       "    .dataframe tbody tr th {\n",
       "        vertical-align: top;\n",
       "    }\n",
       "\n",
       "    .dataframe thead th {\n",
       "        text-align: right;\n",
       "    }\n",
       "</style>\n",
       "<table border=\"1\" class=\"dataframe\">\n",
       "  <thead>\n",
       "    <tr style=\"text-align: right;\">\n",
       "      <th></th>\n",
       "      <th>model</th>\n",
       "      <th>f1_score</th>\n",
       "      <th>accuracy</th>\n",
       "    </tr>\n",
       "  </thead>\n",
       "  <tbody>\n",
       "    <tr>\n",
       "      <th>0</th>\n",
       "      <td>W2V+LSTM+brute</td>\n",
       "      <td>0.564417</td>\n",
       "      <td>0.526667</td>\n",
       "    </tr>\n",
       "    <tr>\n",
       "      <th>1</th>\n",
       "      <td>W2V+LSTM+traite</td>\n",
       "      <td>0.461538</td>\n",
       "      <td>0.533333</td>\n",
       "    </tr>\n",
       "    <tr>\n",
       "      <th>2</th>\n",
       "      <td>W2V+LSTM+stemm</td>\n",
       "      <td>0.521886</td>\n",
       "      <td>0.526667</td>\n",
       "    </tr>\n",
       "    <tr>\n",
       "      <th>3</th>\n",
       "      <td>W2V+LSTM+lemm</td>\n",
       "      <td>0.400810</td>\n",
       "      <td>0.506667</td>\n",
       "    </tr>\n",
       "    <tr>\n",
       "      <th>4</th>\n",
       "      <td>GLOVE+LSTM+brute</td>\n",
       "      <td>0.691803</td>\n",
       "      <td>0.686667</td>\n",
       "    </tr>\n",
       "    <tr>\n",
       "      <th>5</th>\n",
       "      <td>GLOVE+LSTM+traite</td>\n",
       "      <td>0.716172</td>\n",
       "      <td>0.713333</td>\n",
       "    </tr>\n",
       "  </tbody>\n",
       "</table>\n",
       "</div>"
      ],
      "text/plain": [
       "               model  f1_score  accuracy\n",
       "0     W2V+LSTM+brute  0.564417  0.526667\n",
       "1    W2V+LSTM+traite  0.461538  0.533333\n",
       "2     W2V+LSTM+stemm  0.521886  0.526667\n",
       "3      W2V+LSTM+lemm  0.400810  0.506667\n",
       "4   GLOVE+LSTM+brute  0.691803  0.686667\n",
       "5  GLOVE+LSTM+traite  0.716172  0.713333"
      ]
     },
     "execution_count": 42,
     "metadata": {},
     "output_type": "execute_result"
    }
   ],
   "source": [
    "df_classement_model = df_classement(\"GLOVE+LSTM+traite\", y_test_1d_traite,\n",
    "                                    y_pred_1d_traite)\n",
    "df_classement_model"
   ]
  },
  {
   "cell_type": "markdown",
   "id": "ba815da7",
   "metadata": {},
   "source": [
    "### Avec tweet stemm"
   ]
  },
  {
   "cell_type": "code",
   "execution_count": 43,
   "id": "fb74cea8",
   "metadata": {},
   "outputs": [
    {
     "name": "stdout",
     "output_type": "stream",
     "text": [
      "CPU times: user 62.2 ms, sys: 0 ns, total: 62.2 ms\n",
      "Wall time: 60.8 ms\n"
     ]
    }
   ],
   "source": [
    "%%time\n",
    "x_train_stemm, x_test_stemm, y_test_stemm, y_train_stemm, embedding_layer_stemm, tokenizer_glove_stemm = glov(\n",
    "    'tweet_stemm')"
   ]
  },
  {
   "cell_type": "code",
   "execution_count": 44,
   "id": "b4e43b0f",
   "metadata": {},
   "outputs": [
    {
     "name": "stdout",
     "output_type": "stream",
     "text": [
      "Model: \"sequential_6\"\n",
      "_________________________________________________________________\n",
      " Layer (type)                Output Shape              Param #   \n",
      "=================================================================\n",
      " embedding_6 (Embedding)     (None, 30, 300)           1319400   \n",
      "                                                                 \n",
      " dropout_6 (Dropout)         (None, 30, 300)           0         \n",
      "                                                                 \n",
      " lstm_6 (LSTM)               (None, 100)               160400    \n",
      "                                                                 \n",
      " dense_6 (Dense)             (None, 1)                 101       \n",
      "                                                                 \n",
      "=================================================================\n",
      "Total params: 1,479,901\n",
      "Trainable params: 160,501\n",
      "Non-trainable params: 1,319,400\n",
      "_________________________________________________________________\n",
      "Epoch 1/15\n",
      "430/432 [============================>.] - ETA: 0s - loss: 0.6586 - accuracy: 0.6023WARNING:tensorflow:Early stopping conditioned on metric `val_acc` which is not available. Available metrics are: loss,accuracy,val_loss,val_accuracy\n",
      "432/432 [==============================] - 14s 29ms/step - loss: 0.6579 - accuracy: 0.6037 - val_loss: 0.5722 - val_accuracy: 0.7208\n",
      "Epoch 2/15\n",
      "432/432 [==============================] - ETA: 0s - loss: 0.5976 - accuracy: 0.6824WARNING:tensorflow:Early stopping conditioned on metric `val_acc` which is not available. Available metrics are: loss,accuracy,val_loss,val_accuracy\n",
      "432/432 [==============================] - 12s 29ms/step - loss: 0.5976 - accuracy: 0.6824 - val_loss: 0.5107 - val_accuracy: 0.7667\n",
      "Epoch 3/15\n",
      "431/432 [============================>.] - ETA: 0s - loss: 0.5666 - accuracy: 0.7044WARNING:tensorflow:Early stopping conditioned on metric `val_acc` which is not available. Available metrics are: loss,accuracy,val_loss,val_accuracy\n",
      "432/432 [==============================] - 12s 29ms/step - loss: 0.5669 - accuracy: 0.7042 - val_loss: 0.5026 - val_accuracy: 0.7167\n",
      "Epoch 4/15\n",
      "432/432 [==============================] - ETA: 0s - loss: 0.5411 - accuracy: 0.7218WARNING:tensorflow:Early stopping conditioned on metric `val_acc` which is not available. Available metrics are: loss,accuracy,val_loss,val_accuracy\n",
      "432/432 [==============================] - 13s 29ms/step - loss: 0.5411 - accuracy: 0.7218 - val_loss: 0.4917 - val_accuracy: 0.7750\n",
      "Epoch 5/15\n",
      "432/432 [==============================] - ETA: 0s - loss: 0.5146 - accuracy: 0.7477WARNING:tensorflow:Early stopping conditioned on metric `val_acc` which is not available. Available metrics are: loss,accuracy,val_loss,val_accuracy\n",
      "432/432 [==============================] - 13s 29ms/step - loss: 0.5146 - accuracy: 0.7477 - val_loss: 0.5086 - val_accuracy: 0.7458\n",
      "Epoch 6/15\n",
      "432/432 [==============================] - ETA: 0s - loss: 0.4804 - accuracy: 0.7606WARNING:tensorflow:Early stopping conditioned on metric `val_acc` which is not available. Available metrics are: loss,accuracy,val_loss,val_accuracy\n",
      "432/432 [==============================] - 13s 29ms/step - loss: 0.4804 - accuracy: 0.7606 - val_loss: 0.4866 - val_accuracy: 0.7667\n",
      "Epoch 7/15\n",
      "430/432 [============================>.] - ETA: 0s - loss: 0.4481 - accuracy: 0.7921WARNING:tensorflow:Early stopping conditioned on metric `val_acc` which is not available. Available metrics are: loss,accuracy,val_loss,val_accuracy\n",
      "432/432 [==============================] - 12s 29ms/step - loss: 0.4487 - accuracy: 0.7912 - val_loss: 0.5216 - val_accuracy: 0.7542\n",
      "Epoch 8/15\n",
      "432/432 [==============================] - ETA: 0s - loss: 0.4398 - accuracy: 0.7880WARNING:tensorflow:Early stopping conditioned on metric `val_acc` which is not available. Available metrics are: loss,accuracy,val_loss,val_accuracy\n",
      "432/432 [==============================] - 12s 29ms/step - loss: 0.4398 - accuracy: 0.7880 - val_loss: 0.4985 - val_accuracy: 0.7625\n",
      "Epoch 9/15\n",
      "432/432 [==============================] - ETA: 0s - loss: 0.4047 - accuracy: 0.8144WARNING:tensorflow:Early stopping conditioned on metric `val_acc` which is not available. Available metrics are: loss,accuracy,val_loss,val_accuracy\n",
      "432/432 [==============================] - 13s 29ms/step - loss: 0.4047 - accuracy: 0.8144 - val_loss: 0.5259 - val_accuracy: 0.7625\n",
      "Epoch 10/15\n",
      "432/432 [==============================] - ETA: 0s - loss: 0.3707 - accuracy: 0.8389WARNING:tensorflow:Early stopping conditioned on metric `val_acc` which is not available. Available metrics are: loss,accuracy,val_loss,val_accuracy\n",
      "432/432 [==============================] - 13s 29ms/step - loss: 0.3707 - accuracy: 0.8389 - val_loss: 0.5092 - val_accuracy: 0.7542\n",
      "Epoch 11/15\n",
      "432/432 [==============================] - ETA: 0s - loss: 0.3308 - accuracy: 0.8639WARNING:tensorflow:Early stopping conditioned on metric `val_acc` which is not available. Available metrics are: loss,accuracy,val_loss,val_accuracy\n",
      "432/432 [==============================] - 13s 29ms/step - loss: 0.3308 - accuracy: 0.8639 - val_loss: 0.5414 - val_accuracy: 0.7542\n",
      "Epoch 12/15\n",
      "432/432 [==============================] - ETA: 0s - loss: 0.2975 - accuracy: 0.8764WARNING:tensorflow:Early stopping conditioned on metric `val_acc` which is not available. Available metrics are: loss,accuracy,val_loss,val_accuracy\n",
      "432/432 [==============================] - 13s 29ms/step - loss: 0.2975 - accuracy: 0.8764 - val_loss: 0.5742 - val_accuracy: 0.7417\n",
      "Epoch 13/15\n",
      "431/432 [============================>.] - ETA: 0s - loss: 0.2969 - accuracy: 0.8742WARNING:tensorflow:Early stopping conditioned on metric `val_acc` which is not available. Available metrics are: loss,accuracy,val_loss,val_accuracy\n",
      "432/432 [==============================] - 13s 30ms/step - loss: 0.2965 - accuracy: 0.8745 - val_loss: 0.6118 - val_accuracy: 0.7292\n",
      "Epoch 14/15\n",
      "431/432 [============================>.] - ETA: 0s - loss: 0.2817 - accuracy: 0.8807WARNING:tensorflow:Early stopping conditioned on metric `val_acc` which is not available. Available metrics are: loss,accuracy,val_loss,val_accuracy\n",
      "432/432 [==============================] - 13s 30ms/step - loss: 0.2815 - accuracy: 0.8810 - val_loss: 0.5812 - val_accuracy: 0.7542\n",
      "Epoch 15/15\n",
      "432/432 [==============================] - ETA: 0s - loss: 0.2452 - accuracy: 0.8981WARNING:tensorflow:Early stopping conditioned on metric `val_acc` which is not available. Available metrics are: loss,accuracy,val_loss,val_accuracy\n",
      "432/432 [==============================] - 13s 29ms/step - loss: 0.2452 - accuracy: 0.8981 - val_loss: 0.6145 - val_accuracy: 0.7417\n",
      "120/120 [==============================] - 1s 5ms/step - loss: 0.8590 - accuracy: 0.6733\n",
      "\n",
      "ACCURACY: 0.6733333468437195\n",
      "LOSS: 0.8590494990348816\n"
     ]
    },
    {
     "data": {
      "image/png": "[encoded data removed]",
      "text/plain": [
       "<Figure size 432x288 with 1 Axes>"
      ]
     },
     "metadata": {
      "needs_background": "light"
     },
     "output_type": "display_data"
    },
    {
     "data": {
      "image/png": "[encoded data removed]",
      "text/plain": [
       "<Figure size 432x288 with 1 Axes>"
      ]
     },
     "metadata": {
      "needs_background": "light"
     },
     "output_type": "display_data"
    },
    {
     "name": "stdout",
     "output_type": "stream",
     "text": [
      "1/1 [==============================] - 0s 194ms/step\n"
     ]
    }
   ],
   "source": [
    "y_test_1d_stemm, y_pred_1d_stemm, model_GLOVE_LSTM_stemm = lstm_model(\n",
    "    x_train_stemm, x_test_stemm, y_test_stemm, y_train_stemm,\n",
    "    embedding_layer_stemm, tokenizer_glove_stemm)"
   ]
  },
  {
   "cell_type": "code",
   "execution_count": 45,
   "id": "299d9c60",
   "metadata": {},
   "outputs": [
    {
     "data": {
      "image/png": "[encoded data removed]",
      "text/plain": [
       "<Figure size 432x432 with 2 Axes>"
      ]
     },
     "metadata": {
      "needs_background": "light"
     },
     "output_type": "display_data"
    }
   ],
   "source": [
    "cnf_matrix = confusion_matrix(y_test_1d_stemm, y_pred_1d_stemm)\n",
    "plt.figure(figsize=(6, 6))\n",
    "plot_confusion_matrix(cnf_matrix,\n",
    "                      classes=df_train.sentiment.unique(),\n",
    "                      title=\"Confusion matrix\")\n",
    "plt.show()"
   ]
  },
  {
   "cell_type": "code",
   "execution_count": 46,
   "id": "73faf867",
   "metadata": {},
   "outputs": [
    {
     "name": "stderr",
     "output_type": "stream",
     "text": [
      "/tmp/ipykernel_2340/718858219.py:8: FutureWarning: The frame.append method is deprecated and will be removed from pandas in a future version. Use pandas.concat instead.\n",
      "  df = df_classement_model.append(\n"
     ]
    },
    {
     "data": {
      "text/html": [
       "<div>\n",
       "<style scoped>\n",
       "    .dataframe tbody tr th:only-of-type {\n",
       "        vertical-align: middle;\n",
       "    }\n",
       "\n",
       "    .dataframe tbody tr th {\n",
       "        vertical-align: top;\n",
       "    }\n",
       "\n",
       "    .dataframe thead th {\n",
       "        text-align: right;\n",
       "    }\n",
       "</style>\n",
       "<table border=\"1\" class=\"dataframe\">\n",
       "  <thead>\n",
       "    <tr style=\"text-align: right;\">\n",
       "      <th></th>\n",
       "      <th>model</th>\n",
       "      <th>f1_score</th>\n",
       "      <th>accuracy</th>\n",
       "    </tr>\n",
       "  </thead>\n",
       "  <tbody>\n",
       "    <tr>\n",
       "      <th>0</th>\n",
       "      <td>W2V+LSTM+brute</td>\n",
       "      <td>0.564417</td>\n",
       "      <td>0.526667</td>\n",
       "    </tr>\n",
       "    <tr>\n",
       "      <th>1</th>\n",
       "      <td>W2V+LSTM+traite</td>\n",
       "      <td>0.461538</td>\n",
       "      <td>0.533333</td>\n",
       "    </tr>\n",
       "    <tr>\n",
       "      <th>2</th>\n",
       "      <td>W2V+LSTM+stemm</td>\n",
       "      <td>0.521886</td>\n",
       "      <td>0.526667</td>\n",
       "    </tr>\n",
       "    <tr>\n",
       "      <th>3</th>\n",
       "      <td>W2V+LSTM+lemm</td>\n",
       "      <td>0.400810</td>\n",
       "      <td>0.506667</td>\n",
       "    </tr>\n",
       "    <tr>\n",
       "      <th>4</th>\n",
       "      <td>GLOVE+LSTM+brute</td>\n",
       "      <td>0.691803</td>\n",
       "      <td>0.686667</td>\n",
       "    </tr>\n",
       "    <tr>\n",
       "      <th>5</th>\n",
       "      <td>GLOVE+LSTM+traite</td>\n",
       "      <td>0.716172</td>\n",
       "      <td>0.713333</td>\n",
       "    </tr>\n",
       "    <tr>\n",
       "      <th>6</th>\n",
       "      <td>GLOVE+LSTM+stemm</td>\n",
       "      <td>0.688889</td>\n",
       "      <td>0.673333</td>\n",
       "    </tr>\n",
       "  </tbody>\n",
       "</table>\n",
       "</div>"
      ],
      "text/plain": [
       "               model  f1_score  accuracy\n",
       "0     W2V+LSTM+brute  0.564417  0.526667\n",
       "1    W2V+LSTM+traite  0.461538  0.533333\n",
       "2     W2V+LSTM+stemm  0.521886  0.526667\n",
       "3      W2V+LSTM+lemm  0.400810  0.506667\n",
       "4   GLOVE+LSTM+brute  0.691803  0.686667\n",
       "5  GLOVE+LSTM+traite  0.716172  0.713333\n",
       "6   GLOVE+LSTM+stemm  0.688889  0.673333"
      ]
     },
     "execution_count": 46,
     "metadata": {},
     "output_type": "execute_result"
    }
   ],
   "source": [
    "df_classement_model = df_classement(\"GLOVE+LSTM+stemm\", y_test_1d_stemm,\n",
    "                                    y_pred_1d_stemm)\n",
    "df_classement_model"
   ]
  },
  {
   "cell_type": "markdown",
   "id": "fed708cf",
   "metadata": {},
   "source": [
    "### Avec tweet lemm"
   ]
  },
  {
   "cell_type": "code",
   "execution_count": 47,
   "id": "74e3a8bf",
   "metadata": {},
   "outputs": [
    {
     "name": "stdout",
     "output_type": "stream",
     "text": [
      "CPU times: user 65.2 ms, sys: 0 ns, total: 65.2 ms\n",
      "Wall time: 64.2 ms\n"
     ]
    }
   ],
   "source": [
    "%%time\n",
    "x_train_lemm, x_test_lemm, y_test_lemm, y_train_lemm, embedding_layer_lemm, tokenizer_glove_lemm = glov(\n",
    "    'tweet_lemm')"
   ]
  },
  {
   "cell_type": "code",
   "execution_count": 48,
   "id": "8f9ad2ef",
   "metadata": {},
   "outputs": [
    {
     "name": "stdout",
     "output_type": "stream",
     "text": [
      "Model: \"sequential_7\"\n",
      "_________________________________________________________________\n",
      " Layer (type)                Output Shape              Param #   \n",
      "=================================================================\n",
      " embedding_7 (Embedding)     (None, 30, 300)           1360800   \n",
      "                                                                 \n",
      " dropout_7 (Dropout)         (None, 30, 300)           0         \n",
      "                                                                 \n",
      " lstm_7 (LSTM)               (None, 100)               160400    \n",
      "                                                                 \n",
      " dense_7 (Dense)             (None, 1)                 101       \n",
      "                                                                 \n",
      "=================================================================\n",
      "Total params: 1,521,301\n",
      "Trainable params: 160,501\n",
      "Non-trainable params: 1,360,800\n",
      "_________________________________________________________________\n",
      "Epoch 1/15\n",
      "432/432 [==============================] - ETA: 0s - loss: 0.6523 - accuracy: 0.6120WARNING:tensorflow:Early stopping conditioned on metric `val_acc` which is not available. Available metrics are: loss,accuracy,val_loss,val_accuracy\n",
      "432/432 [==============================] - 13s 28ms/step - loss: 0.6523 - accuracy: 0.6120 - val_loss: 0.5671 - val_accuracy: 0.7167\n",
      "Epoch 2/15\n",
      "432/432 [==============================] - ETA: 0s - loss: 0.5787 - accuracy: 0.7023WARNING:tensorflow:Early stopping conditioned on metric `val_acc` which is not available. Available metrics are: loss,accuracy,val_loss,val_accuracy\n",
      "432/432 [==============================] - 12s 27ms/step - loss: 0.5787 - accuracy: 0.7023 - val_loss: 0.5040 - val_accuracy: 0.7333\n",
      "Epoch 3/15\n",
      "432/432 [==============================] - ETA: 0s - loss: 0.5543 - accuracy: 0.7042WARNING:tensorflow:Early stopping conditioned on metric `val_acc` which is not available. Available metrics are: loss,accuracy,val_loss,val_accuracy\n",
      "432/432 [==============================] - 12s 27ms/step - loss: 0.5543 - accuracy: 0.7042 - val_loss: 0.4771 - val_accuracy: 0.7708\n",
      "Epoch 4/15\n",
      "431/432 [============================>.] - ETA: 0s - loss: 0.5377 - accuracy: 0.7216WARNING:tensorflow:Early stopping conditioned on metric `val_acc` which is not available. Available metrics are: loss,accuracy,val_loss,val_accuracy\n",
      "432/432 [==============================] - 12s 27ms/step - loss: 0.5379 - accuracy: 0.7213 - val_loss: 0.4874 - val_accuracy: 0.7583\n",
      "Epoch 5/15\n",
      "432/432 [==============================] - ETA: 0s - loss: 0.5062 - accuracy: 0.7560WARNING:tensorflow:Early stopping conditioned on metric `val_acc` which is not available. Available metrics are: loss,accuracy,val_loss,val_accuracy\n",
      "432/432 [==============================] - 12s 27ms/step - loss: 0.5062 - accuracy: 0.7560 - val_loss: 0.4963 - val_accuracy: 0.7542\n",
      "Epoch 6/15\n",
      "432/432 [==============================] - ETA: 0s - loss: 0.4791 - accuracy: 0.7648WARNING:tensorflow:Early stopping conditioned on metric `val_acc` which is not available. Available metrics are: loss,accuracy,val_loss,val_accuracy\n",
      "432/432 [==============================] - 12s 27ms/step - loss: 0.4791 - accuracy: 0.7648 - val_loss: 0.4734 - val_accuracy: 0.7750\n",
      "Epoch 7/15\n",
      "431/432 [============================>.] - ETA: 0s - loss: 0.4560 - accuracy: 0.7805WARNING:tensorflow:Early stopping conditioned on metric `val_acc` which is not available. Available metrics are: loss,accuracy,val_loss,val_accuracy\n",
      "432/432 [==============================] - 12s 27ms/step - loss: 0.4557 - accuracy: 0.7806 - val_loss: 0.5013 - val_accuracy: 0.7625\n",
      "Epoch 8/15\n",
      "432/432 [==============================] - ETA: 0s - loss: 0.4104 - accuracy: 0.8042WARNING:tensorflow:Early stopping conditioned on metric `val_acc` which is not available. Available metrics are: loss,accuracy,val_loss,val_accuracy\n",
      "432/432 [==============================] - 12s 27ms/step - loss: 0.4104 - accuracy: 0.8042 - val_loss: 0.4880 - val_accuracy: 0.7500\n",
      "Epoch 9/15\n",
      "431/432 [============================>.] - ETA: 0s - loss: 0.3872 - accuracy: 0.8227WARNING:tensorflow:Early stopping conditioned on metric `val_acc` which is not available. Available metrics are: loss,accuracy,val_loss,val_accuracy\n",
      "432/432 [==============================] - 12s 27ms/step - loss: 0.3871 - accuracy: 0.8227 - val_loss: 0.4454 - val_accuracy: 0.7875\n",
      "Epoch 10/15\n",
      "431/432 [============================>.] - ETA: 0s - loss: 0.3714 - accuracy: 0.8274WARNING:tensorflow:Early stopping conditioned on metric `val_acc` which is not available. Available metrics are: loss,accuracy,val_loss,val_accuracy\n",
      "432/432 [==============================] - 12s 27ms/step - loss: 0.3707 - accuracy: 0.8278 - val_loss: 0.5017 - val_accuracy: 0.7458\n",
      "Epoch 11/15\n",
      "431/432 [============================>.] - ETA: 0s - loss: 0.3307 - accuracy: 0.8543WARNING:tensorflow:Early stopping conditioned on metric `val_acc` which is not available. Available metrics are: loss,accuracy,val_loss,val_accuracy\n",
      "432/432 [==============================] - 12s 27ms/step - loss: 0.3314 - accuracy: 0.8537 - val_loss: 0.4796 - val_accuracy: 0.7625\n",
      "Epoch 12/15\n",
      "432/432 [==============================] - ETA: 0s - loss: 0.3161 - accuracy: 0.8606WARNING:tensorflow:Early stopping conditioned on metric `val_acc` which is not available. Available metrics are: loss,accuracy,val_loss,val_accuracy\n",
      "432/432 [==============================] - 12s 27ms/step - loss: 0.3161 - accuracy: 0.8606 - val_loss: 0.5180 - val_accuracy: 0.7708\n",
      "Epoch 13/15\n",
      "432/432 [==============================] - ETA: 0s - loss: 0.2821 - accuracy: 0.8745WARNING:tensorflow:Early stopping conditioned on metric `val_acc` which is not available. Available metrics are: loss,accuracy,val_loss,val_accuracy\n",
      "432/432 [==============================] - 12s 27ms/step - loss: 0.2821 - accuracy: 0.8745 - val_loss: 0.4994 - val_accuracy: 0.7750\n",
      "Epoch 14/15\n",
      "432/432 [==============================] - ETA: 0s - loss: 0.2644 - accuracy: 0.8856WARNING:tensorflow:Early stopping conditioned on metric `val_acc` which is not available. Available metrics are: loss,accuracy,val_loss,val_accuracy\n",
      "432/432 [==============================] - 12s 27ms/step - loss: 0.2644 - accuracy: 0.8856 - val_loss: 0.5394 - val_accuracy: 0.7625\n",
      "Epoch 15/15\n",
      "431/432 [============================>.] - ETA: 0s - loss: 0.2472 - accuracy: 0.9039WARNING:tensorflow:Early stopping conditioned on metric `val_acc` which is not available. Available metrics are: loss,accuracy,val_loss,val_accuracy\n",
      "432/432 [==============================] - 12s 27ms/step - loss: 0.2469 - accuracy: 0.9042 - val_loss: 0.5621 - val_accuracy: 0.7750\n",
      "120/120 [==============================] - 1s 5ms/step - loss: 0.7722 - accuracy: 0.6933\n",
      "\n",
      "ACCURACY: 0.6933333277702332\n",
      "LOSS: 0.7721940279006958\n"
     ]
    },
    {
     "data": {
      "image/png": "[encoded data removed]",
      "text/plain": [
       "<Figure size 432x288 with 1 Axes>"
      ]
     },
     "metadata": {
      "needs_background": "light"
     },
     "output_type": "display_data"
    },
    {
     "data": {
      "image/png": "[encoded data removed]",
      "text/plain": [
       "<Figure size 432x288 with 1 Axes>"
      ]
     },
     "metadata": {
      "needs_background": "light"
     },
     "output_type": "display_data"
    },
    {
     "name": "stdout",
     "output_type": "stream",
     "text": [
      "1/1 [==============================] - 0s 188ms/step\n"
     ]
    }
   ],
   "source": [
    "y_test_1d_lemm, y_pred_1d_lemm, model_GLOVE_LSTM_lemm = lstm_model(\n",
    "    x_train_lemm, x_test_lemm, y_test_lemm, y_train_lemm, embedding_layer_lemm,\n",
    "    tokenizer_glove_lemm)"
   ]
  },
  {
   "cell_type": "code",
   "execution_count": 49,
   "id": "ef55fab0",
   "metadata": {},
   "outputs": [
    {
     "data": {
      "image/png": "[encoded data removed]",
      "text/plain": [
       "<Figure size 432x432 with 2 Axes>"
      ]
     },
     "metadata": {
      "needs_background": "light"
     },
     "output_type": "display_data"
    }
   ],
   "source": [
    "cnf_matrix = confusion_matrix(y_test_1d_lemm, y_pred_1d_lemm)\n",
    "plt.figure(figsize=(6, 6))\n",
    "plot_confusion_matrix(cnf_matrix,\n",
    "                      classes=df_train.sentiment.unique(),\n",
    "                      title=\"Confusion matrix\")\n",
    "plt.show()"
   ]
  },
  {
   "cell_type": "code",
   "execution_count": 50,
   "id": "8669853c",
   "metadata": {},
   "outputs": [
    {
     "name": "stderr",
     "output_type": "stream",
     "text": [
      "/tmp/ipykernel_2340/718858219.py:8: FutureWarning: The frame.append method is deprecated and will be removed from pandas in a future version. Use pandas.concat instead.\n",
      "  df = df_classement_model.append(\n"
     ]
    },
    {
     "data": {
      "text/html": [
       "<div>\n",
       "<style scoped>\n",
       "    .dataframe tbody tr th:only-of-type {\n",
       "        vertical-align: middle;\n",
       "    }\n",
       "\n",
       "    .dataframe tbody tr th {\n",
       "        vertical-align: top;\n",
       "    }\n",
       "\n",
       "    .dataframe thead th {\n",
       "        text-align: right;\n",
       "    }\n",
       "</style>\n",
       "<table border=\"1\" class=\"dataframe\">\n",
       "  <thead>\n",
       "    <tr style=\"text-align: right;\">\n",
       "      <th></th>\n",
       "      <th>model</th>\n",
       "      <th>f1_score</th>\n",
       "      <th>accuracy</th>\n",
       "    </tr>\n",
       "  </thead>\n",
       "  <tbody>\n",
       "    <tr>\n",
       "      <th>0</th>\n",
       "      <td>W2V+LSTM+brute</td>\n",
       "      <td>0.564417</td>\n",
       "      <td>0.526667</td>\n",
       "    </tr>\n",
       "    <tr>\n",
       "      <th>1</th>\n",
       "      <td>W2V+LSTM+traite</td>\n",
       "      <td>0.461538</td>\n",
       "      <td>0.533333</td>\n",
       "    </tr>\n",
       "    <tr>\n",
       "      <th>2</th>\n",
       "      <td>W2V+LSTM+stemm</td>\n",
       "      <td>0.521886</td>\n",
       "      <td>0.526667</td>\n",
       "    </tr>\n",
       "    <tr>\n",
       "      <th>3</th>\n",
       "      <td>W2V+LSTM+lemm</td>\n",
       "      <td>0.400810</td>\n",
       "      <td>0.506667</td>\n",
       "    </tr>\n",
       "    <tr>\n",
       "      <th>4</th>\n",
       "      <td>GLOVE+LSTM+brute</td>\n",
       "      <td>0.691803</td>\n",
       "      <td>0.686667</td>\n",
       "    </tr>\n",
       "    <tr>\n",
       "      <th>5</th>\n",
       "      <td>GLOVE+LSTM+traite</td>\n",
       "      <td>0.716172</td>\n",
       "      <td>0.713333</td>\n",
       "    </tr>\n",
       "    <tr>\n",
       "      <th>6</th>\n",
       "      <td>GLOVE+LSTM+stemm</td>\n",
       "      <td>0.688889</td>\n",
       "      <td>0.673333</td>\n",
       "    </tr>\n",
       "    <tr>\n",
       "      <th>7</th>\n",
       "      <td>GLOVE+LSTM+lemm</td>\n",
       "      <td>0.716049</td>\n",
       "      <td>0.693333</td>\n",
       "    </tr>\n",
       "  </tbody>\n",
       "</table>\n",
       "</div>"
      ],
      "text/plain": [
       "               model  f1_score  accuracy\n",
       "0     W2V+LSTM+brute  0.564417  0.526667\n",
       "1    W2V+LSTM+traite  0.461538  0.533333\n",
       "2     W2V+LSTM+stemm  0.521886  0.526667\n",
       "3      W2V+LSTM+lemm  0.400810  0.506667\n",
       "4   GLOVE+LSTM+brute  0.691803  0.686667\n",
       "5  GLOVE+LSTM+traite  0.716172  0.713333\n",
       "6   GLOVE+LSTM+stemm  0.688889  0.673333\n",
       "7    GLOVE+LSTM+lemm  0.716049  0.693333"
      ]
     },
     "execution_count": 50,
     "metadata": {},
     "output_type": "execute_result"
    }
   ],
   "source": [
    "df_classement_model = df_classement(\"GLOVE+LSTM+lemm\", y_test_1d_lemm,\n",
    "                                    y_pred_1d_lemm)\n",
    "df_classement_model"
   ]
  },
  {
   "cell_type": "code",
   "execution_count": 51,
   "id": "a65defb4",
   "metadata": {},
   "outputs": [
    {
     "data": {
      "text/plain": [
       "<AxesSubplot:ylabel='model'>"
      ]
     },
     "execution_count": 51,
     "metadata": {},
     "output_type": "execute_result"
    },
    {
     "data": {
      "image/png": "[encoded data removed]",
      "text/plain": [
       "<Figure size 1152x792 with 1 Axes>"
      ]
     },
     "metadata": {
      "needs_background": "light"
     },
     "output_type": "display_data"
    }
   ],
   "source": [
    "df_classement_model.plot.barh(x='model', figsize=(16, 11))"
   ]
  },
  {
   "cell_type": "markdown",
   "id": "c1849996",
   "metadata": {},
   "source": [
    "# BERT"
   ]
  },
  {
   "cell_type": "markdown",
   "id": "45ce982e",
   "metadata": {},
   "source": [
    "Nous allons maintenant utilisé la méthode BERT et voir les résultats."
   ]
  },
  {
   "cell_type": "markdown",
   "id": "7df5f4a8",
   "metadata": {},
   "source": [
    "BERT, qui signifie **Bidirectional Encoder Representations from Transformers**, est basé sur Transformers, un modèle d'apprentissage profond dans lequel chaque élément de sortie est connecté à chaque élément d'entrée, et les pondérations entre eux sont calculées dynamiquement en fonction de leur connexion."
   ]
  },
  {
   "cell_type": "code",
   "execution_count": 52,
   "id": "2bc85c12",
   "metadata": {},
   "outputs": [],
   "source": [
    "df_bert = df_sample.copy()"
   ]
  },
  {
   "cell_type": "code",
   "execution_count": 53,
   "id": "5713c43e",
   "metadata": {},
   "outputs": [],
   "source": [
    "bert_preprocess = hub.KerasLayer(\n",
    "    \"https://tfhub.dev/tensorflow/bert_en_uncased_preprocess/3\")\n",
    "bert_encoder = hub.KerasLayer(\n",
    "    \"https://tfhub.dev/tensorflow/bert_en_uncased_L-12_H-768_A-12/4\")"
   ]
  },
  {
   "cell_type": "code",
   "execution_count": 54,
   "id": "3edd04c0",
   "metadata": {},
   "outputs": [],
   "source": [
    "def bert_model(type_tweet):\n",
    "    X_train, X_test, y_train, y_test = train_test_split(\n",
    "        df_bert[type_tweet], df_bert['sentiment'])\n",
    "\n",
    "    text_input = tf.keras.layers.Input(shape=(),\n",
    "                                       dtype=tf.string,\n",
    "                                       name='text-layer')\n",
    "    preprocessed_text = bert_preprocess(text_input)\n",
    "    outputs = bert_encoder(preprocessed_text)\n",
    "    d_layer = tf.keras.layers.Dropout(0.1, name=\"dropout-layer\")(\n",
    "        outputs['pooled_output'])\n",
    "    d_layer = tf.keras.layers.Dense(1, activation='sigmoid',\n",
    "                                    name=\"output\")(d_layer)\n",
    "    model = tf.keras.Model(inputs=[text_input], outputs=[d_layer])\n",
    "\n",
    "    m = [tf.keras.metrics.BinaryAccuracy(name='accuracy')]\n",
    "    model.compile(optimizer='adam', loss='binary_crossentropy', metrics=m)\n",
    "\n",
    "    model.fit(X_train, y_train, epochs=10)\n",
    "\n",
    "    model.evaluate(X_test, y_test)\n",
    "\n",
    "    y_pred = model.predict(X_test)\n",
    "    y_pred = y_pred.flatten()\n",
    "    y_pred = np.where(y_pred > 0.5, 1, 0)\n",
    "\n",
    "    return y_pred, y_test, model"
   ]
  },
  {
   "cell_type": "markdown",
   "id": "9d6a692f",
   "metadata": {},
   "source": [
    "### Avec tweet brut"
   ]
  },
  {
   "cell_type": "code",
   "execution_count": 55,
   "id": "85dcc9c4",
   "metadata": {},
   "outputs": [
    {
     "name": "stdout",
     "output_type": "stream",
     "text": [
      "Epoch 1/10\n",
      "71/71 [==============================] - 237s 3s/step - loss: 0.7366 - accuracy: 0.5151\n",
      "Epoch 2/10\n",
      "71/71 [==============================] - 212s 3s/step - loss: 0.6811 - accuracy: 0.5724\n",
      "Epoch 3/10\n",
      "71/71 [==============================] - 211s 3s/step - loss: 0.6664 - accuracy: 0.5924\n",
      "Epoch 4/10\n",
      "71/71 [==============================] - 211s 3s/step - loss: 0.6530 - accuracy: 0.6333\n",
      "Epoch 5/10\n",
      "71/71 [==============================] - 209s 3s/step - loss: 0.6481 - accuracy: 0.6262\n",
      "Epoch 6/10\n",
      "71/71 [==============================] - 209s 3s/step - loss: 0.6478 - accuracy: 0.6196\n",
      "Epoch 7/10\n",
      "71/71 [==============================] - 209s 3s/step - loss: 0.6337 - accuracy: 0.6422\n",
      "Epoch 8/10\n",
      "71/71 [==============================] - 210s 3s/step - loss: 0.6201 - accuracy: 0.6720\n",
      "Epoch 9/10\n",
      "71/71 [==============================] - 209s 3s/step - loss: 0.6213 - accuracy: 0.6667\n",
      "Epoch 10/10\n",
      "71/71 [==============================] - 210s 3s/step - loss: 0.6238 - accuracy: 0.6542\n",
      "24/24 [==============================] - 71s 3s/step - loss: 0.6184 - accuracy: 0.6587\n",
      "24/24 [==============================] - 70s 3s/step\n",
      "CPU times: user 4h 19min 5s, sys: 0 ns, total: 4h 19min 5s\n",
      "Wall time: 37min 49s\n"
     ]
    }
   ],
   "source": [
    "%%time\n",
    "y_pred, y_test, model_BERT_brute = bert_model('tweet')"
   ]
  },
  {
   "cell_type": "code",
   "execution_count": 56,
   "id": "f469a5a3",
   "metadata": {},
   "outputs": [
    {
     "data": {
      "image/png": "[encoded data removed]",
      "text/plain": [
       "<Figure size 432x432 with 2 Axes>"
      ]
     },
     "metadata": {
      "needs_background": "light"
     },
     "output_type": "display_data"
    }
   ],
   "source": [
    "cnf_matrix = confusion_matrix(y_test, y_pred)\n",
    "plt.figure(figsize=(6, 6))\n",
    "plot_confusion_matrix(cnf_matrix,\n",
    "                      classes=df_bert.sentiment.unique(),\n",
    "                      title=\"Confusion matrix\")\n",
    "plt.show()"
   ]
  },
  {
   "cell_type": "code",
   "execution_count": 57,
   "id": "54cfc3a8",
   "metadata": {},
   "outputs": [
    {
     "name": "stderr",
     "output_type": "stream",
     "text": [
      "/tmp/ipykernel_2340/718858219.py:8: FutureWarning: The frame.append method is deprecated and will be removed from pandas in a future version. Use pandas.concat instead.\n",
      "  df = df_classement_model.append(\n"
     ]
    },
    {
     "data": {
      "text/html": [
       "<div>\n",
       "<style scoped>\n",
       "    .dataframe tbody tr th:only-of-type {\n",
       "        vertical-align: middle;\n",
       "    }\n",
       "\n",
       "    .dataframe tbody tr th {\n",
       "        vertical-align: top;\n",
       "    }\n",
       "\n",
       "    .dataframe thead th {\n",
       "        text-align: right;\n",
       "    }\n",
       "</style>\n",
       "<table border=\"1\" class=\"dataframe\">\n",
       "  <thead>\n",
       "    <tr style=\"text-align: right;\">\n",
       "      <th></th>\n",
       "      <th>model</th>\n",
       "      <th>f1_score</th>\n",
       "      <th>accuracy</th>\n",
       "    </tr>\n",
       "  </thead>\n",
       "  <tbody>\n",
       "    <tr>\n",
       "      <th>0</th>\n",
       "      <td>W2V+LSTM+brute</td>\n",
       "      <td>0.564417</td>\n",
       "      <td>0.526667</td>\n",
       "    </tr>\n",
       "    <tr>\n",
       "      <th>1</th>\n",
       "      <td>W2V+LSTM+traite</td>\n",
       "      <td>0.461538</td>\n",
       "      <td>0.533333</td>\n",
       "    </tr>\n",
       "    <tr>\n",
       "      <th>2</th>\n",
       "      <td>W2V+LSTM+stemm</td>\n",
       "      <td>0.521886</td>\n",
       "      <td>0.526667</td>\n",
       "    </tr>\n",
       "    <tr>\n",
       "      <th>3</th>\n",
       "      <td>W2V+LSTM+lemm</td>\n",
       "      <td>0.400810</td>\n",
       "      <td>0.506667</td>\n",
       "    </tr>\n",
       "    <tr>\n",
       "      <th>4</th>\n",
       "      <td>GLOVE+LSTM+brute</td>\n",
       "      <td>0.691803</td>\n",
       "      <td>0.686667</td>\n",
       "    </tr>\n",
       "    <tr>\n",
       "      <th>5</th>\n",
       "      <td>GLOVE+LSTM+traite</td>\n",
       "      <td>0.716172</td>\n",
       "      <td>0.713333</td>\n",
       "    </tr>\n",
       "    <tr>\n",
       "      <th>6</th>\n",
       "      <td>GLOVE+LSTM+stemm</td>\n",
       "      <td>0.688889</td>\n",
       "      <td>0.673333</td>\n",
       "    </tr>\n",
       "    <tr>\n",
       "      <th>7</th>\n",
       "      <td>GLOVE+LSTM+lemm</td>\n",
       "      <td>0.716049</td>\n",
       "      <td>0.693333</td>\n",
       "    </tr>\n",
       "    <tr>\n",
       "      <th>8</th>\n",
       "      <td>BERT+brute</td>\n",
       "      <td>0.609756</td>\n",
       "      <td>0.658667</td>\n",
       "    </tr>\n",
       "  </tbody>\n",
       "</table>\n",
       "</div>"
      ],
      "text/plain": [
       "               model  f1_score  accuracy\n",
       "0     W2V+LSTM+brute  0.564417  0.526667\n",
       "1    W2V+LSTM+traite  0.461538  0.533333\n",
       "2     W2V+LSTM+stemm  0.521886  0.526667\n",
       "3      W2V+LSTM+lemm  0.400810  0.506667\n",
       "4   GLOVE+LSTM+brute  0.691803  0.686667\n",
       "5  GLOVE+LSTM+traite  0.716172  0.713333\n",
       "6   GLOVE+LSTM+stemm  0.688889  0.673333\n",
       "7    GLOVE+LSTM+lemm  0.716049  0.693333\n",
       "8         BERT+brute  0.609756  0.658667"
      ]
     },
     "execution_count": 57,
     "metadata": {},
     "output_type": "execute_result"
    }
   ],
   "source": [
    "df_classement_model = df_classement(\"BERT+brute\", y_test, y_pred)\n",
    "df_classement_model"
   ]
  },
  {
   "cell_type": "markdown",
   "id": "b84e43c6",
   "metadata": {},
   "source": [
    "### Avec tweet traite"
   ]
  },
  {
   "cell_type": "code",
   "execution_count": 58,
   "id": "9797249f",
   "metadata": {},
   "outputs": [
    {
     "name": "stdout",
     "output_type": "stream",
     "text": [
      "Epoch 1/10\n",
      "71/71 [==============================] - 212s 3s/step - loss: 0.6903 - accuracy: 0.5382\n",
      "Epoch 2/10\n",
      "71/71 [==============================] - 211s 3s/step - loss: 0.6717 - accuracy: 0.5938\n",
      "Epoch 3/10\n",
      "71/71 [==============================] - 210s 3s/step - loss: 0.6689 - accuracy: 0.5844\n",
      "Epoch 4/10\n",
      "71/71 [==============================] - 210s 3s/step - loss: 0.6505 - accuracy: 0.6200\n",
      "Epoch 5/10\n",
      "71/71 [==============================] - 210s 3s/step - loss: 0.6372 - accuracy: 0.6462\n",
      "Epoch 6/10\n",
      "71/71 [==============================] - 211s 3s/step - loss: 0.6340 - accuracy: 0.6431\n",
      "Epoch 7/10\n",
      "71/71 [==============================] - 211s 3s/step - loss: 0.6387 - accuracy: 0.6449\n",
      "Epoch 8/10\n",
      "71/71 [==============================] - 213s 3s/step - loss: 0.6255 - accuracy: 0.6676\n",
      "Epoch 9/10\n",
      "71/71 [==============================] - 211s 3s/step - loss: 0.6092 - accuracy: 0.6796\n",
      "Epoch 10/10\n",
      "71/71 [==============================] - 212s 3s/step - loss: 0.6057 - accuracy: 0.6804\n",
      "24/24 [==============================] - 71s 3s/step - loss: 0.6363 - accuracy: 0.6267\n",
      "24/24 [==============================] - 71s 3s/step\n",
      "CPU times: user 4h 16min 21s, sys: 2min 36s, total: 4h 18min 58s\n",
      "Wall time: 37min 46s\n"
     ]
    }
   ],
   "source": [
    "%%time\n",
    "y_pred, y_test, model_BERT_traite = bert_model('tweet_traite')"
   ]
  },
  {
   "cell_type": "code",
   "execution_count": 59,
   "id": "d7565ee9",
   "metadata": {},
   "outputs": [
    {
     "data": {
      "image/png": "[encoded data removed]",
      "text/plain": [
       "<Figure size 432x432 with 2 Axes>"
      ]
     },
     "metadata": {
      "needs_background": "light"
     },
     "output_type": "display_data"
    }
   ],
   "source": [
    "cnf_matrix = confusion_matrix(y_test, y_pred)\n",
    "plt.figure(figsize=(6, 6))\n",
    "plot_confusion_matrix(cnf_matrix,\n",
    "                      classes=df_bert.sentiment.unique(),\n",
    "                      title=\"Confusion matrix\")\n",
    "plt.show()"
   ]
  },
  {
   "cell_type": "code",
   "execution_count": 60,
   "id": "c51287a8",
   "metadata": {},
   "outputs": [
    {
     "name": "stderr",
     "output_type": "stream",
     "text": [
      "/tmp/ipykernel_2340/718858219.py:8: FutureWarning: The frame.append method is deprecated and will be removed from pandas in a future version. Use pandas.concat instead.\n",
      "  df = df_classement_model.append(\n"
     ]
    },
    {
     "data": {
      "text/html": [
       "<div>\n",
       "<style scoped>\n",
       "    .dataframe tbody tr th:only-of-type {\n",
       "        vertical-align: middle;\n",
       "    }\n",
       "\n",
       "    .dataframe tbody tr th {\n",
       "        vertical-align: top;\n",
       "    }\n",
       "\n",
       "    .dataframe thead th {\n",
       "        text-align: right;\n",
       "    }\n",
       "</style>\n",
       "<table border=\"1\" class=\"dataframe\">\n",
       "  <thead>\n",
       "    <tr style=\"text-align: right;\">\n",
       "      <th></th>\n",
       "      <th>model</th>\n",
       "      <th>f1_score</th>\n",
       "      <th>accuracy</th>\n",
       "    </tr>\n",
       "  </thead>\n",
       "  <tbody>\n",
       "    <tr>\n",
       "      <th>0</th>\n",
       "      <td>W2V+LSTM+brute</td>\n",
       "      <td>0.564417</td>\n",
       "      <td>0.526667</td>\n",
       "    </tr>\n",
       "    <tr>\n",
       "      <th>1</th>\n",
       "      <td>W2V+LSTM+traite</td>\n",
       "      <td>0.461538</td>\n",
       "      <td>0.533333</td>\n",
       "    </tr>\n",
       "    <tr>\n",
       "      <th>2</th>\n",
       "      <td>W2V+LSTM+stemm</td>\n",
       "      <td>0.521886</td>\n",
       "      <td>0.526667</td>\n",
       "    </tr>\n",
       "    <tr>\n",
       "      <th>3</th>\n",
       "      <td>W2V+LSTM+lemm</td>\n",
       "      <td>0.400810</td>\n",
       "      <td>0.506667</td>\n",
       "    </tr>\n",
       "    <tr>\n",
       "      <th>4</th>\n",
       "      <td>GLOVE+LSTM+brute</td>\n",
       "      <td>0.691803</td>\n",
       "      <td>0.686667</td>\n",
       "    </tr>\n",
       "    <tr>\n",
       "      <th>5</th>\n",
       "      <td>GLOVE+LSTM+traite</td>\n",
       "      <td>0.716172</td>\n",
       "      <td>0.713333</td>\n",
       "    </tr>\n",
       "    <tr>\n",
       "      <th>6</th>\n",
       "      <td>GLOVE+LSTM+stemm</td>\n",
       "      <td>0.688889</td>\n",
       "      <td>0.673333</td>\n",
       "    </tr>\n",
       "    <tr>\n",
       "      <th>7</th>\n",
       "      <td>GLOVE+LSTM+lemm</td>\n",
       "      <td>0.716049</td>\n",
       "      <td>0.693333</td>\n",
       "    </tr>\n",
       "    <tr>\n",
       "      <th>8</th>\n",
       "      <td>BERT+brute</td>\n",
       "      <td>0.609756</td>\n",
       "      <td>0.658667</td>\n",
       "    </tr>\n",
       "    <tr>\n",
       "      <th>9</th>\n",
       "      <td>BERT+traite</td>\n",
       "      <td>0.473684</td>\n",
       "      <td>0.626667</td>\n",
       "    </tr>\n",
       "  </tbody>\n",
       "</table>\n",
       "</div>"
      ],
      "text/plain": [
       "               model  f1_score  accuracy\n",
       "0     W2V+LSTM+brute  0.564417  0.526667\n",
       "1    W2V+LSTM+traite  0.461538  0.533333\n",
       "2     W2V+LSTM+stemm  0.521886  0.526667\n",
       "3      W2V+LSTM+lemm  0.400810  0.506667\n",
       "4   GLOVE+LSTM+brute  0.691803  0.686667\n",
       "5  GLOVE+LSTM+traite  0.716172  0.713333\n",
       "6   GLOVE+LSTM+stemm  0.688889  0.673333\n",
       "7    GLOVE+LSTM+lemm  0.716049  0.693333\n",
       "8         BERT+brute  0.609756  0.658667\n",
       "9        BERT+traite  0.473684  0.626667"
      ]
     },
     "execution_count": 60,
     "metadata": {},
     "output_type": "execute_result"
    }
   ],
   "source": [
    "df_classement_model = df_classement(\"BERT+traite\", y_test, y_pred)\n",
    "df_classement_model"
   ]
  },
  {
   "cell_type": "markdown",
   "id": "db9d99c4",
   "metadata": {},
   "source": [
    "### Avec tweet stemm"
   ]
  },
  {
   "cell_type": "code",
   "execution_count": 61,
   "id": "d1cd4f03",
   "metadata": {},
   "outputs": [
    {
     "name": "stdout",
     "output_type": "stream",
     "text": [
      "Epoch 1/10\n",
      "71/71 [==============================] - 212s 3s/step - loss: 0.6995 - accuracy: 0.5329\n",
      "Epoch 2/10\n",
      "71/71 [==============================] - 211s 3s/step - loss: 0.6766 - accuracy: 0.5711\n",
      "Epoch 3/10\n",
      "71/71 [==============================] - 208s 3s/step - loss: 0.6720 - accuracy: 0.5858\n",
      "Epoch 4/10\n",
      "71/71 [==============================] - 209s 3s/step - loss: 0.6610 - accuracy: 0.6022\n",
      "Epoch 5/10\n",
      "71/71 [==============================] - 208s 3s/step - loss: 0.6480 - accuracy: 0.6151\n",
      "Epoch 6/10\n",
      "71/71 [==============================] - 209s 3s/step - loss: 0.6437 - accuracy: 0.6240\n",
      "Epoch 7/10\n",
      "71/71 [==============================] - 208s 3s/step - loss: 0.6383 - accuracy: 0.6413\n",
      "Epoch 8/10\n",
      "71/71 [==============================] - 209s 3s/step - loss: 0.6384 - accuracy: 0.6276\n",
      "Epoch 9/10\n",
      "71/71 [==============================] - 208s 3s/step - loss: 0.6352 - accuracy: 0.6391\n",
      "Epoch 10/10\n",
      "71/71 [==============================] - 208s 3s/step - loss: 0.6301 - accuracy: 0.6507\n",
      "24/24 [==============================] - 70s 3s/step - loss: 0.6029 - accuracy: 0.6773\n",
      "24/24 [==============================] - 70s 3s/step\n",
      "CPU times: user 4h 13min 36s, sys: 3min 55s, total: 4h 17min 31s\n",
      "Wall time: 37min 10s\n"
     ]
    }
   ],
   "source": [
    "%%time\n",
    "y_pred, y_test, model_BERT_stemm = bert_model('tweet_stemm')"
   ]
  },
  {
   "cell_type": "code",
   "execution_count": 62,
   "id": "3b4d0ddc",
   "metadata": {},
   "outputs": [
    {
     "data": {
      "image/png": "[encoded data removed]",
      "text/plain": [
       "<Figure size 432x432 with 2 Axes>"
      ]
     },
     "metadata": {
      "needs_background": "light"
     },
     "output_type": "display_data"
    }
   ],
   "source": [
    "cnf_matrix = confusion_matrix(y_test, y_pred)\n",
    "plt.figure(figsize=(6, 6))\n",
    "plot_confusion_matrix(cnf_matrix,\n",
    "                      classes=df_bert.sentiment.unique(),\n",
    "                      title=\"Confusion matrix\")\n",
    "plt.show()"
   ]
  },
  {
   "cell_type": "code",
   "execution_count": 63,
   "id": "ce4f63f8",
   "metadata": {},
   "outputs": [
    {
     "name": "stderr",
     "output_type": "stream",
     "text": [
      "/tmp/ipykernel_2340/718858219.py:8: FutureWarning: The frame.append method is deprecated and will be removed from pandas in a future version. Use pandas.concat instead.\n",
      "  df = df_classement_model.append(\n"
     ]
    },
    {
     "data": {
      "text/html": [
       "<div>\n",
       "<style scoped>\n",
       "    .dataframe tbody tr th:only-of-type {\n",
       "        vertical-align: middle;\n",
       "    }\n",
       "\n",
       "    .dataframe tbody tr th {\n",
       "        vertical-align: top;\n",
       "    }\n",
       "\n",
       "    .dataframe thead th {\n",
       "        text-align: right;\n",
       "    }\n",
       "</style>\n",
       "<table border=\"1\" class=\"dataframe\">\n",
       "  <thead>\n",
       "    <tr style=\"text-align: right;\">\n",
       "      <th></th>\n",
       "      <th>model</th>\n",
       "      <th>f1_score</th>\n",
       "      <th>accuracy</th>\n",
       "    </tr>\n",
       "  </thead>\n",
       "  <tbody>\n",
       "    <tr>\n",
       "      <th>0</th>\n",
       "      <td>W2V+LSTM+brute</td>\n",
       "      <td>0.564417</td>\n",
       "      <td>0.526667</td>\n",
       "    </tr>\n",
       "    <tr>\n",
       "      <th>1</th>\n",
       "      <td>W2V+LSTM+traite</td>\n",
       "      <td>0.461538</td>\n",
       "      <td>0.533333</td>\n",
       "    </tr>\n",
       "    <tr>\n",
       "      <th>2</th>\n",
       "      <td>W2V+LSTM+stemm</td>\n",
       "      <td>0.521886</td>\n",
       "      <td>0.526667</td>\n",
       "    </tr>\n",
       "    <tr>\n",
       "      <th>3</th>\n",
       "      <td>W2V+LSTM+lemm</td>\n",
       "      <td>0.400810</td>\n",
       "      <td>0.506667</td>\n",
       "    </tr>\n",
       "    <tr>\n",
       "      <th>4</th>\n",
       "      <td>GLOVE+LSTM+brute</td>\n",
       "      <td>0.691803</td>\n",
       "      <td>0.686667</td>\n",
       "    </tr>\n",
       "    <tr>\n",
       "      <th>5</th>\n",
       "      <td>GLOVE+LSTM+traite</td>\n",
       "      <td>0.716172</td>\n",
       "      <td>0.713333</td>\n",
       "    </tr>\n",
       "    <tr>\n",
       "      <th>6</th>\n",
       "      <td>GLOVE+LSTM+stemm</td>\n",
       "      <td>0.688889</td>\n",
       "      <td>0.673333</td>\n",
       "    </tr>\n",
       "    <tr>\n",
       "      <th>7</th>\n",
       "      <td>GLOVE+LSTM+lemm</td>\n",
       "      <td>0.716049</td>\n",
       "      <td>0.693333</td>\n",
       "    </tr>\n",
       "    <tr>\n",
       "      <th>8</th>\n",
       "      <td>BERT+brute</td>\n",
       "      <td>0.609756</td>\n",
       "      <td>0.658667</td>\n",
       "    </tr>\n",
       "    <tr>\n",
       "      <th>9</th>\n",
       "      <td>BERT+traite</td>\n",
       "      <td>0.473684</td>\n",
       "      <td>0.626667</td>\n",
       "    </tr>\n",
       "    <tr>\n",
       "      <th>10</th>\n",
       "      <td>BERT+stemm</td>\n",
       "      <td>0.725624</td>\n",
       "      <td>0.677333</td>\n",
       "    </tr>\n",
       "  </tbody>\n",
       "</table>\n",
       "</div>"
      ],
      "text/plain": [
       "                model  f1_score  accuracy\n",
       "0      W2V+LSTM+brute  0.564417  0.526667\n",
       "1     W2V+LSTM+traite  0.461538  0.533333\n",
       "2      W2V+LSTM+stemm  0.521886  0.526667\n",
       "3       W2V+LSTM+lemm  0.400810  0.506667\n",
       "4    GLOVE+LSTM+brute  0.691803  0.686667\n",
       "5   GLOVE+LSTM+traite  0.716172  0.713333\n",
       "6    GLOVE+LSTM+stemm  0.688889  0.673333\n",
       "7     GLOVE+LSTM+lemm  0.716049  0.693333\n",
       "8          BERT+brute  0.609756  0.658667\n",
       "9         BERT+traite  0.473684  0.626667\n",
       "10         BERT+stemm  0.725624  0.677333"
      ]
     },
     "execution_count": 63,
     "metadata": {},
     "output_type": "execute_result"
    }
   ],
   "source": [
    "df_classement_model = df_classement(\"BERT+stemm\", y_test, y_pred)\n",
    "df_classement_model"
   ]
  },
  {
   "cell_type": "markdown",
   "id": "546b33df",
   "metadata": {},
   "source": [
    "### Avec tweet lemm"
   ]
  },
  {
   "cell_type": "code",
   "execution_count": 64,
   "id": "47680dfd",
   "metadata": {},
   "outputs": [
    {
     "name": "stdout",
     "output_type": "stream",
     "text": [
      "Epoch 1/10\n",
      "71/71 [==============================] - 212s 3s/step - loss: 0.7278 - accuracy: 0.5000\n",
      "Epoch 2/10\n",
      "71/71 [==============================] - 212s 3s/step - loss: 0.6824 - accuracy: 0.5622\n",
      "Epoch 3/10\n",
      "71/71 [==============================] - 210s 3s/step - loss: 0.6840 - accuracy: 0.5493\n",
      "Epoch 4/10\n",
      "71/71 [==============================] - 211s 3s/step - loss: 0.6724 - accuracy: 0.5916\n",
      "Epoch 5/10\n",
      "71/71 [==============================] - 214s 3s/step - loss: 0.6579 - accuracy: 0.6053\n",
      "Epoch 6/10\n",
      "71/71 [==============================] - 223s 3s/step - loss: 0.6495 - accuracy: 0.6231\n",
      "Epoch 7/10\n",
      "71/71 [==============================] - 215s 3s/step - loss: 0.6368 - accuracy: 0.6418\n",
      "Epoch 8/10\n",
      "71/71 [==============================] - 214s 3s/step - loss: 0.6302 - accuracy: 0.6489\n",
      "Epoch 9/10\n",
      "71/71 [==============================] - 212s 3s/step - loss: 0.6284 - accuracy: 0.6382\n",
      "Epoch 10/10\n",
      "71/71 [==============================] - 213s 3s/step - loss: 0.6263 - accuracy: 0.6591\n",
      "24/24 [==============================] - 70s 3s/step - loss: 0.6215 - accuracy: 0.6640\n",
      "24/24 [==============================] - 70s 3s/step\n",
      "CPU times: user 4h 15min 1s, sys: 5min 47s, total: 4h 20min 49s\n",
      "Wall time: 37min 56s\n"
     ]
    }
   ],
   "source": [
    "%%time\n",
    "y_pred, y_test, model_BERT_lemm = bert_model('tweet_lemm')"
   ]
  },
  {
   "cell_type": "code",
   "execution_count": 65,
   "id": "342b3f88",
   "metadata": {},
   "outputs": [
    {
     "data": {
      "image/png": "[encoded data removed]",
      "text/plain": [
       "<Figure size 432x432 with 2 Axes>"
      ]
     },
     "metadata": {
      "needs_background": "light"
     },
     "output_type": "display_data"
    }
   ],
   "source": [
    "cnf_matrix = confusion_matrix(y_test, y_pred)\n",
    "plt.figure(figsize=(6, 6))\n",
    "plot_confusion_matrix(cnf_matrix,\n",
    "                      classes=df_bert.sentiment.unique(),\n",
    "                      title=\"Confusion matrix\")\n",
    "plt.show()"
   ]
  },
  {
   "cell_type": "code",
   "execution_count": 66,
   "id": "2589515c",
   "metadata": {},
   "outputs": [
    {
     "name": "stderr",
     "output_type": "stream",
     "text": [
      "/tmp/ipykernel_2340/718858219.py:8: FutureWarning: The frame.append method is deprecated and will be removed from pandas in a future version. Use pandas.concat instead.\n",
      "  df = df_classement_model.append(\n"
     ]
    },
    {
     "data": {
      "text/html": [
       "<div>\n",
       "<style scoped>\n",
       "    .dataframe tbody tr th:only-of-type {\n",
       "        vertical-align: middle;\n",
       "    }\n",
       "\n",
       "    .dataframe tbody tr th {\n",
       "        vertical-align: top;\n",
       "    }\n",
       "\n",
       "    .dataframe thead th {\n",
       "        text-align: right;\n",
       "    }\n",
       "</style>\n",
       "<table border=\"1\" class=\"dataframe\">\n",
       "  <thead>\n",
       "    <tr style=\"text-align: right;\">\n",
       "      <th></th>\n",
       "      <th>model</th>\n",
       "      <th>f1_score</th>\n",
       "      <th>accuracy</th>\n",
       "    </tr>\n",
       "  </thead>\n",
       "  <tbody>\n",
       "    <tr>\n",
       "      <th>0</th>\n",
       "      <td>W2V+LSTM+brute</td>\n",
       "      <td>0.564417</td>\n",
       "      <td>0.526667</td>\n",
       "    </tr>\n",
       "    <tr>\n",
       "      <th>1</th>\n",
       "      <td>W2V+LSTM+traite</td>\n",
       "      <td>0.461538</td>\n",
       "      <td>0.533333</td>\n",
       "    </tr>\n",
       "    <tr>\n",
       "      <th>2</th>\n",
       "      <td>W2V+LSTM+stemm</td>\n",
       "      <td>0.521886</td>\n",
       "      <td>0.526667</td>\n",
       "    </tr>\n",
       "    <tr>\n",
       "      <th>3</th>\n",
       "      <td>W2V+LSTM+lemm</td>\n",
       "      <td>0.400810</td>\n",
       "      <td>0.506667</td>\n",
       "    </tr>\n",
       "    <tr>\n",
       "      <th>4</th>\n",
       "      <td>GLOVE+LSTM+brute</td>\n",
       "      <td>0.691803</td>\n",
       "      <td>0.686667</td>\n",
       "    </tr>\n",
       "    <tr>\n",
       "      <th>5</th>\n",
       "      <td>GLOVE+LSTM+traite</td>\n",
       "      <td>0.716172</td>\n",
       "      <td>0.713333</td>\n",
       "    </tr>\n",
       "    <tr>\n",
       "      <th>6</th>\n",
       "      <td>GLOVE+LSTM+stemm</td>\n",
       "      <td>0.688889</td>\n",
       "      <td>0.673333</td>\n",
       "    </tr>\n",
       "    <tr>\n",
       "      <th>7</th>\n",
       "      <td>GLOVE+LSTM+lemm</td>\n",
       "      <td>0.716049</td>\n",
       "      <td>0.693333</td>\n",
       "    </tr>\n",
       "    <tr>\n",
       "      <th>8</th>\n",
       "      <td>BERT+brute</td>\n",
       "      <td>0.609756</td>\n",
       "      <td>0.658667</td>\n",
       "    </tr>\n",
       "    <tr>\n",
       "      <th>9</th>\n",
       "      <td>BERT+traite</td>\n",
       "      <td>0.473684</td>\n",
       "      <td>0.626667</td>\n",
       "    </tr>\n",
       "    <tr>\n",
       "      <th>10</th>\n",
       "      <td>BERT+stemm</td>\n",
       "      <td>0.725624</td>\n",
       "      <td>0.677333</td>\n",
       "    </tr>\n",
       "    <tr>\n",
       "      <th>11</th>\n",
       "      <td>BERT+lemm</td>\n",
       "      <td>0.673575</td>\n",
       "      <td>0.664000</td>\n",
       "    </tr>\n",
       "  </tbody>\n",
       "</table>\n",
       "</div>"
      ],
      "text/plain": [
       "                model  f1_score  accuracy\n",
       "0      W2V+LSTM+brute  0.564417  0.526667\n",
       "1     W2V+LSTM+traite  0.461538  0.533333\n",
       "2      W2V+LSTM+stemm  0.521886  0.526667\n",
       "3       W2V+LSTM+lemm  0.400810  0.506667\n",
       "4    GLOVE+LSTM+brute  0.691803  0.686667\n",
       "5   GLOVE+LSTM+traite  0.716172  0.713333\n",
       "6    GLOVE+LSTM+stemm  0.688889  0.673333\n",
       "7     GLOVE+LSTM+lemm  0.716049  0.693333\n",
       "8          BERT+brute  0.609756  0.658667\n",
       "9         BERT+traite  0.473684  0.626667\n",
       "10         BERT+stemm  0.725624  0.677333\n",
       "11          BERT+lemm  0.673575  0.664000"
      ]
     },
     "execution_count": 66,
     "metadata": {},
     "output_type": "execute_result"
    }
   ],
   "source": [
    "df_classement_model = df_classement(\"BERT+lemm\", y_test, y_pred)\n",
    "df_classement_model"
   ]
  },
  {
   "cell_type": "markdown",
   "id": "ff6fdd2c",
   "metadata": {},
   "source": [
    "# Comparatif"
   ]
  },
  {
   "cell_type": "code",
   "execution_count": 67,
   "id": "e9d8d0cd",
   "metadata": {},
   "outputs": [
    {
     "data": {
      "text/plain": [
       "<AxesSubplot:ylabel='model'>"
      ]
     },
     "execution_count": 67,
     "metadata": {},
     "output_type": "execute_result"
    },
    {
     "data": {
      "image/png": "[encoded data removed]",
      "text/plain": [
       "<Figure size 1152x792 with 1 Axes>"
      ]
     },
     "metadata": {
      "needs_background": "light"
     },
     "output_type": "display_data"
    }
   ],
   "source": [
    "df_classement_model.plot.barh(x='model', figsize=(16, 11))"
   ]
  },
  {
   "cell_type": "code",
   "execution_count": 68,
   "id": "eea5794f",
   "metadata": {},
   "outputs": [
    {
     "name": "stdout",
     "output_type": "stream",
     "text": [
      "4:33:44.278573\n"
     ]
    }
   ],
   "source": [
    "b = datetime.now()\n",
    "print(b - a)"
   ]
  },
  {
   "cell_type": "markdown",
   "id": "3c8ce832",
   "metadata": {},
   "source": [
    "Exportons nos modèles pour le déploiement sur Heroku."
   ]
  },
  {
   "cell_type": "code",
   "execution_count": 70,
   "id": "869a9381",
   "metadata": {},
   "outputs": [],
   "source": [
    "model_GLOVE_LSTM_brute.save(\n",
    "    'deploiment/twitter-sentiment-analysis-main/twitter-sentiment-analysis-main/GLOVE_LSTM_brute',\n",
    "    save_format='h5')\n",
    "pickle.dump(\n",
    "    tokenizer_glove_brute,\n",
    "    open(\n",
    "        \"deploiment/twitter-sentiment-analysis-main/twitter-sentiment-analysis-main/tokenizer_GLOVE_LSTM_brute.pkl\",\n",
    "        \"wb\"),\n",
    "    protocol=0)"
   ]
  },
  {
   "cell_type": "code",
   "execution_count": 71,
   "id": "5644a1c4",
   "metadata": {},
   "outputs": [],
   "source": [
    "model_GLOVE_LSTM_traite.save(\n",
    "    'deploiment/twitter-sentiment-analysis-main/twitter-sentiment-analysis-main/GLOVE_LSTM_traite',\n",
    "    save_format='h5')\n",
    "pickle.dump(\n",
    "    tokenizer_glove_traite,\n",
    "    open(\n",
    "        \"deploiment/twitter-sentiment-analysis-main/twitter-sentiment-analysis-main/tokenizer_GLOVE_LSTM_traite.pkl\",\n",
    "        \"wb\"),\n",
    "    protocol=0)"
   ]
  },
  {
   "cell_type": "code",
   "execution_count": 72,
   "id": "bbfe4da4",
   "metadata": {},
   "outputs": [],
   "source": [
    "model_GLOVE_LSTM_lemm.save(\n",
    "    'deploiment/twitter-sentiment-analysis-main/twitter-sentiment-analysis-main/GLOVE_LSTM_lemm.h5'\n",
    ")\n",
    "pickle.dump(\n",
    "    tokenizer_glove_lemm,\n",
    "    open(\n",
    "        \"deploiment/twitter-sentiment-analysis-main/twitter-sentiment-analysis-main/tokenizer_GLOVE_LSTM_lemm.pkl\",\n",
    "        \"wb\"),\n",
    "    protocol=0)"
   ]
  },
  {
   "cell_type": "code",
   "execution_count": 73,
   "id": "9484424f",
   "metadata": {},
   "outputs": [],
   "source": [
    "model_W2V_LSTM_brute.save(\n",
    "    'deploiment/twitter-sentiment-analysis-main/twitter-sentiment-analysis-main/W2V_LSTM_brute',\n",
    "    save_format='h5')\n",
    "pickle.dump(\n",
    "    tokenizer_w2v_brute,\n",
    "    open(\n",
    "        \"deploiment/twitter-sentiment-analysis-main/twitter-sentiment-analysis-main/tokenizer_w2v_brute.pkl\",\n",
    "        \"wb\"),\n",
    "    protocol=0)"
   ]
  },
  {
   "cell_type": "markdown",
   "id": "1106086e",
   "metadata": {},
   "source": [
    "# Conclusion\n",
    "\n",
    "🎉 Nous avons maintenant terminé notre notebook sur le modèle avancé ! 🚀\n",
    "\n",
    "💡 Au cours de ce projet, nous avons exploré différentes approches de modélisation de données textuelles pour l'analyse de sentiments sur des tweets. Après avoir effectué des prétraitements tels que le nettoyage des données, la suppression des stop words et la lemmatisation, nous avons entraîné plusieurs modèles pour évaluer leur performance.\n",
    "\n",
    "✨ Parmi les modèles que nous avons testés, le modèle qui s'est révélé le plus efficace en termes de précision et de rappel est le modèle **GLOVE | LSTM | tweet traite**. Il a réussi à capturer les informations contextuelles et séquentielles dans les tweets, ce qui a amélioré la qualité des prédictions.\n",
    "\n",
    "❌ D'un autre côté, le modèle BERT n'a pas donné de bons résultats sur la quantité de données que nous avons utilisée. Nous avons découvert que les performances du modèle BERT sont généralement liées à la quantité de données d'entraînement. Vous pouvez consulter l'article suivant pour plus d'informations à ce sujet : [Article sur les performances de BERT](https://arxiv.org/abs/2009.05451).\n",
    "\n",
    "📚 Il est important de noter que ce notebook est un point de départ pour l'analyse de sentiments sur des tweets. Il existe de nombreuses autres techniques et modèles que vous pouvez explorer pour améliorer davantage les performances et l'efficacité de votre modèle.\n",
    "\n",
    "✅ En conclusion, nous avons acquis une expérience précieuse dans le domaine de l'analyse de sentiments sur les médias sociaux et nous sommes prêts à poursuivre nos projets de traitement du langage naturel !\n",
    "\n",
    "🚀 Vous retrouver le dépôt de l'application ici : [App](https://github.com/reda76/air-paradis-NLP-flask).\n",
    "\n",
    "🙌 Merci d'avoir suivi ce notebook jusqu'à la fin, et n'oubliez pas de continuer à explorer et à apprendre de nouvelles techniques pour rester à jour dans le domaine de l'IA et du NLP !"
   ]
  }
 ],
 "metadata": {
  "kernelspec": {
   "display_name": "Python (P4)",
   "language": "python",
   "name": "p4"
  },
  "language_info": {
   "codemirror_mode": {
    "name": "ipython",
    "version": 3
   },
   "file_extension": ".py",
   "mimetype": "text/x-python",
   "name": "python",
   "nbconvert_exporter": "python",
   "pygments_lexer": "ipython3",
   "version": "3.10.11"
  },
  "toc": {
   "base_numbering": 1,
   "nav_menu": {},
   "number_sections": true,
   "sideBar": true,
   "skip_h1_title": false,
   "title_cell": "Table of Contents",
   "title_sidebar": "Contents",
   "toc_cell": true,
   "toc_position": {
    "height": "calc(100% - 180px)",
    "left": "10px",
    "top": "150px",
    "width": "384px"
   },
   "toc_section_display": true,
   "toc_window_display": true
  },
  "varInspector": {
   "cols": {
    "lenName": 16,
    "lenType": 16,
    "lenVar": 40
   },
   "kernels_config": {
    "python": {
     "delete_cmd_postfix": "",
     "delete_cmd_prefix": "del ",
     "library": "var_list.py",
     "varRefreshCmd": "print(var_dic_list())"
    },
    "r": {
     "delete_cmd_postfix": ") ",
     "delete_cmd_prefix": "rm(",
     "library": "var_list.r",
     "varRefreshCmd": "cat(var_dic_list()) "
    }
   },
   "types_to_exclude": [
    "module",
    "function",
    "builtin_function_or_method",
    "instance",
    "_Feature"
   ],
   "window_display": false
  }
 },
 "nbformat": 4,
 "nbformat_minor": 5
}
